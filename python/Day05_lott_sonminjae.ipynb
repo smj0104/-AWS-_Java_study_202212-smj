{
 "cells": [
  {
   "cell_type": "code",
   "execution_count": 1,
   "id": "e28777e7",
   "metadata": {},
   "outputs": [
    {
     "name": "stdout",
     "output_type": "stream",
     "text": [
      "[['5', '17', '26', '27', '35', '38', '1'], ['21', '26', '30', '32', '33', '35', '44'], ['6', '12', '31', '35', '38', '43', '17']]\n"
     ]
    },
    {
     "data": {
      "text/plain": [
       "1"
      ]
     },
     "execution_count": 1,
     "metadata": {},
     "output_type": "execute_result"
    }
   ],
   "source": [
    "csv_data = []\n",
    "with open('lott.CSV') as f:\n",
    "    for line in f:\n",
    "        csv_data.append(line[0:-1].split(','))\n",
    "        #csv_data.append(line.replace('\\n',' ').split(','))\n",
    "print(csv_data[:3])\n",
    "int(csv_data[0][-1])\n"
   ]
  },
  {
   "cell_type": "code",
   "execution_count": 34,
   "id": "3ad961da",
   "metadata": {
    "scrolled": false
   },
   "outputs": [
    {
     "name": "stdout",
     "output_type": "stream",
     "text": [
      "43 182\n",
      "37 167\n",
      "4 170\n",
      "23 143\n",
      "35 165\n",
      "22 135\n",
      "30 154\n",
      "27 178\n",
      "33 174\n",
      "34 181\n",
      "6 164\n",
      "41 146\n",
      "31 166\n",
      "25 152\n",
      "18 172\n",
      "8 156\n",
      "12 178\n",
      "40 165\n",
      "11 166\n",
      "42 160\n",
      "7 164\n",
      "29 146\n",
      "32 150\n",
      "10 165\n",
      "15 163\n",
      "2 170\n",
      "44 162\n",
      "45 163\n",
      "21 164\n",
      "13 175\n",
      "26 171\n",
      "17 180\n",
      "38 166\n",
      "3 165\n",
      "39 173\n",
      "24 166\n",
      "5 161\n",
      "28 147\n",
      "14 170\n",
      "9 137\n",
      "1 176\n",
      "20 172\n",
      "16 164\n",
      "19 158\n",
      "36 162\n"
     ]
    },
    {
     "data": {
      "text/plain": [
       "176"
      ]
     },
     "execution_count": 34,
     "metadata": {},
     "output_type": "execute_result"
    }
   ],
   "source": [
    "# 전체 회차를 통틀어 빈도수 (mode): 숫자별 카운트 (몇번 나왔는가)\n",
    "# 회차별  - 평균값, 표준편차\n",
    "#print(csv_data)\n",
    "\n",
    "\n",
    "list_flat = []\n",
    "for i in csv_data:\n",
    "    list_flat = list_flat + i\n",
    "\n",
    "    #print(list_flat)\n",
    "    \n",
    "#for a in set(list_flat):\n",
    "    #print(a,list_flat.count(a))\n",
    "\n",
    "    \n",
    "#def stdev(num_list):\n",
    "    #return math.sqrt(var(num_list))\n",
    "\n",
    "\n",
    "\n"
   ]
  }
 ],
 "metadata": {
  "kernelspec": {
   "display_name": "Python 3 (ipykernel)",
   "language": "python",
   "name": "python3"
  },
  "language_info": {
   "codemirror_mode": {
    "name": "ipython",
    "version": 3
   },
   "file_extension": ".py",
   "mimetype": "text/x-python",
   "name": "python",
   "nbconvert_exporter": "python",
   "pygments_lexer": "ipython3",
   "version": "3.10.9"
  }
 },
 "nbformat": 4,
 "nbformat_minor": 5
}

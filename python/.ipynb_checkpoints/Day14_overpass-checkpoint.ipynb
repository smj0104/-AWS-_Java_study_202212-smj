{
 "cells": [
  {
   "cell_type": "code",
   "execution_count": 92,
   "id": "32e200b3",
   "metadata": {},
   "outputs": [],
   "source": [
    "import numpy as np\n",
    "import matplotlib.pyplot as plt\n",
    "\n",
    "def my_split(s):\n",
    "    block_start = False\n",
    "    start_index = 0\n",
    "    ret_list=[]\n",
    "    for i, c in enumerate(s):\n",
    "        if block_start==False:\n",
    "            if c==',':\n",
    "                ret_list.append(s[start_index:i])\n",
    "                start_index=i+1\n",
    "            elif c=='\"':\n",
    "                block_start=True\n",
    "                start_index = i\n",
    "        else:\n",
    "            if c=='\"':\n",
    "                block_start=False\n",
    "    if s[-1]!=',':\n",
    "        ret_list.append(s[start_index:])\n",
    "    return ret_list\n",
    "\n",
    "def split_len(data_list):\n",
    "    len_list=[]\n",
    "    for e in data_list:\n",
    "        len_list.append(len(e))\n",
    "    print(set(len_list))\n",
    "    if len(set(len_list))>1:\n",
    "        for i in set(len_list):\n",
    "            print(i, len_list.count(i))\n",
    "    return set(len_list)  # set을 반환하도록 일시적으로 바꿈\n"
   ]
  },
  {
   "cell_type": "code",
   "execution_count": 6,
   "id": "d2da988d",
   "metadata": {},
   "outputs": [
    {
     "name": "stdout",
     "output_type": "stream",
     "text": [
      "(0, '육교명')\n",
      "(1, '도로종류')\n",
      "(2, '도로노선번호')\n",
      "(3, '도로노선명')\n",
      "(4, '소재지도로명주소')\n",
      "(5, '위도')\n",
      "(6, '경도')\n",
      "(7, '육교연장')\n",
      "(8, '육교높이')\n",
      "(9, '허용통행하중')\n",
      "(10, '통행제한높이')\n",
      "(11, '육교폭')\n",
      "(12, '난간높이')\n",
      "(13, '조명개수')\n",
      "(14, '장애인편의시설설치여부')\n",
      "(15, '장애인편의시설종류')\n",
      "(16, '장애인편의시설수량')\n",
      "(17, '부대시설종류')\n",
      "(18, '부대시설수량')\n",
      "(19, '육교준공일자')\n",
      "(20, '내진설계적용여부')\n",
      "(21, '안전등급')\n",
      "(22, '사용제한구분')\n",
      "(23, '육교보수보강내역')\n",
      "(24, '최종안전점검유형')\n",
      "(25, '최종안전점검일자')\n",
      "(26, '관리기관명')\n",
      "(27, '데이터기준일자')\n",
      "(28, '제공기관코드')\n",
      "(29, '제공기관명')\n"
     ]
    }
   ],
   "source": [
    "csv_data=[]\n",
    "with open('전국육교정보표준데이터.csv') as f:\n",
    "    for line in f:\n",
    "        csv_data.append(my_split(line[:-1]))\n",
    "#print(csv_data[:3])\\\n",
    "\n",
    "for e in enumerate(csv_data[0]):\n",
    "    print(e)\n",
    "np_data = np.array(csv_data)"
   ]
  },
  {
   "cell_type": "code",
   "execution_count": 18,
   "id": "3b674dba",
   "metadata": {},
   "outputs": [
    {
     "name": "stdout",
     "output_type": "stream",
     "text": [
      "[False False  True ...  True  True  True]\n",
      "[' ' 'N' 'Y'] [357 695 166]\n"
     ]
    }
   ],
   "source": [
    "#내진설계\n",
    "sub_data = np_data[1:,20]\n",
    "#print(sub_data)\n",
    "\n",
    "filter1 = sub_data!=' '  #boolist  공백과 같으면 false\n",
    "print(filter1)\n",
    "sub_data_f = sub_data[filter1]\n",
    "\n",
    "val, cnt = np.unique(sub_data, return_counts=True)\n",
    "print(val, cnt)\n",
    "#cnt[1:]*100/np.sum(cnt[1:])"
   ]
  },
  {
   "cell_type": "code",
   "execution_count": 34,
   "id": "1ab8deac",
   "metadata": {},
   "outputs": [
    {
     "name": "stdout",
     "output_type": "stream",
     "text": [
      "['보통' '보통' '양호' ... '양호' '양호' '양호']\n",
      "['미흡' '보통' '불량' '양호' '우수'] [ 25 390   1 795   7]\n",
      "[ 2.05254516 32.01970443  0.08210181 65.27093596  0.57471264]\n",
      "(5,) (5, 1)\n",
      "(5,) (5, 1)\n",
      "[['미흡' '25']\n",
      " ['보통' '390']\n",
      " ['불량' '1']\n",
      " ['양호' '795']\n",
      " ['우수' '7']]\n",
      "[['명륜역 육교' '시도' '0' '중앙대로' '부산광역시 동래구 중앙대로 1414' '35.212111' '129.078911'\n",
      "  '112' '4.5' '' '4.5' '3' '1.2' '' 'N' '없음' '' '' '' '2009-02-12' ' '\n",
      "  '우수' '제한없음' '' '정기점검' '2022-09-29' '동래구청' '2022-11-14' '3300000'\n",
      "  '부산광역시 동래구']\n",
      " ['금암공원 인도교' '지방도' '730' '쑥고개로' '전라북도 남원시 쑥고개로 41' '35.3978410614'\n",
      "  '127.3800269564' '46' '8.5' '3.5' '4.8' '3.5' '1.5' '186' 'Y' '점자블록'\n",
      "  '1' '엘리베이터+캐노피' '2' '2022-05-17' 'N' '우수' '제한없음' '없음' '정기점검'\n",
      "  '2022-11-25' '전라북도 남원시청' '2022-11-29' '4700000' '전라북도 남원시']\n",
      " ['덕풍북로 보도육교' '시도' '188' '덕풍북로' '경기도 하남시 덕풍북로 100' '37.5543847'\n",
      "  '127.2013921' '82.2' '' '' '4.5' '' '' '' 'Y' '엘리베이터+경사로' '' '' '' ''\n",
      "  'Y' '우수' '제한없음' '' '정기점검' '2022-10-13' '경기도 하남시청' '2022-12-19'\n",
      "  '4040000' '경기도 하남시']\n",
      " ['덕풍동로 보도육교' '기타' '도시계획도로' '덕풍동로' '경기도 하남시 덕풍동로 110' '37.5511015'\n",
      "  '127.2096552' '61' '' '' '4.5' '' '' '' 'Y' '엘리베이터+경사로' '' '' '' '' 'Y'\n",
      "  '우수' '제한없음' '' '정기점검' '2022-10-13' '경기도 하남시청' '2022-12-19' '4040000'\n",
      "  '경기도 하남시']\n",
      " ['덕풍남로 보도육교' '시도' '186' '덕풍남로' '경기도 하남시 덕풍북로 260' '37.54855826'\n",
      "  '127.209193' '53.7' '' '' '4.5' '' '' '' 'Y' '엘리베이터+경사로' '' '' '' ''\n",
      "  'Y' '우수' '제한없음' '' '정기점검' '2022-10-13' '경기도 하남시청' '2022-12-19'\n",
      "  '4040000' '경기도 하남시']\n",
      " ['조정대로 보도육교(1)' '시도' '181' '조정대로' '경기도 하남시 조정대로 150' '37.5535257'\n",
      "  '127.1946694' '39' '' '' '4.5' '' '' '' 'Y' '엘리베이터' '' '' '' '' 'Y'\n",
      "  '우수' '제한없음' '' '정기점검' '2022-10-13' '경기도 하남시청' '2022-12-19' '4040000'\n",
      "  '경기도 하남시']\n",
      " ['미사대로 보도육교(1)' '시도' '176' '미사대로' '경기도 하남시 미사대로 505' '37.55362591'\n",
      "  '127.2132296' '46' '' '' '4.7' '' '' '' 'Y' '엘리베이터+경사로' '' '' '' '' 'Y'\n",
      "  '우수' '제한없음' '' '정기점검' '2022-10-13' '경기도 하남시청' '2022-12-19' '4040000'\n",
      "  '경기도 하남시']]\n"
     ]
    }
   ],
   "source": [
    "# 안전등급별 육교 갯수\n",
    "sub_data = np_data[1:, 21]\n",
    "print(sub_data)\n",
    "\n",
    "val, cnt = np.unique(sub_data, return_counts = True)\n",
    "print(val, cnt)\n",
    "\n",
    "cnt_percent = (cnt*100)/np.sum(cnt)\n",
    "print(cnt_percent)\n",
    "#expand dims\n",
    "#np.concatenate(val,cnt)\n",
    "\n",
    "val2 = np.expand_dims(val,1)\n",
    "print(val.shape, val2.shape)\n",
    "cnt2 =cnt[:, np.newaxis]\n",
    "print(cnt.shape, cnt2.shape)\n",
    "\n",
    "cnt_percent2 = cnt_percent[:, np.newaxis]\n",
    "\n",
    "jdata = np.concatenate((val2,cnt2), axis = 1)  # 숫자를 문자열로 바꿔서 넣어줌\n",
    "print(jdata)\n",
    "\n",
    "\n",
    "#b_filter = sub_data!= '불량'\n",
    "#print(b_filter1)\n",
    "#b_filter1 = sub_data[b_filter]\n",
    "\n",
    "filter1 = (np_data[:,21]== '우수')\n",
    "print(np_data[filter1])"
   ]
  },
  {
   "cell_type": "code",
   "execution_count": 59,
   "id": "d45b8416",
   "metadata": {
    "scrolled": true
   },
   "outputs": [
    {
     "name": "stdout",
     "output_type": "stream",
     "text": [
      "['육교연장' '육교높이' '허용통행하중' '통행제한높이']\n",
      "*** 육교연장\n",
      "최소:  5.3\n",
      "최대:  693.6\n",
      "평균:  50.67291845493562\n",
      "표준편차:  40.366545219300704\n",
      "*** 육교높이\n",
      "최소:  0.6\n",
      "최대:  150.0\n",
      "평균:  9.39847870967742\n",
      "표준편차:  16.43855274916153\n",
      "*** 허용통행하중\n",
      "최소:  0.34\n",
      "최대:  225.0\n",
      "평균:  7.741186915887851\n",
      "표준편차:  21.923480558452354\n",
      "*** 통행제한높이\n",
      "최소:  1.4\n",
      "최대:  50.0\n",
      "평균:  4.913341750841751\n",
      "표준편차:  2.3497046582175938\n",
      "[['안곡육교' '기타' '' '중산로' '경기도 고양시 일산동구 중산로 147-1' '37.685252' '126.7808247'\n",
      "  '150' '150' '' '4.5' '4.9' '' '' 'Y' '경사로' '1' '없음' '' '2006-05-29' 'N'\n",
      "  '양호' '제한없음' '' '정기점검' '2022-05-16' '경기도 고양시청' '2022-11-10' '3940000'\n",
      "  '경기도 고양시']]\n"
     ]
    }
   ],
   "source": [
    "#육교연장, 허용통행하중, 통행제한높이 : 최소, 최대, 평균, 표준편차\n",
    "print(np_data[0,7:11])\n",
    "#sub_data = np_data[:, 7:11]\n",
    "\n",
    "\n",
    "\n",
    "for i in range(7,11):\n",
    "    print('***', np_data[0,i])\n",
    "    sub_data = np_data[1:, i]\n",
    "    filter1 = (sub_data!='') & (sub_data!='0') & (sub_data!='0.0')\n",
    "    sub_data_f = sub_data[filter1].astype(np.float64)\n",
    "#print(np.unique(sub_data))\n",
    "    print('최소: ', np.min(sub_data_f))\n",
    "    print('최대: ', np.max(sub_data_f))\n",
    "    print('평균: ', np.mean(sub_data_f))\n",
    "    print('표준편차: ', np.std(sub_data_f))\n",
    "    \n",
    "filter1 = (np_data[:,8]=='150.0') |(np_data[:,8]=='150')\n",
    "print(np_data[filter1])\n",
    "    "
   ]
  },
  {
   "cell_type": "code",
   "execution_count": 68,
   "id": "be59c21d",
   "metadata": {
    "scrolled": true
   },
   "outputs": [
    {
     "name": "stdout",
     "output_type": "stream",
     "text": [
      "['1980~Y', '1974~Y', '2006~Y', '2006~Y', '2006~Y', '2016~Y', '1978~Y', '2008~N', '1998~Y', '1997~N', '2008~N', '2008~Y', '1998~Y', '1998~Y', '2013~Y', '2003~N', '1987~Y', '1993~N', '1996~Y', '1997~Y', '1998~Y', '1998~Y', '2000~Y', '2003~Y', '2006~Y', '2007~Y', '2009~N', '2009~Y', '2010~Y', '2010~N', '1996~N', '1996~N', '1996~Y', '1997~N', '1996~N', '1996~N', '1996~N', '2002~Y', '1998~Y', '1998~Y', '1996~N', '2005~Y', '2006~Y', '2006~Y', '2012~Y', '2012~Y', '2012~Y', '2003~Y', '1996~Y', '1998~Y', '1991~Y', '1996~Y', '1992~Y', '1992~Y', '2004~Y', '2003~N', '2016~N', '2002~Y', '1994~N', '1992~N', '2014~N', '1994~Y', '2021~Y', '2005~Y', '2006~Y', '2007~N', '2009~Y', '2011~Y', '2010~Y', '2010~Y', '2011~Y', '2011~Y', '2011~Y', '2011~N', '2010~N', '2010~N', '2010~N', '2014~N', '2019~Y', '2000~Y', '2009~Y', '2011~Y', '2007~Y', '2008~Y', '1992~Y', '1992~Y', '2010~N', '2010~N', '2008~Y', '2008~Y', '2008~Y', '2014~N', '2014~N', '2014~N', '2014~N', '2014~Y', '2014~Y', '2014~Y', '2016~N', '1999~Y', '1997~N', '1984~N', '1992~N', '1994~N', '1998~Y', '2003~Y', '2005~Y', '2006~N', '1999~Y', '2001~Y', '2005~Y', '1997~Y', '1998~N', '2001~Y', '2013~Y', '2013~Y', '2007~N', '2022~Y', '1995~N', '1988~N', '2005~N', '2006~Y', '1996~N', '1996~N', '1996~N', '2000~Y', '2000~Y', '2008~Y', '2008~Y', '2008~Y', '2008~Y', '1997~N', '2007~Y', '2012~N', '1998~N', '2012~N', '2001~N', '1995~N', '2009~Y', '1992~N', '1992~N', '1997~N', '2006~N', '1999~N', '2002~Y', '1999~Y', '2000~Y', '2001~N', '1992~N', '1992~N', '2011~Y', '1993~Y', '1993~Y', '1996~Y', '1997~Y', '1998~N', '1997~N', '1999~N', '2000~N', '2001~N', '2001~N', '2010~Y', '1995~N', '2015~Y', '1997~N', '1996~Y', '1989~Y', '1996~Y', '2006~Y', '2011~Y', '2012~Y', '2012~Y', '2012~Y', '2015~Y', '1999~N', '2002~N', '2004~N', '2003~Y', '2000~Y', '2000~N', '2013~Y', '2012~N', '2007~N', '2009~Y', '2016~N', '1997~N', '1998~N', '1998~N', '1995~N', '1990~N', '1998~N', '1998~N', '1999~N', '2002~N', '2004~N', '2008~Y', '1994~N', '1997~N', '1999~N', '2004~Y', '1993~Y', '1995~N', '2009~Y', '1993~N', '1993~Y', '1994~N', '1994~Y', '2003~Y', '1992~Y', '1997~Y', '1997~Y', '1999~Y', '1992~Y', '1998~Y', '1998~Y', '1993~Y', '1997~Y', '1993~Y', '1992~Y', '1992~Y', '1992~Y', '1992~Y', '2012~Y', '2017~Y', '2017~Y', '2012~Y', '2016~Y', '2007~Y', '2008~Y', '1995~N', '1992~N', '1996~N', '1994~N', '2006~Y', '2011~Y', '2011~N', '2011~N', '1996~N', '1999~Y', '2006~Y', '1982~N', '2012~N', '2009~Y', '1995~N', '2009~N', '2003~Y', '2012~Y', '2016~Y', '2019~Y', '2006~Y', '2009~N', '2001~N', '2001~N', '1996~Y', '1996~N', '2015~Y', '2015~Y', '2018~Y', '2017~Y', '1972~N', '1992~N', '1993~N', '1998~N', '1994~Y', '1991~Y', '1980~N', '2000~N', '1995~N', '1998~N', '1998~N', '2006~Y', '2016~Y', '1999~N', '1998~N', '2020~Y', '1992~N', '1992~N', '1992~N', '1992~N', '1977~N', '1993~Y', '1998~Y', '2011~N', '2001~Y', '2006~Y', '2008~Y', '2009~Y', '2002~Y', '1994~N', '1994~N', '2005~Y', '1989~Y', '1996~Y', '1989~Y', '2003~Y', '2004~Y', '1994~Y', '2010~Y', '2008~N', '2005~Y', '2011~Y', '2010~N', '1992~N', '1995~Y', '1989~Y', '2009~Y', '2009~Y', '2009~Y', '1997~Y', '1998~Y', '1989~N', '1996~N', '1998~N', '1993~N', '1987~N', '2009~N', '1993~Y', '1992~Y', '1993~Y', '1997~Y', '2001~Y', '2004~Y', '2015~Y', '1992~Y', '1996~N', '1998~N', '1998~N', '1998~N', '1999~N', '1999~N', '1999~N', '2003~N', '2013~Y', '1993~Y', '1997~Y', '1997~Y', '1997~Y', '2003~Y', '2019~Y', '2020~Y', '2014~Y', '2014~Y', '2008~Y', '2006~Y', '2006~Y', '2012~Y', '2012~Y', '2012~Y', '2012~Y', '1995~Y', '1994~Y', '1994~Y', '1993~N', '2011~Y', '2008~N', '2005~N', '1999~N', '2008~N', '2008~Y', '2008~Y', '2008~Y', '2003~N', '1994~Y', '2006~Y', '1994~Y', '2007~Y', '2012~Y', '2012~Y', '2012~Y', '2012~Y', '2012~Y', '2008~Y', '2007~Y', '2005~Y', '1992~Y', '1997~N', '1993~Y', '1993~Y', '1993~Y', '1993~Y', '1993~Y', '1993~Y', '2015~Y', '2015~Y', '2011~Y', '2016~Y', '2005~Y', '2005~Y', '1997~N', '2005~Y', '2006~Y', '2020~Y', '1993~Y', '1992~Y', '1992~Y', '1992~Y', '1994~Y', '2005~Y', '1996~Y', '2008~Y', '2001~Y', '2001~Y', '2001~Y', '2001~Y', '2002~Y', '2008~Y', '2007~Y', '2007~Y', '2017~Y', '1996~N', '2015~N', '2009~N', '1998~N', '2000~Y', '1991~N', '2002~Y', '1988~N', '1994~N', '1994~N', '2001~Y', '1998~Y', '1999~Y', '1999~N', '1996~N', '1996~Y', '2005~Y', '2006~Y', '2010~Y', '2014~Y', '1988~Y', '2018~N', '2000~N', '1992~N', '1998~N', '2002~Y', '2003~Y', '2004~N', '2002~N', '1987~N', '1998~N', '2001~N', '1991~N', '1992~N', '1997~N', '1997~N', '2006~N', '1997~N', '1997~N', '2000~N', '1996~N', '2003~Y', '1998~N', '2007~Y', '2008~Y', '1998~Y', '2002~Y', '2007~Y', '2008~Y', '1992~N', '1996~N', '2008~Y', '2005~Y', '2006~Y', '1998~N', '2022~Y', '1990~N', '2005~Y', '2002~Y', '1996~N', '2003~Y', '1992~N', '1994~N', '2006~Y', '2003~Y', '1999~Y', '1984~N', '1968~N', '2002~Y', '2004~Y', '2004~Y', '2012~N', '2011~Y', '2011~Y', '2011~Y', '2013~Y', '2013~Y', '2022~Y', '1998~N', '1995~N', '1996~N', '1996~N', '2004~N', '2018~Y', '2015~Y', '1994~Y', '1994~N', '2009~Y', '2009~Y', '2009~Y', '2009~Y', '2008~Y', '2008~Y', '2009~N', '2009~Y', '2016~Y', '2016~Y', '2013~Y', '1996~N', '1993~Y', '1993~N', '1993~N', '1993~N', '2016~Y', '1992~N', '2009~Y', '2008~Y', '2009~Y', '2009~Y', '2009~Y', '2009~Y', '2009~Y', '2009~Y', '2009~Y', '2009~Y', '2009~Y', '2009~Y', '1993~N', '2008~Y', '1997~Y', '2009~Y', '1997~N', '1997~N', '2009~N', '1997~N', '1971~N', '2010~Y', '1983~N', '2006~N', '1993~N', '1993~N', '1993~N', '1993~N', '1993~N', '2000~N', '2008~N', '2016~Y', '2016~N', '1992~N', '1992~N', '1992~N', '2008~N', '2009~N', '1997~N', '1982~N', '2007~N', '1997~N', '1992~N', '1997~N', '1996~N', '2018~N', '2018~N', '2006~N', '1997~N', '2012~N', '2015~Y', '2020~N', '1993~N', '1993~N', '1993~N', '1995~N', '1997~Y', '1998~N', '2002~N', '2001~N', '2003~N', '2003~N', '2004~Y', '2009~Y', '2009~N', '2004~Y', '2009~N', '2009~N', '2009~N', '2009~N', '2010~Y', '1993~N', '1994~N', '1997~N', '2012~Y', '2016~Y', '1996~N', '1997~N', '2004~N', '1993~N', '1998~N', '1992~N', '1997~N', '2001~N', '1993~N', '1999~N', '2004~N', '1991~N', '1992~N', '1993~N', '1992~Y', '2018~Y', '2018~Y', '1997~Y', '1993~Y', '1993~Y', '2000~Y', '1996~Y', '1992~Y', '2004~Y', '2004~N', '1995~Y', '2009~N', '1999~Y', '1995~Y', '1991~N', '2008~Y', '2016~Y', '2007~N', '1970~Y', '1976~N', '1970~N', '2020~Y', '1997~N', '2006~Y', '2004~Y', '2011~Y', '2006~Y', '2008~N', '2007~Y', '2007~Y', '2007~Y', '2007~Y', '2007~Y', '2007~Y', '2007~Y', '2010~Y', '2011~Y', '1987~N', '1997~N', '2001~N', '1994~N', '2007~N', '2010~Y', '2012~Y', '2014~Y', '1997~Y', '1998~N', '1999~Y', '2003~Y', '2003~Y', '2002~Y', '1997~Y', '2003~Y', '2005~Y', '2003~Y', '2005~Y', '2003~Y', '2005~Y', '2003~N', '2003~N', '2006~Y', '2010~Y', '2003~N', '2016~Y', '2005~N', '2003~N', '2005~N', '2010~Y', '2010~Y', '1980~N', '1980~N', '1984~N', '1993~Y', '1992~Y', '1993~N', '1996~Y', '1996~Y', '1995~Y', '1996~Y', '2001~N', '2002~N', '2003~N', '2000~N', '1996~Y', '1996~Y', '1996~N', '2004~N', '2005~N', '1997~N', '1971~N', '1994~N', '2001~Y', '2001~Y', '2005~Y', '2004~Y', '2004~Y', '2004~N', '1987~Y', '1997~Y', '1995~N', '1995~N', '1997~Y', '1997~Y', '1997~Y', '1997~Y', '1997~Y', '1997~Y', '2006~Y', '2006~Y', '2004~Y', '2010~Y', '2010~Y', '1991~N', '1995~N', '2002~N', '1995~N', '2001~Y', '1998~N', '1991~N', '1991~N', '1992~N', '1993~N', '2013~Y', '1993~N', '1996~N', '1996~N', '2000~N', '2002~Y', '2004~Y', '2009~N', '2009~N', '2012~Y', '2012~N', '2016~Y', '1995~N', '1997~N', '1998~N', '1999~N', '2000~Y', '2000~Y', '2007~Y', '2010~Y', '2010~Y', '2012~Y', '1996~N', '1996~N', '1998~N', '2018~Y', '2002~N', '1990~N', '1994~N', '1996~N', '2001~N', '2001~N', '2011~N', '2011~N', '2010~N', '2015~N', '2018~Y', '2018~Y', '2016~Y', '2016~Y', '1996~N', '2008~Y', '1992~N', '1994~N', '1994~Y', '2006~N', '1999~N', '1991~N', '1990~N', '2002~N', '1989~N', '1988~N', '1988~Y', '1993~N', '1977~Y', '1977~N', '1995~N', '2004~Y', '2004~Y', '1996~N', '1992~N', '1998~N', '2010~N', '2010~N', '1989~N', '2010~Y', '2012~N', '1998~N', '2012~Y', '2002~Y', '1997~Y', '1996~N', '2002~Y', '2005~Y', '2005~Y', '2005~N', '2005~Y', '2004~Y', '2001~Y', '1988~Y', '1995~Y', '1986~Y', '1986~Y', '1986~Y', '1986~Y', '1995~Y', '1986~Y', '1986~Y', '1986~Y', '1986~Y', '2006~N', '1992~N', '1993~N', '1988~N', '2020~Y']\n",
      "['1968~N' '1970~N' '1970~Y' '1971~N' '1972~N' '1974~Y' '1976~N' '1977~N'\n",
      " '1977~Y' '1978~Y' '1980~N' '1980~Y' '1982~N' '1983~N' '1984~N' '1986~Y'\n",
      " '1987~N' '1987~Y' '1988~N' '1988~Y' '1989~N' '1989~Y' '1990~N' '1991~N'\n",
      " '1991~Y' '1992~N' '1992~Y' '1993~N' '1993~Y' '1994~N' '1994~Y' '1995~N'\n",
      " '1995~Y' '1996~N' '1996~Y' '1997~N' '1997~Y' '1998~N' '1998~Y' '1999~N'\n",
      " '1999~Y' '2000~N' '2000~Y' '2001~N' '2001~Y' '2002~N' '2002~Y' '2003~N'\n",
      " '2003~Y' '2004~N' '2004~Y' '2005~N' '2005~Y' '2006~N' '2006~Y' '2007~N'\n",
      " '2007~Y' '2008~N' '2008~Y' '2009~N' '2009~Y' '2010~N' '2010~Y' '2011~N'\n",
      " '2011~Y' '2012~N' '2012~Y' '2013~Y' '2014~N' '2014~Y' '2015~N' '2015~Y'\n",
      " '2016~N' '2016~Y' '2017~Y' '2018~N' '2018~Y' '2019~Y' '2020~N' '2020~Y'\n",
      " '2021~Y' '2022~Y'] [ 25 390   1 795   7]\n"
     ]
    }
   ],
   "source": [
    "# 준공연도별 장애인편의의시설 여부, 상관관계\n",
    "sub_data = np_data[1:,[14,19]]\n",
    "#print(sub_data)\n",
    "np.unique(sub_data[:,1])\n",
    "filter1 = sub_data[:,1]!=''\n",
    "sub_data = sub_data[filter1]\n",
    "\n",
    "year_yn = []\n",
    "for yn, ymd in sub_data:\n",
    "    yr = ymd.split('-')[0]\n",
    "    year_yn.append(yr+'~'+yn)\n",
    "#print(yn,ymd)\n",
    "print(year_yn)\n",
    "year_yn = np.array(year_yn)\n",
    "val, cny = np.unique(year_yn, return_counts = True)\n",
    "print(val, cnt)\n"
   ]
  },
  {
   "cell_type": "markdown",
   "id": "41dbc29e",
   "metadata": {},
   "source": [
    "{\n",
    "    year: [y, n... ]\n",
    "}\n",
    "\n",
    "[\n",
    "    [year, y_count, total_count]\n",
    "]"
   ]
  },
  {
   "cell_type": "code",
   "execution_count": 88,
   "id": "775fc376",
   "metadata": {},
   "outputs": [
    {
     "name": "stdout",
     "output_type": "stream",
     "text": [
      "{'1980': ['Y', 'N', 'N', 'N'], '1974': ['Y'], '2006': ['Y', 'Y', 'Y', 'Y', 'Y', 'Y', 'Y', 'N', 'Y', 'N', 'Y', 'Y', 'Y', 'Y', 'Y', 'Y', 'Y', 'Y', 'Y', 'Y', 'Y', 'N', 'Y', 'Y', 'N', 'N', 'Y', 'Y', 'Y', 'Y', 'Y', 'N', 'N'], '2016': ['Y', 'N', 'N', 'N', 'Y', 'Y', 'Y', 'Y', 'Y', 'Y', 'Y', 'Y', 'N', 'Y', 'Y', 'Y', 'Y', 'Y', 'Y'], '1978': ['Y'], '2008': ['N', 'N', 'Y', 'Y', 'Y', 'Y', 'Y', 'Y', 'Y', 'Y', 'Y', 'Y', 'Y', 'Y', 'N', 'Y', 'N', 'N', 'Y', 'Y', 'Y', 'Y', 'Y', 'Y', 'Y', 'Y', 'Y', 'Y', 'Y', 'Y', 'Y', 'N', 'N', 'Y', 'N', 'Y'], '1998': ['Y', 'Y', 'Y', 'Y', 'Y', 'Y', 'Y', 'Y', 'Y', 'N', 'N', 'N', 'N', 'N', 'N', 'N', 'Y', 'Y', 'N', 'N', 'N', 'N', 'Y', 'Y', 'N', 'N', 'N', 'N', 'N', 'Y', 'N', 'N', 'N', 'Y', 'N', 'N', 'N', 'N', 'N', 'N', 'N', 'N', 'N', 'N'], '1997': ['N', 'Y', 'N', 'N', 'Y', 'N', 'N', 'Y', 'N', 'N', 'N', 'N', 'Y', 'Y', 'Y', 'Y', 'Y', 'Y', 'Y', 'Y', 'N', 'N', 'N', 'N', 'N', 'N', 'Y', 'N', 'N', 'N', 'N', 'N', 'N', 'N', 'Y', 'N', 'N', 'N', 'Y', 'N', 'N', 'Y', 'Y', 'N', 'Y', 'Y', 'Y', 'Y', 'Y', 'Y', 'Y', 'N', 'Y'], '2013': ['Y', 'Y', 'Y', 'Y', 'Y', 'Y', 'Y', 'Y', 'Y'], '2003': ['N', 'Y', 'Y', 'N', 'Y', 'Y', 'Y', 'Y', 'Y', 'N', 'Y', 'N', 'Y', 'Y', 'Y', 'Y', 'N', 'N', 'Y', 'Y', 'Y', 'Y', 'Y', 'N', 'N', 'N', 'N', 'N'], '1987': ['Y', 'N', 'N', 'N', 'Y'], '1993': ['N', 'Y', 'Y', 'Y', 'N', 'Y', 'Y', 'Y', 'N', 'Y', 'N', 'Y', 'Y', 'Y', 'N', 'Y', 'Y', 'Y', 'Y', 'Y', 'Y', 'Y', 'Y', 'N', 'N', 'N', 'N', 'N', 'N', 'N', 'N', 'N', 'N', 'N', 'N', 'N', 'N', 'N', 'N', 'Y', 'Y', 'Y', 'N', 'N', 'N', 'N', 'N'], '1996': ['Y', 'N', 'N', 'Y', 'N', 'N', 'N', 'N', 'Y', 'Y', 'N', 'N', 'N', 'Y', 'Y', 'Y', 'N', 'N', 'Y', 'N', 'Y', 'N', 'N', 'Y', 'N', 'N', 'Y', 'N', 'N', 'N', 'N', 'N', 'N', 'N', 'N', 'Y', 'Y', 'Y', 'Y', 'Y', 'Y', 'N', 'N', 'N', 'N', 'N', 'N', 'N', 'N', 'N'], '2000': ['Y', 'Y', 'Y', 'Y', 'Y', 'N', 'Y', 'N', 'N', 'Y', 'N', 'N', 'N', 'Y', 'N', 'N', 'Y', 'Y'], '2007': ['Y', 'N', 'Y', 'N', 'Y', 'N', 'Y', 'Y', 'Y', 'Y', 'Y', 'Y', 'Y', 'N', 'N', 'Y', 'Y', 'Y', 'Y', 'Y', 'Y', 'Y', 'N', 'Y'], '2009': ['N', 'Y', 'Y', 'Y', 'Y', 'Y', 'Y', 'Y', 'N', 'N', 'Y', 'Y', 'Y', 'Y', 'N', 'N', 'Y', 'Y', 'Y', 'Y', 'N', 'Y', 'Y', 'Y', 'Y', 'Y', 'Y', 'Y', 'Y', 'Y', 'Y', 'Y', 'Y', 'Y', 'N', 'N', 'Y', 'N', 'N', 'N', 'N', 'N', 'N', 'N', 'N'], '2010': ['Y', 'N', 'Y', 'Y', 'N', 'N', 'N', 'N', 'N', 'Y', 'Y', 'N', 'Y', 'Y', 'Y', 'Y', 'Y', 'Y', 'Y', 'Y', 'Y', 'Y', 'Y', 'Y', 'N', 'N', 'N', 'Y'], '2002': ['Y', 'Y', 'Y', 'N', 'N', 'Y', 'Y', 'Y', 'Y', 'N', 'Y', 'Y', 'Y', 'N', 'Y', 'N', 'N', 'Y', 'N', 'N', 'Y', 'Y'], '2005': ['Y', 'Y', 'Y', 'Y', 'N', 'Y', 'Y', 'N', 'Y', 'Y', 'Y', 'Y', 'Y', 'Y', 'Y', 'Y', 'Y', 'Y', 'Y', 'N', 'N', 'N', 'Y', 'Y', 'Y', 'N', 'Y'], '2012': ['Y', 'Y', 'Y', 'N', 'N', 'Y', 'Y', 'Y', 'N', 'Y', 'Y', 'N', 'Y', 'Y', 'Y', 'Y', 'Y', 'Y', 'Y', 'Y', 'Y', 'Y', 'N', 'N', 'Y', 'Y', 'Y', 'N', 'Y', 'N', 'Y'], '1991': ['Y', 'Y', 'N', 'N', 'N', 'N', 'N', 'N', 'N', 'N'], '1992': ['Y', 'Y', 'N', 'Y', 'Y', 'N', 'N', 'N', 'N', 'N', 'Y', 'Y', 'Y', 'Y', 'Y', 'Y', 'N', 'N', 'N', 'N', 'N', 'N', 'N', 'Y', 'Y', 'Y', 'Y', 'Y', 'Y', 'N', 'N', 'N', 'N', 'N', 'N', 'N', 'N', 'N', 'N', 'N', 'Y', 'Y', 'Y', 'N', 'N', 'N', 'N'], '2004': ['Y', 'N', 'N', 'Y', 'Y', 'Y', 'N', 'Y', 'Y', 'N', 'Y', 'Y', 'N', 'N', 'Y', 'N', 'Y', 'N', 'Y', 'Y', 'N', 'Y', 'Y', 'Y', 'Y', 'Y'], '1994': ['N', 'Y', 'N', 'N', 'N', 'Y', 'N', 'Y', 'N', 'N', 'Y', 'Y', 'Y', 'Y', 'Y', 'Y', 'N', 'N', 'N', 'Y', 'N', 'N', 'N', 'N', 'N', 'N', 'Y'], '2014': ['N', 'N', 'N', 'N', 'N', 'N', 'Y', 'Y', 'Y', 'Y', 'Y', 'Y', 'Y'], '2021': ['Y'], '2011': ['Y', 'Y', 'Y', 'Y', 'N', 'Y', 'Y', 'Y', 'Y', 'N', 'N', 'N', 'Y', 'Y', 'Y', 'Y', 'Y', 'Y', 'Y', 'Y', 'N', 'N'], '2019': ['Y', 'Y', 'Y'], '1999': ['Y', 'Y', 'N', 'Y', 'N', 'N', 'N', 'N', 'Y', 'Y', 'N', 'N', 'N', 'N', 'N', 'Y', 'N', 'Y', 'N', 'Y', 'Y', 'N', 'N'], '1984': ['N', 'N', 'N'], '2001': ['Y', 'Y', 'N', 'N', 'N', 'N', 'N', 'N', 'Y', 'Y', 'Y', 'Y', 'Y', 'Y', 'Y', 'N', 'N', 'N', 'N', 'N', 'Y', 'Y', 'Y', 'N', 'N', 'Y'], '2022': ['Y', 'Y', 'Y'], '1995': ['N', 'N', 'N', 'N', 'N', 'N', 'N', 'N', 'Y', 'Y', 'N', 'N', 'Y', 'Y', 'Y', 'N', 'N', 'N', 'N', 'N', 'N', 'Y', 'Y'], '1988': ['N', 'N', 'Y', 'N', 'Y', 'Y', 'N'], '2015': ['Y', 'Y', 'Y', 'Y', 'Y', 'Y', 'Y', 'N', 'Y', 'Y', 'N'], '1989': ['Y', 'Y', 'Y', 'Y', 'N', 'N', 'N'], '1990': ['N', 'N', 'N', 'N'], '2017': ['Y', 'Y', 'Y', 'Y'], '1982': ['N', 'N'], '2018': ['Y', 'N', 'Y', 'N', 'N', 'Y', 'Y', 'Y', 'Y', 'Y'], '1972': ['N'], '2020': ['Y', 'Y', 'Y', 'N', 'Y', 'Y'], '1977': ['N', 'Y', 'N'], '1968': ['N'], '1971': ['N', 'N'], '1983': ['N'], '1970': ['Y', 'N'], '1976': ['N'], '1986': ['Y', 'Y', 'Y', 'Y', 'Y', 'Y', 'Y', 'Y']}\n",
      "[[1968.       0.       0.   ]\n",
      " [1970.       1.       0.5  ]\n",
      " [1971.       0.       0.   ]\n",
      " [1972.       0.       0.   ]\n",
      " [1974.       1.       1.   ]\n",
      " [1976.       0.       0.   ]\n",
      " [1977.       1.       0.333]\n",
      " [1978.       1.       1.   ]\n",
      " [1980.       1.       0.25 ]\n",
      " [1982.       0.       0.   ]\n",
      " [1983.       0.       0.   ]\n",
      " [1984.       0.       0.   ]\n",
      " [1986.       8.       1.   ]\n",
      " [1987.       2.       0.4  ]\n",
      " [1988.       3.       0.429]\n",
      " [1989.       4.       0.571]\n",
      " [1990.       0.       0.   ]\n",
      " [1991.       2.       0.2  ]\n",
      " [1992.      19.       0.404]\n",
      " [1993.      21.       0.447]\n",
      " [1994.      11.       0.407]\n",
      " [1995.       7.       0.304]\n",
      " [1996.      17.       0.34 ]\n",
      " [1997.      24.       0.453]\n",
      " [1998.      15.       0.341]\n",
      " [1999.       9.       0.391]\n",
      " [2000.      10.       0.556]\n",
      " [2001.      13.       0.5  ]\n",
      " [2002.      14.       0.636]\n",
      " [2003.      17.       0.607]\n",
      " [2004.      17.       0.654]\n",
      " [2005.      21.       0.778]\n",
      " [2006.      26.       0.788]\n",
      " [2007.      18.       0.75 ]\n",
      " [2008.      28.       0.778]\n",
      " [2009.      29.       0.644]\n",
      " [2010.      18.       0.643]\n",
      " [2011.      16.       0.727]\n",
      " [2012.      23.       0.742]\n",
      " [2013.       9.       1.   ]\n",
      " [2014.       7.       0.538]\n",
      " [2015.       9.       0.818]\n",
      " [2016.      15.       0.789]\n",
      " [2017.       4.       1.   ]\n",
      " [2018.       7.       0.7  ]\n",
      " [2019.       3.       1.   ]\n",
      " [2020.       5.       0.833]\n",
      " [2021.       1.       1.   ]\n",
      " [2022.       3.       1.   ]]\n"
     ]
    }
   ],
   "source": [
    "sub_data = np_data[1:, [14,19]]\n",
    "filter1 = sub_data[:,1]!=''\n",
    "sub_data = sub_data[filter1]\n",
    "\n",
    "pass1 = dict()\n",
    "for yn, ymd in sub_data:\n",
    "    yr = ymd.split('-')[0]\n",
    "    if yr in pass1.keys():\n",
    "        pass1[yr].append(yn)\n",
    "    else:\n",
    "        pass1[yr] = [yn]\n",
    "print(pass1)\n",
    "\n",
    "pass2 = []\n",
    "for yr in pass1:  #dict 순환시 key값으로 순환\n",
    "    val, cnt = np.unique(pass1[yr], return_counts=True)\n",
    "    y, ratio = 0, 0\n",
    "    if 'Y' in val:\n",
    "        y = cnt[val=='Y']\n",
    "    ratio = y/np.sum(cnt)\n",
    "    pass2.append((int(yr), int(y), float(ratio)))\n",
    "    \n",
    "#print(pass2)\n",
    "np.set_printoptions(precision =3, suppress = True)\n",
    "\n",
    "pass3 = sorted(pass2, key = lambda x: x[0])\n",
    "pass3 = np.array(pass3)\n",
    "print(pass3)"
   ]
  },
  {
   "cell_type": "code",
   "execution_count": 93,
   "id": "be33a961",
   "metadata": {
    "scrolled": true
   },
   "outputs": [
    {
     "data": {
      "text/plain": [
       "[<matplotlib.lines.Line2D at 0x21bcea0cfd0>]"
      ]
     },
     "execution_count": 93,
     "metadata": {},
     "output_type": "execute_result"
    },
    {
     "data": {
      "image/png": "[encoded data removed]",
      "text/plain": [
       "<Figure size 640x480 with 1 Axes>"
      ]
     },
     "metadata": {},
     "output_type": "display_data"
    }
   ],
   "source": [
    "_, axe = plt.subplots()\n",
    "axe.plot(pass3[:,0], pass3[:,1])"
   ]
  },
  {
   "cell_type": "code",
   "execution_count": 105,
   "id": "eb9b5005",
   "metadata": {},
   "outputs": [
    {
     "data": {
      "text/plain": [
       "[<matplotlib.lines.Line2D at 0x21bd2ac2d70>]"
      ]
     },
     "execution_count": 105,
     "metadata": {},
     "output_type": "execute_result"
    },
    {
     "data": {
      "image/png": "[encoded data removed]",
      "text/plain": [
       "<Figure size 640x480 with 1 Axes>"
      ]
     },
     "metadata": {},
     "output_type": "display_data"
    }
   ],
   "source": [
    "_, axe = plt.subplots()\n",
    "axe.plot(pass4[:,0], pass4[:,2])"
   ]
  },
  {
   "cell_type": "code",
   "execution_count": 90,
   "id": "be796122",
   "metadata": {},
   "outputs": [
    {
     "name": "stdout",
     "output_type": "stream",
     "text": [
      "[[1990.       0.       0.   ]\n",
      " [1991.       2.       0.2  ]\n",
      " [1992.      19.       0.404]\n",
      " [1993.      21.       0.447]\n",
      " [1994.      11.       0.407]\n",
      " [1995.       7.       0.304]\n",
      " [1996.      17.       0.34 ]\n",
      " [1997.      24.       0.453]\n",
      " [1998.      15.       0.341]\n",
      " [1999.       9.       0.391]\n",
      " [2000.      10.       0.556]\n",
      " [2001.      13.       0.5  ]\n",
      " [2002.      14.       0.636]\n",
      " [2003.      17.       0.607]\n",
      " [2004.      17.       0.654]\n",
      " [2005.      21.       0.778]\n",
      " [2006.      26.       0.788]\n",
      " [2007.      18.       0.75 ]\n",
      " [2008.      28.       0.778]\n",
      " [2009.      29.       0.644]\n",
      " [2010.      18.       0.643]\n",
      " [2011.      16.       0.727]\n",
      " [2012.      23.       0.742]\n",
      " [2013.       9.       1.   ]\n",
      " [2014.       7.       0.538]\n",
      " [2015.       9.       0.818]\n",
      " [2016.      15.       0.789]\n",
      " [2017.       4.       1.   ]\n",
      " [2018.       7.       0.7  ]\n",
      " [2019.       3.       1.   ]\n",
      " [2020.       5.       0.833]\n",
      " [2021.       1.       1.   ]\n",
      " [2022.       3.       1.   ]]\n",
      "[[1.    0.885]\n",
      " [0.885 1.   ]]\n"
     ]
    }
   ],
   "source": [
    "filter1 = pass3[:,0]>=1990\n",
    "pass4 = pass3[filter1]\n",
    "print(pass4)\n",
    "print(np.corrcoef(pass4[:,0], pass4[:,2]))"
   ]
  },
  {
   "cell_type": "code",
   "execution_count": 99,
   "id": "3276082b",
   "metadata": {
    "scrolled": true
   },
   "outputs": [
    {
     "name": "stdout",
     "output_type": "stream",
     "text": [
      "*** 육교연장\n",
      "중앙값:  39.6\n",
      "quantile:  [30.  39.6 56. ]\n",
      "iqr:  26.0\n",
      "upper:  95.0\n",
      "lower:  -9.0\n"
     ]
    },
    {
     "data": {
      "text/plain": [
       "<matplotlib.collections.PathCollection at 0x21bd040a440>"
      ]
     },
     "execution_count": 99,
     "metadata": {},
     "output_type": "execute_result"
    },
    {
     "data": {
      "image/png": "[encoded data removed]",
      "text/plain": [
       "<Figure size 640x480 with 1 Axes>"
      ]
     },
     "metadata": {},
     "output_type": "display_data"
    }
   ],
   "source": [
    "#iqr, outliers  이상치\n",
    "\n",
    "i = 7\n",
    "print('***', np_data[0,i])\n",
    "sub_data = np_data[1:, i]\n",
    "filter1 = (sub_data!='') & (sub_data!='0') & (sub_data!='0.0')  #결축치\n",
    "sub_data_f = sub_data[filter1].astype(np.float64)\n",
    "\n",
    "#print(np.unique(sub_data))\n",
    "#print('최소: ', np.min(sub_data_f))\n",
    "#print('최대: ', np.max(sub_data_f))\n",
    "#print('평균: ', np.mean(sub_data_f))\n",
    "#print('표준편차: ', np.std(sub_data_f))\n",
    "print('중앙값: ' , np.median(sub_data_f))\n",
    "print('quantile: ', np.quantile(sub_data_f, [.25,.5,.75]))\n",
    "\n",
    "sub_data_cut = sub_data_f[sub_data_f<95.0]\n",
    "\n",
    "val, cnt = np.unique(sub_data_f, return_counts = True) #육교연장 값의 분포\n",
    "q25, q50 ,q75 = np.quantile(sub_data_f, [.25,.5,.75])\n",
    "iqr = q75 - q25\n",
    "print('iqr: ', iqr)\n",
    "print('upper: ', q75+1.5*iqr) #95.0\n",
    "print('lower: ', q25-1.5*iqr) # -9.0\n",
    "\n",
    "#q25\n",
    "q25 - 1.5*iqr\n",
    "\n",
    "_,axe = plt.subplots()\n",
    "axe.scatter(val,cnt)\n"
   ]
  },
  {
   "cell_type": "code",
   "execution_count": 104,
   "id": "48558257",
   "metadata": {},
   "outputs": [
    {
     "name": "stdout",
     "output_type": "stream",
     "text": [
      "(array([ 12,  94, 289, 227, 175,  97,  54,  43,  40,  29], dtype=int64), array([ 5.3 , 14.22, 23.14, 32.06, 40.98, 49.9 , 58.82, 67.74, 76.66,\n",
      "       85.58, 94.5 ])) (array([ 12,  94, 289, 227, 175,  97,  54,  43,  40,  29], dtype=int64), array([ 5.3 , 14.22, 23.14, 32.06, 40.98, 49.9 , 58.82, 67.74, 76.66,\n",
      "       85.58, 94.5 ]))\n"
     ]
    },
    {
     "ename": "ValueError",
     "evalue": "setting an array element with a sequence. The requested array has an inhomogeneous shape after 1 dimensions. The detected shape was (2,) + inhomogeneous part.",
     "output_type": "error",
     "traceback": [
      "\u001b[1;31m---------------------------------------------------------------------------\u001b[0m",
      "\u001b[1;31mValueError\u001b[0m                                Traceback (most recent call last)",
      "Cell \u001b[1;32mIn[104], line 11\u001b[0m\n\u001b[0;32m      9\u001b[0m _,axe \u001b[38;5;241m=\u001b[39m plt\u001b[38;5;241m.\u001b[39msubplots()\n\u001b[0;32m     10\u001b[0m \u001b[38;5;66;03m#axe.scatter(val, cnt)\u001b[39;00m\n\u001b[1;32m---> 11\u001b[0m \u001b[43maxe\u001b[49m\u001b[38;5;241;43m.\u001b[39;49m\u001b[43mplot\u001b[49m\u001b[43m(\u001b[49m\u001b[43mnp\u001b[49m\u001b[38;5;241;43m.\u001b[39;49m\u001b[43marange\u001b[49m\u001b[43m(\u001b[49m\u001b[38;5;241;43m20\u001b[39;49m\u001b[43m)\u001b[49m\u001b[43m,\u001b[49m\u001b[43m \u001b[49m\u001b[43mh_cnt\u001b[49m\u001b[43m)\u001b[49m\n",
      "File \u001b[1;32m~\\AppData\\Local\\Programs\\Python\\Python310\\lib\\site-packages\\matplotlib\\axes\\_axes.py:1668\u001b[0m, in \u001b[0;36mAxes.plot\u001b[1;34m(self, scalex, scaley, data, *args, **kwargs)\u001b[0m\n\u001b[0;32m   1425\u001b[0m \u001b[38;5;250m\u001b[39m\u001b[38;5;124;03m\"\"\"\u001b[39;00m\n\u001b[0;32m   1426\u001b[0m \u001b[38;5;124;03mPlot y versus x as lines and/or markers.\u001b[39;00m\n\u001b[0;32m   1427\u001b[0m \n\u001b[1;32m   (...)\u001b[0m\n\u001b[0;32m   1665\u001b[0m \u001b[38;5;124;03m(``'green'``) or hex strings (``'#008000'``).\u001b[39;00m\n\u001b[0;32m   1666\u001b[0m \u001b[38;5;124;03m\"\"\"\u001b[39;00m\n\u001b[0;32m   1667\u001b[0m kwargs \u001b[38;5;241m=\u001b[39m cbook\u001b[38;5;241m.\u001b[39mnormalize_kwargs(kwargs, mlines\u001b[38;5;241m.\u001b[39mLine2D)\n\u001b[1;32m-> 1668\u001b[0m lines \u001b[38;5;241m=\u001b[39m [\u001b[38;5;241m*\u001b[39m\u001b[38;5;28mself\u001b[39m\u001b[38;5;241m.\u001b[39m_get_lines(\u001b[38;5;241m*\u001b[39margs, data\u001b[38;5;241m=\u001b[39mdata, \u001b[38;5;241m*\u001b[39m\u001b[38;5;241m*\u001b[39mkwargs)]\n\u001b[0;32m   1669\u001b[0m \u001b[38;5;28;01mfor\u001b[39;00m line \u001b[38;5;129;01min\u001b[39;00m lines:\n\u001b[0;32m   1670\u001b[0m     \u001b[38;5;28mself\u001b[39m\u001b[38;5;241m.\u001b[39madd_line(line)\n",
      "File \u001b[1;32m~\\AppData\\Local\\Programs\\Python\\Python310\\lib\\site-packages\\matplotlib\\axes\\_base.py:311\u001b[0m, in \u001b[0;36m_process_plot_var_args.__call__\u001b[1;34m(self, data, *args, **kwargs)\u001b[0m\n\u001b[0;32m    309\u001b[0m     this \u001b[38;5;241m+\u001b[39m\u001b[38;5;241m=\u001b[39m args[\u001b[38;5;241m0\u001b[39m],\n\u001b[0;32m    310\u001b[0m     args \u001b[38;5;241m=\u001b[39m args[\u001b[38;5;241m1\u001b[39m:]\n\u001b[1;32m--> 311\u001b[0m \u001b[38;5;28;01myield from\u001b[39;00m \u001b[38;5;28;43mself\u001b[39;49m\u001b[38;5;241;43m.\u001b[39;49m\u001b[43m_plot_args\u001b[49m\u001b[43m(\u001b[49m\n\u001b[0;32m    312\u001b[0m \u001b[43m    \u001b[49m\u001b[43mthis\u001b[49m\u001b[43m,\u001b[49m\u001b[43m \u001b[49m\u001b[43mkwargs\u001b[49m\u001b[43m,\u001b[49m\u001b[43m \u001b[49m\u001b[43mambiguous_fmt_datakey\u001b[49m\u001b[38;5;241;43m=\u001b[39;49m\u001b[43mambiguous_fmt_datakey\u001b[49m\u001b[43m)\u001b[49m\n",
      "File \u001b[1;32m~\\AppData\\Local\\Programs\\Python\\Python310\\lib\\site-packages\\matplotlib\\axes\\_base.py:494\u001b[0m, in \u001b[0;36m_process_plot_var_args._plot_args\u001b[1;34m(self, tup, kwargs, return_kwargs, ambiguous_fmt_datakey)\u001b[0m\n\u001b[0;32m    492\u001b[0m \u001b[38;5;28;01mif\u001b[39;00m \u001b[38;5;28mlen\u001b[39m(xy) \u001b[38;5;241m==\u001b[39m \u001b[38;5;241m2\u001b[39m:\n\u001b[0;32m    493\u001b[0m     x \u001b[38;5;241m=\u001b[39m _check_1d(xy[\u001b[38;5;241m0\u001b[39m])\n\u001b[1;32m--> 494\u001b[0m     y \u001b[38;5;241m=\u001b[39m \u001b[43m_check_1d\u001b[49m\u001b[43m(\u001b[49m\u001b[43mxy\u001b[49m\u001b[43m[\u001b[49m\u001b[38;5;241;43m1\u001b[39;49m\u001b[43m]\u001b[49m\u001b[43m)\u001b[49m\n\u001b[0;32m    495\u001b[0m \u001b[38;5;28;01melse\u001b[39;00m:\n\u001b[0;32m    496\u001b[0m     x, y \u001b[38;5;241m=\u001b[39m index_of(xy[\u001b[38;5;241m-\u001b[39m\u001b[38;5;241m1\u001b[39m])\n",
      "File \u001b[1;32m~\\AppData\\Local\\Programs\\Python\\Python310\\lib\\site-packages\\matplotlib\\cbook\\__init__.py:1382\u001b[0m, in \u001b[0;36m_check_1d\u001b[1;34m(x)\u001b[0m\n\u001b[0;32m   1376\u001b[0m \u001b[38;5;66;03m# plot requires `shape` and `ndim`.  If passed an\u001b[39;00m\n\u001b[0;32m   1377\u001b[0m \u001b[38;5;66;03m# object that doesn't provide them, then force to numpy array.\u001b[39;00m\n\u001b[0;32m   1378\u001b[0m \u001b[38;5;66;03m# Note this will strip unit information.\u001b[39;00m\n\u001b[0;32m   1379\u001b[0m \u001b[38;5;28;01mif\u001b[39;00m (\u001b[38;5;129;01mnot\u001b[39;00m \u001b[38;5;28mhasattr\u001b[39m(x, \u001b[38;5;124m'\u001b[39m\u001b[38;5;124mshape\u001b[39m\u001b[38;5;124m'\u001b[39m) \u001b[38;5;129;01mor\u001b[39;00m\n\u001b[0;32m   1380\u001b[0m         \u001b[38;5;129;01mnot\u001b[39;00m \u001b[38;5;28mhasattr\u001b[39m(x, \u001b[38;5;124m'\u001b[39m\u001b[38;5;124mndim\u001b[39m\u001b[38;5;124m'\u001b[39m) \u001b[38;5;129;01mor\u001b[39;00m\n\u001b[0;32m   1381\u001b[0m         \u001b[38;5;28mlen\u001b[39m(x\u001b[38;5;241m.\u001b[39mshape) \u001b[38;5;241m<\u001b[39m \u001b[38;5;241m1\u001b[39m):\n\u001b[1;32m-> 1382\u001b[0m     \u001b[38;5;28;01mreturn\u001b[39;00m \u001b[43mnp\u001b[49m\u001b[38;5;241;43m.\u001b[39;49m\u001b[43matleast_1d\u001b[49m\u001b[43m(\u001b[49m\u001b[43mx\u001b[49m\u001b[43m)\u001b[49m\n\u001b[0;32m   1383\u001b[0m \u001b[38;5;28;01melse\u001b[39;00m:\n\u001b[0;32m   1384\u001b[0m     \u001b[38;5;28;01mreturn\u001b[39;00m x\n",
      "File \u001b[1;32m<__array_function__ internals>:200\u001b[0m, in \u001b[0;36matleast_1d\u001b[1;34m(*args, **kwargs)\u001b[0m\n",
      "File \u001b[1;32m~\\AppData\\Local\\Programs\\Python\\Python310\\lib\\site-packages\\numpy\\core\\shape_base.py:65\u001b[0m, in \u001b[0;36matleast_1d\u001b[1;34m(*arys)\u001b[0m\n\u001b[0;32m     63\u001b[0m res \u001b[38;5;241m=\u001b[39m []\n\u001b[0;32m     64\u001b[0m \u001b[38;5;28;01mfor\u001b[39;00m ary \u001b[38;5;129;01min\u001b[39;00m arys:\n\u001b[1;32m---> 65\u001b[0m     ary \u001b[38;5;241m=\u001b[39m \u001b[43masanyarray\u001b[49m\u001b[43m(\u001b[49m\u001b[43mary\u001b[49m\u001b[43m)\u001b[49m\n\u001b[0;32m     66\u001b[0m     \u001b[38;5;28;01mif\u001b[39;00m ary\u001b[38;5;241m.\u001b[39mndim \u001b[38;5;241m==\u001b[39m \u001b[38;5;241m0\u001b[39m:\n\u001b[0;32m     67\u001b[0m         result \u001b[38;5;241m=\u001b[39m ary\u001b[38;5;241m.\u001b[39mreshape(\u001b[38;5;241m1\u001b[39m)\n",
      "\u001b[1;31mValueError\u001b[0m: setting an array element with a sequence. The requested array has an inhomogeneous shape after 1 dimensions. The detected shape was (2,) + inhomogeneous part."
     ]
    },
    {
     "data": {
      "image/png": "[encoded data removed]",
      "text/plain": [
       "<Figure size 640x480 with 1 Axes>"
      ]
     },
     "metadata": {},
     "output_type": "display_data"
    }
   ],
   "source": [
    "upper = q75+1.5*iqr\n",
    "sub_data_cut = sub_data_f[sub_data_f<upper]\n",
    "\n",
    "h_cnt = h_bins = np.histogram(sub_data_cut, bins = 10)\n",
    "print(h_cnt, h_bins)\n",
    "\n",
    "val ,cnt = np.unique(sub_data_cut, return_counts = True) #육교연장 값의 분포\n",
    "\n",
    "_,axe = plt.subplots()\n",
    "#axe.scatter(val, cnt)\n",
    "axe.plot(np.arange(20), h_cnt)\n",
    "\n",
    "\n",
    "\n"
   ]
  }
 ],
 "metadata": {
  "kernelspec": {
   "display_name": "Python 3 (ipykernel)",
   "language": "python",
   "name": "python3"
  },
  "language_info": {
   "codemirror_mode": {
    "name": "ipython",
    "version": 3
   },
   "file_extension": ".py",
   "mimetype": "text/x-python",
   "name": "python",
   "nbconvert_exporter": "python",
   "pygments_lexer": "ipython3",
   "version": "3.10.9"
  }
 },
 "nbformat": 4,
 "nbformat_minor": 5
}

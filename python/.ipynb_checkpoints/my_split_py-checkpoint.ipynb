{
 "cells": [
  {
   "cell_type": "code",
   "execution_count": 1,
   "id": "aec994f1",
   "metadata": {},
   "outputs": [
    {
     "ename": "SyntaxError",
     "evalue": "incomplete input (1922154982.py, line 33)",
     "output_type": "error",
     "traceback": [
      "\u001b[1;36m  Cell \u001b[1;32mIn[1], line 33\u001b[1;36m\u001b[0m\n\u001b[1;33m    return math.sqrt(sum((p2-p1)**2\u001b[0m\n\u001b[1;37m                                   ^\u001b[0m\n\u001b[1;31mSyntaxError\u001b[0m\u001b[1;31m:\u001b[0m incomplete input\n"
     ]
    }
   ],
   "source": [
    "import numpy as np\n",
    "import math\n",
    "\n",
    "def my_split(s):\n",
    "    block_start = False\n",
    "    start_index = 0\n",
    "    ret_list=[]\n",
    "    for i, c in enumerate(s):\n",
    "        if block_start==False:\n",
    "            if c==',':\n",
    "                ret_list.append(s[start_index:i])\n",
    "                start_index=i+1\n",
    "            elif c=='\"':\n",
    "                block_start=True\n",
    "                start_index = i\n",
    "        else:\n",
    "            if c=='\"':\n",
    "                block_start=False\n",
    "    if s[-1]!=',':\n",
    "        ret_list.append(s[start_index:])\n",
    "    return ret_list\n",
    "\n",
    "def split_len(data_list):\n",
    "    len_list=[]\n",
    "    for e in data_list:\n",
    "        len_list.append(len(e))\n",
    "    print(set(len_list))\n",
    "    if len(set(len_list))>1:\n",
    "        for i in set(len_list):\n",
    "            print(i, len_list.count(i))\n",
    "\n",
    "def dist_np(p1, p2): #  [3,10]  [5,25]\n",
    "    return math.sqrt(sum((p2-p1)**2"
   ]
  },
  {
   "cell_type": "code",
   "execution_count": null,
   "id": "7e7931d2",
   "metadata": {},
   "outputs": [],
   "source": [
    "def my_sq_prod(number_list):\n",
    "\n",
    "   return_value = 1\n",
    "\n",
    "   for number in number_list:\n",
    "\n",
    "        return_value = return_value * number**2\n",
    "\n",
    "   return return_value\n",
    "\n",
    " \n",
    "\n",
    "my_sq_prod([1,2,1]) == 4"
   ]
  },
  {
   "cell_type": "code",
   "execution_count": null,
   "id": "a0938b8d",
   "metadata": {},
   "outputs": [],
   "source": [
    "import math\n",
    "\n",
    "def my_sq_prod(python_list):\n",
    "    return_list = []\n",
    "    for number in python_list:\n",
    "        return_list.append(number**2)\n",
    "    return math.prod(return_list)\n",
    "\n",
    " \n",
    "\n",
    "print(my_sq_prod([1,2,3]))"
   ]
  },
  {
   "cell_type": "code",
   "execution_count": 8,
   "id": "a0143de6",
   "metadata": {},
   "outputs": [
    {
     "name": "stdout",
     "output_type": "stream",
     "text": [
      "True\n"
     ]
    },
    {
     "data": {
      "text/plain": [
       "(3,)"
      ]
     },
     "execution_count": 8,
     "metadata": {},
     "output_type": "execute_result"
    }
   ],
   "source": [
    "import numpy as np\n",
    "\n",
    "def my_sq_prod3(ndarray):\n",
    "    return np.prod(arr**2)\n",
    "ndarray = np.array([4, 5, 6])\n",
    "assert my_sq_prod3(arr) == 14400\n",
    "\n",
    "print(my_sq_prod3(arr) == 14400)\n",
    "\n",
    "\n",
    "\n"
   ]
  }
 ],
 "metadata": {
  "kernelspec": {
   "display_name": "Python 3 (ipykernel)",
   "language": "python",
   "name": "python3"
  },
  "language_info": {
   "codemirror_mode": {
    "name": "ipython",
    "version": 3
   },
   "file_extension": ".py",
   "mimetype": "text/x-python",
   "name": "python",
   "nbconvert_exporter": "python",
   "pygments_lexer": "ipython3",
   "version": "3.10.9"
  }
 },
 "nbformat": 4,
 "nbformat_minor": 5
}

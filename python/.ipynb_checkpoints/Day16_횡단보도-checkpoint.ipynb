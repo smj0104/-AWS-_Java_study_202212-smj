{
 "cells": [
  {
   "cell_type": "markdown",
   "id": "197c6871",
   "metadata": {},
   "source": [
    "### 전국횡단보도표준데이터\n",
    "\n",
    "- 횡단보도연장, 녹색신호시간 : 상관도\n",
    "- 자전거 횡단도 겸용 비율(전체 대비), 차로수별 자전거 횡단도 카운트/비율\n",
    "- 차로수별 보행자 신호등 유무 카운트/비율\n",
    "- 차로수별 음향신호기 설치의 유무 카운트/비율\n",
    "\n",
    "### 화면 출력\n",
    "1.상관도 수치\n",
    "2.비율 수치\n",
    "3~5 카운트,비율\n"
   ]
  },
  {
   "cell_type": "code",
   "execution_count": 8,
   "id": "64efba57",
   "metadata": {},
   "outputs": [],
   "source": [
    "def my_split(s):\n",
    "    block_start = False\n",
    "    start_index = 0\n",
    "    ret_list=[]\n",
    "    for i, c in enumerate(s):\n",
    "        if block_start==False:\n",
    "            if c==',':\n",
    "                ret_list.append(s[start_index:i])\n",
    "                start_index=i+1\n",
    "            elif c=='\"':\n",
    "                block_start=True\n",
    "                start_index = i\n",
    "        else:\n",
    "            if c=='\"':\n",
    "                block_start=False\n",
    "    if s[-1]!=',':\n",
    "        ret_list.append(s[start_index:])\n",
    "    return ret_list\n"
   ]
  },
  {
   "cell_type": "code",
   "execution_count": 26,
   "id": "39daf657",
   "metadata": {},
   "outputs": [],
   "source": [
    "import numpy as np\n",
    "import matplotlib.pyplot as plt\n",
    "from scipy import stats\n",
    "\n",
    "raw_data=[]\n",
    "with open('전국횡단보도표준데이터.csv') as f:\n",
    "    for line in f:\n",
    "        raw_data.append(line[:-1])\n",
    "        \n",
    "road_data= (my_split(raw_data[0]))\n",
    "road_length = road_data.index('횡단보도연장')\n",
    "\n",
    "\n",
    "for i in range(1, len(raw_data)):\n",
    "    a = my_split(raw_data[i])\n",
    "    road_length_list.append(a[safe_rate])"
   ]
  },
  {
   "cell_type": "code",
   "execution_count": 25,
   "id": "3116fd12",
   "metadata": {
    "scrolled": true
   },
   "outputs": [
    {
     "name": "stdout",
     "output_type": "stream",
     "text": [
      "['시도명', '시군구명', '도로명', '소재지도로명주소', '소재지지번주소', '횡단보도관리번호', '횡단보도종류', '자전거횡단도겸용여부', '고원식적용여부', '위도', '경도', '차로수', '횡단보도폭', '횡단보도연장', '보행자신호등유무', '보행자작동신호기유무', '음향신호기설치여부', '녹색신호시간', '적색신호시간', '교통섬유무', '보도턱낮춤여부', '점자블록유무', '집중조명시설유무', '관리기관명', '관리기관전화번호', '데이터기준일자', '제공기관코드', '제공기관명']\n"
     ]
    }
   ],
   "source": [
    "\n",
    "    "
   ]
  }
 ],
 "metadata": {
  "kernelspec": {
   "display_name": "Python 3 (ipykernel)",
   "language": "python",
   "name": "python3"
  },
  "language_info": {
   "codemirror_mode": {
    "name": "ipython",
    "version": 3
   },
   "file_extension": ".py",
   "mimetype": "text/x-python",
   "name": "python",
   "nbconvert_exporter": "python",
   "pygments_lexer": "ipython3",
   "version": "3.10.9"
  }
 },
 "nbformat": 4,
 "nbformat_minor": 5
}

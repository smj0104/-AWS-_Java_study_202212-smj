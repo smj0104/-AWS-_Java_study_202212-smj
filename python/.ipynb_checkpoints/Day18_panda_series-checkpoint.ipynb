{
 "cells": [
  {
   "cell_type": "code",
   "execution_count": 7,
   "id": "5b55bba5",
   "metadata": {},
   "outputs": [
    {
     "name": "stdout",
     "output_type": "stream",
     "text": [
      "     5.1  3.5  1.4  0.2     Iris-setosa\n",
      "0    4.9  3.0  1.4  0.2     Iris-setosa\n",
      "1    4.7  3.2  1.3  0.2     Iris-setosa\n",
      "2    4.6  3.1  1.5  0.2     Iris-setosa\n",
      "3    5.0  3.6  1.4  0.2     Iris-setosa\n",
      "4    5.4  3.9  1.7  0.4     Iris-setosa\n",
      "..   ...  ...  ...  ...             ...\n",
      "144  6.7  3.0  5.2  2.3  Iris-virginica\n",
      "145  6.3  2.5  5.0  1.9  Iris-virginica\n",
      "146  6.5  3.0  5.2  2.0  Iris-virginica\n",
      "147  6.2  3.4  5.4  2.3  Iris-virginica\n",
      "148  5.9  3.0  5.1  1.8  Iris-virginica\n",
      "\n",
      "[149 rows x 5 columns]\n"
     ]
    }
   ],
   "source": [
    "import numpy as np\n",
    "import pandas as pd\n",
    "import requests\n",
    "\n",
    "iris_data_str = requests.get('https://archive.ics.uci.edu/ml/machine-learning-databases/iris/iris.data')\n",
    "iris_df = pd.read_csv('iris.data', header = None)\n",
    "print(iris_df)\n"
   ]
  },
  {
   "cell_type": "code",
   "execution_count": 9,
   "id": "213bb191",
   "metadata": {},
   "outputs": [
    {
     "name": "stdout",
     "output_type": "stream",
     "text": [
      "0    a\n",
      "1    b\n",
      "2    c\n",
      "3    d\n",
      "4    e\n",
      "dtype: object\n",
      "<class 'pandas.core.frame.DataFrame'> <class 'pandas.core.series.Series'>\n"
     ]
    }
   ],
   "source": [
    "s1 = pd.Series(list('abcde'))\n",
    "print(s1)\n",
    "print(type(iris_df), type(s1))"
   ]
  },
  {
   "cell_type": "code",
   "execution_count": 22,
   "id": "3271f71c",
   "metadata": {},
   "outputs": [
    {
     "name": "stdout",
     "output_type": "stream",
     "text": [
      "3    13\n",
      "7    17\n",
      "9    19\n",
      "dtype: int64\n",
      "6    16\n",
      "7    17\n",
      "8    18\n",
      "9    19\n",
      "dtype: int64\n"
     ]
    }
   ],
   "source": [
    "s2 = pd.Series([1,1.0,'a'])\n",
    "s3 = pd.Series([x for x in range(10, 20)])\n",
    "#print(s2)  #panda의 object타입은 실직적으로 타입이 정해지지않았다는 뜻\n",
    "#print(s3[3])\n",
    "#print(s3[3:8:2])\n",
    "print(s3[[3,7,9]])\n",
    "print(s3[s3>15])"
   ]
  },
  {
   "cell_type": "code",
   "execution_count": 26,
   "id": "eb5f69ec",
   "metadata": {},
   "outputs": [
    {
     "name": "stdout",
     "output_type": "stream",
     "text": [
      "1\n",
      "int64\n",
      "(10,)\n",
      "0    10.0\n",
      "1    11.0\n",
      "2    12.0\n",
      "3    13.0\n",
      "4    14.0\n",
      "5    15.0\n",
      "6    16.0\n",
      "7    17.0\n",
      "8    18.0\n",
      "9    19.0\n",
      "dtype: float64\n"
     ]
    }
   ],
   "source": [
    "print(s3.ndim)\n",
    "print(s3.dtype)\n",
    "print(s3.shape)\n",
    "s3_f = s3.astype(np.float64)\n",
    "print(s3_f)"
   ]
  },
  {
   "cell_type": "code",
   "execution_count": 27,
   "id": "624591e0",
   "metadata": {},
   "outputs": [
    {
     "name": "stdout",
     "output_type": "stream",
     "text": [
      "[10 11 12 13 14 15 16 17 18 19] <class 'numpy.ndarray'>\n"
     ]
    }
   ],
   "source": [
    "s3_np = s3.to_numpy()\n",
    "print(s3_np, type(s3_np))"
   ]
  },
  {
   "cell_type": "code",
   "execution_count": 28,
   "id": "9b6f495d",
   "metadata": {},
   "outputs": [
    {
     "name": "stdout",
     "output_type": "stream",
     "text": [
      "0    30\n",
      "1    33\n",
      "2    36\n",
      "3    39\n",
      "4    42\n",
      "5    45\n",
      "6    48\n",
      "7    51\n",
      "8    54\n",
      "9    57\n",
      "dtype: int64\n"
     ]
    }
   ],
   "source": [
    "print(s3*3)"
   ]
  },
  {
   "cell_type": "code",
   "execution_count": 29,
   "id": "6e415a32",
   "metadata": {},
   "outputs": [
    {
     "name": "stdout",
     "output_type": "stream",
     "text": [
      "      0      1      2      3      4      5      6      7      8      9   \\\n",
      "0   10.0   11.0   12.0   13.0   14.0   15.0   16.0   17.0   18.0   19.0   \n",
      "1  100.0  101.0  102.0  103.0  104.0  105.0  106.0  107.0  108.0  109.0   \n",
      "\n",
      "      10     11     12     13     14     15     16     17     18     19  \n",
      "0    NaN    NaN    NaN    NaN    NaN    NaN    NaN    NaN    NaN    NaN  \n",
      "1  110.0  111.0  112.0  113.0  114.0  115.0  116.0  117.0  118.0  119.0  \n"
     ]
    }
   ],
   "source": [
    "### df\n",
    "\n",
    "s1 = pd.Series([x for x in range(10,20)])\n",
    "s2 = pd.Series([x for x in range(100,120)])\n",
    "df1 = pd.DataFrame({'a1': s1, 'b' : s2})\n",
    "print(df1)  # Nan not a number"
   ]
  },
  {
   "cell_type": "code",
   "execution_count": null,
   "id": "ea267605",
   "metadata": {},
   "outputs": [],
   "source": []
  }
 ],
 "metadata": {
  "kernelspec": {
   "display_name": "Python 3 (ipykernel)",
   "language": "python",
   "name": "python3"
  },
  "language_info": {
   "codemirror_mode": {
    "name": "ipython",
    "version": 3
   },
   "file_extension": ".py",
   "mimetype": "text/x-python",
   "name": "python",
   "nbconvert_exporter": "python",
   "pygments_lexer": "ipython3",
   "version": "3.10.9"
  }
 },
 "nbformat": 4,
 "nbformat_minor": 5
}

{
 "cells": [
  {
   "cell_type": "markdown",
   "id": "9399e25d",
   "metadata": {},
   "source": [
    "### 각 개별 jupyter note에서 전처리 후, pickle 또는 csv 저장.\n",
    "\n",
    " 1. 전국일방통행도로표준데이터\n",
    "     * 시도명, 지정사유, 지정연도, 도로폭, 도로차로수,보차분리여부\n",
    "     \n",
    " 2. 전국어린이보호구역표준데이터 시도명 작업필요.\n",
    "     * 시설종류,관할경찰서명,CCTV설치여부,CCTV설치대수,제공기관명(split),보호구역도로폭\n",
    "  \n",
    " 3. 전국노인장애인보호구역표준데이터\n",
    "     * 시도명,제한속도,CCTV설치여부,CCTV설치대수,보호구역도로폭\n",
    " \n",
    " 4. 새로운 jupyter note에서 종합.  (시도명을 index로 뽑아 groupby로 묶어놓기 / 예제의 코드 참조)\n",
    "     * 시도명, 어린이보호구역 CCTV 설치대수, 노인장애인보호구역 CCTV 설치대수, 일방통행 보차분리 ycount"
   ]
  },
  {
   "cell_type": "code",
   "execution_count": 1,
   "id": "37559fb6",
   "metadata": {},
   "outputs": [],
   "source": [
    "import numpy as np\n",
    "import pandas as pd\n",
    "import matplotlib.pyplot as plt\n",
    "\n",
    "pd_raw = pd.read_csv('전국일방통행도로표준데이터.csv', encoding = 'cp949')\n",
    "\n",
    "col_selection = ['시도명', '지정사유', '지정연도', '도로폭', '도로차로수', '보차분리여부']\n",
    "pd_data = pd_raw[col_selection]\n"
   ]
  },
  {
   "cell_type": "code",
   "execution_count": 2,
   "id": "abb8908e",
   "metadata": {},
   "outputs": [
    {
     "name": "stdout",
     "output_type": "stream",
     "text": [
      "시도명 \t False\n",
      "지정사유 \t True\n",
      "지정연도 \t True\n",
      "도로폭 \t False\n",
      "도로차로수 \t True\n",
      "보차분리여부 \t False\n"
     ]
    }
   ],
   "source": [
    "for e in pd_data:\n",
    "    print(e, '\\t', pd_data[e].hasnans)"
   ]
  }
 ],
 "metadata": {
  "kernelspec": {
   "display_name": "Python 3 (ipykernel)",
   "language": "python",
   "name": "python3"
  },
  "language_info": {
   "codemirror_mode": {
    "name": "ipython",
    "version": 3
   },
   "file_extension": ".py",
   "mimetype": "text/x-python",
   "name": "python",
   "nbconvert_exporter": "python",
   "pygments_lexer": "ipython3",
   "version": "3.10.9"
  }
 },
 "nbformat": 4,
 "nbformat_minor": 5
}

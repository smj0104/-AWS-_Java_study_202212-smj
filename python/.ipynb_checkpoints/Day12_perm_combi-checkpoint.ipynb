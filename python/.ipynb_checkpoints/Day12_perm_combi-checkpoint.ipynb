{
 "cells": [
  {
   "cell_type": "code",
   "execution_count": null,
   "id": "4cbbfb89",
   "metadata": {},
   "outputs": [],
   "source": [
    "#http://192.168.2.101:8000/perm_combi.py\n",
    "\n",
    "def fact(n):\n",
    "    ret = 1\n",
    "    while n>1:\n",
    "        ret *= n\n",
    "        n -= 1\n",
    "    return ret\n",
    "\n",
    "def fact_r(n):\n",
    "    if n==2:\n",
    "        return n\n",
    "    return fact_r(n-1)*n\n",
    "\n",
    "def perm_f(n, r):\n",
    "    return fact(n)/fact(n-r)\n",
    "\n",
    "def combi_f(n, r):\n",
    "    return fact(n)/(fact(n-r)*fact(r))\n",
    "\n",
    "def count_with_replacement_order(pool, sel_count):  # all\n",
    "    if sel_count == 1:\n",
    "        return len(pool), [[x] for x in pool]\n",
    "    a, b = count_with_replacement_order(pool, sel_count-1)\n",
    "    r = []\n",
    "    for x in pool:\n",
    "        for b_i in b:\n",
    "            r.append(b_i+[x])\n",
    "    return len(r), r    \n",
    "\n",
    "def perm_pool(pool, r):\n",
    "    if r == 1:\n",
    "        return len(pool), [[x] for x in pool]\n",
    "    ret = []\n",
    "    for x in pool:\n",
    "        pool_copy = [y for y in pool]\n",
    "        pool_copy.remove(x)\n",
    "        a, b = perm_pool(pool_copy, r-1)\n",
    "        for b_i in b:\n",
    "            ret.append(b_i+[x])\n",
    "    return len(ret), ret\n",
    "\n",
    "def combi_pool(pool, r):\n",
    "    a , b = perm_pool(pool, r)\n",
    "    r = []\n",
    "    for b_i in b:\n",
    "        r.append(set(b_i))\n",
    "    f = []\n",
    "    for r_i in r:\n",
    "        f.append(r_i)\n",
    "        while r_i in r:\n",
    "            r.remove(r_i)\n",
    "    if r:\n",
    "        f.append(r[0])\n",
    "    return len(f), f"
   ]
  },
  {
   "cell_type": "code",
   "execution_count": null,
   "id": "9144a363",
   "metadata": {},
   "outputs": [],
   "source": [
    "# 주사위를 3번 던져 나올수 있는 모든 경우의 수 (6**3)\n",
    "# -- with replacement\n",
    "\n",
    "# 1에서부터 6까지 숫자가 적힌 공이 든 박스에서 3개의 공을 꺼내서 나올수 있는 모든 경우의 수 (6 * 5 * 4)\n",
    "# -- without replacement\n",
    "\n",
    "#1에서부터 6까지 숫자가 적힌 공이 든 박스에서 3개의 공을 꺼내면서 \n",
    "#꺼낸 공을 다시 집어넣고, 섞어서 뽑았을때 나올수 있는 모든 경우의 수 (6**3)\n",
    "#-- with replacement\n"
   ]
  },
  {
   "cell_type": "code",
   "execution_count": 1,
   "id": "271a0976",
   "metadata": {},
   "outputs": [
    {
     "ename": "SyntaxError",
     "evalue": "invalid syntax (1077392243.py, line 10)",
     "output_type": "error",
     "traceback": [
      "\u001b[1;36m  Cell \u001b[1;32mIn[1], line 10\u001b[1;36m\u001b[0m\n\u001b[1;33m    n!/r!\u001b[0m\n\u001b[1;37m     ^\u001b[0m\n\u001b[1;31mSyntaxError\u001b[0m\u001b[1;31m:\u001b[0m invalid syntax\n"
     ]
    }
   ],
   "source": [
    "# permutation (순열) : (a,b,c), (b,c,a) --> 순서의 개념, 둘은 다른것,\n",
    "\n",
    "# 1에서부터 6까지 숫자가 적힌 공이든 박스에서 2개의 공을 꺼낼때\n",
    "# 나올수 잇는 모든 경우의 수 : 6*5\n",
    "# --without replacement\n",
    "\n",
    "# n = 6\n",
    "# r = 2\n",
    "\n",
    "#n!/(n-r)!"
   ]
  },
  {
   "cell_type": "code",
   "execution_count": null,
   "id": "182bb7f8",
   "metadata": {},
   "outputs": [],
   "source": [
    "#combination (조합) : (a,b,c), (b,c,a) --> 순서의 개념 없음, 둘은 같은것.\n",
    "\n",
    "#1에서 6까지 숫자가 적힌 공이 든 박스에서 2개의 공을 꺼냈을때\n",
    "# '다른 구성'으로 나올수 있는 모든 경우의 수 :\n",
    "# --without replacement\n",
    "\n",
    "# permutation(순열)에서 구성이 같은 것을 제외 --> 조합\n",
    "#n = 6\n",
    "#r = 2\n",
    "#combi = permutation(n,r)/r!"
   ]
  },
  {
   "cell_type": "code",
   "execution_count": 7,
   "id": "2f8bc771",
   "metadata": {},
   "outputs": [],
   "source": [
    "import numpy as np\n",
    "\n",
    "\n",
    "# 재귀함수 : 자기 자신을 부르는(사용하는) 함수\n",
    "#  -탈출조건이 중요하다\n",
    "def fact_r(n):\n",
    "    if n == 2:\n",
    "        return n\n",
    "    return fact_r(n-1)*n #fractal\n",
    "\n",
    "def fact(n):\n",
    "    ret = 1\n",
    "    while n>1:\n",
    "        ret *= n\n",
    "        n -= 1\n",
    "    return ret\n",
    "\n",
    "def fact_np(n): #2에서부터 n을 포함하는 범위까지 nd.array후 곱하기\n",
    "    return np.arange(2,n+1).prod()\n",
    "    #return np.multiply.reduce(np.arange(2,n+1))\n",
    "\n",
    "assert fact_np(6) == fact_r(6)\n",
    "#6! 6*5*4*3*2*1 = 6*5!\n",
    "\n",
    "def perm(n,r):  # 순열 \n",
    "    return fact_r(n) / fact_r(n-r)\n",
    "\n",
    "assert perm(6,2) == 30.0\n",
    "assert perm(6,3) == 120.\n",
    "\n",
    "def combi(n,r):\n",
    "    return perm(n,r)/fact_r(r)\n",
    "\n",
    "assert combi(6,2)"
   ]
  }
 ],
 "metadata": {
  "kernelspec": {
   "display_name": "Python 3 (ipykernel)",
   "language": "python",
   "name": "python3"
  },
  "language_info": {
   "codemirror_mode": {
    "name": "ipython",
    "version": 3
   },
   "file_extension": ".py",
   "mimetype": "text/x-python",
   "name": "python",
   "nbconvert_exporter": "python",
   "pygments_lexer": "ipython3",
   "version": "3.10.9"
  }
 },
 "nbformat": 4,
 "nbformat_minor": 5
}

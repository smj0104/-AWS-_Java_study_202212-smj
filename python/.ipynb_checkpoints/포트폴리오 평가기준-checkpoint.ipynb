{
 "cells": [
  {
   "cell_type": "markdown",
   "id": "5beadb4f",
   "metadata": {},
   "source": [
    "### 포트폴리오 평가 기준\n",
    " * 시각화 전략 (목표,범위,개발절차)\n",
    "    - 목표\n",
    "    - 범위\n",
    "    - 개발절차\n",
    " \n",
    " * 시각화 요구사항\n",
    "     - 사용자 수준 / 취향\n",
    "     - 시나리오 : 스토리보드 개발\n",
    "     \n",
    " * 데이터 시각화 명세서\n",
    "     - 시각화 표현의 형태, 규칙, 패턴, 상호작용\n",
    "     \n",
    " * 시각화명세서 기반 설계\n",
    "      - 시각화 UI 설계"
   ]
  },
  {
   "cell_type": "markdown",
   "id": "bee274c4",
   "metadata": {},
   "source": [
    "## 예시 : 2륜차 등록대수\n",
    "\n",
    " * 시각화 전략\n",
    "     - 목표 : 코로나와 배달 이륜차 등록대수 관계\n",
    "     - 범위 : 부산광역시\n",
    "     - 개발절차 : kosis에서 데이터 확보, 분석후 시각화\n",
    "     \n",
    " * 시각화 요구사항\n",
    "    - 사용자 페르소나(수준과 취향,목적) : 배달 알바를 해야 하는가 고민 중\n",
    "    - 시나리오/스토리보드 개발 : 코로나 전에 비해 코로나 기간중 폭발적 증가세 보임. 코로나 이후 급격한 감소\n",
    "        이전보다는 많은것이 분명하나 많이 빠짐\n",
    "        \n",
    " * 데이터 시각화 명세서\n",
    "    - 시각화 표현의 형태, 규칙, 패턴 , 상호작용 : 년도별 lineplot, 시기별 중형 이륜차 비율, 눈으로 크기 확인 용이할경우 숫자로 표시X\n",
    "    \n",
    " * 시각화 명세서 기반 설계\n",
    " \n",
    "    - 시각화 UI 설계 : 상단 절반 년도별 lineplot, 하단 3등분하여 코로나 이전,코로나 기간, 코로나 이후 크기별 비율 pie chart\n",
    " "
   ]
  },
  {
   "cell_type": "markdown",
   "id": "f68d77d9",
   "metadata": {},
   "source": [
    "### 평가사항\n",
    "    시각화의 목표가 제시\n",
    "    범위가 설정\n",
    "    개발절차 명시\n",
    "    자료를 활용한 사용자의  수준 및 취향,목적 제시\n",
    "    자료의 시나리오나 스토리 보드 제시\n",
    "    시각화 표현의 형태 및 규칙이 글로 명시\n",
    "    \n",
    "    시각화 설계가 (figure,axe)의 배치가 글로서 명시\n",
    "    \n",
    "    시각화 내용 정리를 위한 분석작업을 하였는가\n",
    "    시각화 목적에 부합한 시각화 표현이 이루어졌는가"
   ]
  }
 ],
 "metadata": {
  "kernelspec": {
   "display_name": "Python 3 (ipykernel)",
   "language": "python",
   "name": "python3"
  },
  "language_info": {
   "codemirror_mode": {
    "name": "ipython",
    "version": 3
   },
   "file_extension": ".py",
   "mimetype": "text/x-python",
   "name": "python",
   "nbconvert_exporter": "python",
   "pygments_lexer": "ipython3",
   "version": "3.10.9"
  }
 },
 "nbformat": 4,
 "nbformat_minor": 5
}

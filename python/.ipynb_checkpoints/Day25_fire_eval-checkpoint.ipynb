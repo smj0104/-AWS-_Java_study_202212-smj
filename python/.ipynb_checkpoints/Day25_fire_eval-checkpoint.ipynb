{
 "cells": [
  {
   "cell_type": "code",
   "execution_count": 3,
   "id": "7414965c",
   "metadata": {},
   "outputs": [
    {
     "name": "stdout",
     "output_type": "stream",
     "text": [
      "       행정구역별    시점  건수 (건) 사망 (명)  부상 (명)  재산피해(계) (천원)   부동산 (천원)    동산 (천원)  \\\n",
      "0         전국  2010   41863    304    1588     266776332  117808118  148968214   \n",
      "1         전국  2011   43875    263    1599     256547614  113257928  143289686   \n",
      "2         전국  2012   43249    267    1955     289493719  127500018  161993701   \n",
      "3         전국  2013   40932    307    1877     434462330  178812680  255649650   \n",
      "4         전국  2014   42135    325    1856     405356513  168824616  236531897   \n",
      "..       ...   ...     ...    ...     ...           ...        ...        ...   \n",
      "209  제주특별자치도  2017     751      5      19       3944602    2022493    1922109   \n",
      "210  제주특별자치도  2018     636      4      23       3956895    1199603    2757292   \n",
      "211  제주특별자치도  2019     607      3      33       2998401    1088297    1910104   \n",
      "212  제주특별자치도  2020     515     12      14       4905209    1964304    2940905   \n",
      "213  제주특별자치도  2021     544      3      19       6795271    2982411    3812860   \n",
      "\n",
      "     이재가구수 (가구)  이재민수 (명)  \n",
      "0          1183      2623  \n",
      "1          1158      2417  \n",
      "2          1062      2254  \n",
      "3          1354      2330  \n",
      "4          1178      2374  \n",
      "..          ...       ...  \n",
      "209           9        15  \n",
      "210           5         8  \n",
      "211           6        15  \n",
      "212           8        15  \n",
      "213          13        21  \n",
      "\n",
      "[214 rows x 10 columns]\n"
     ]
    }
   ],
   "source": [
    "import seaborn as sns\n",
    "import numpy as np\n",
    "import pandas as pd\n",
    "import matplotlib.pyplot as plt\n",
    "import seaborn as sns\n",
    "\n",
    "pd_data = pd.read_csv('시도별_화재발생_현황_총괄__20230307153112.csv', encoding = 'cp949')\n",
    "print(pd_data)"
   ]
  },
  {
   "cell_type": "code",
   "execution_count": null,
   "id": "636dfc74",
   "metadata": {},
   "outputs": [],
   "source": [
    "sns.relplot(data=pd_data, x = 'total_bill', y ='tip', hue ='sex', style ='smoker' )"
   ]
  }
 ],
 "metadata": {
  "kernelspec": {
   "display_name": "Python 3 (ipykernel)",
   "language": "python",
   "name": "python3"
  },
  "language_info": {
   "codemirror_mode": {
    "name": "ipython",
    "version": 3
   },
   "file_extension": ".py",
   "mimetype": "text/x-python",
   "name": "python",
   "nbconvert_exporter": "python",
   "pygments_lexer": "ipython3",
   "version": "3.10.9"
  }
 },
 "nbformat": 4,
 "nbformat_minor": 5
}

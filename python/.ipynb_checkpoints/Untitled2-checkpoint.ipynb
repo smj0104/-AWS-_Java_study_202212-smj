{
 "cells": [
  {
   "cell_type": "code",
   "execution_count": null,
   "id": "d58fa24d",
   "metadata": {},
   "outputs": [],
   "source": [
    "#데이터 전처리\n",
    "\n",
    "# 시도명,지정사유,지정연도,도로폭,보차분리여부\n",
    "# 결측치 처리(column 개별 기준)\n",
    "# 오류치 처리(unit의 차이)\n",
    "# 이상치 처리(iqr사용)\n",
    "# 전처리 내용 정리"
   ]
  },
  {
   "cell_type": "code",
   "execution_count": 6,
   "id": "1cd5b602",
   "metadata": {
    "scrolled": true
   },
   "outputs": [
    {
     "name": "stdout",
     "output_type": "stream",
     "text": [
      "   시도명 시군구명   도로명 지정사유  지정연도  도로폭   도로연장  도로차로수 보차분리여부      시작점위도       시작점경도  \\\n",
      "0  경기도  수원시  수원천로  NaN   NaN  5.0  250.0    1.0      Y  37.277585  127.018739   \n",
      "1  경기도  수원시  수원천로  NaN   NaN  5.0  440.0    1.0      Y  37.275204  127.019511   \n",
      "2  경기도  수원시  수원천로  NaN   NaN  9.0  240.0    1.0      Y  37.285299  127.017971   \n",
      "\n",
      "       종료점위도       종료점경도 도로안내표지일련번호         관리기관명      관리기관전화번호     데이터기준일자  \\\n",
      "0  37.275204  127.019511        NaN  경기도 수원시 팔달구청  031-228-7435  2022-06-16   \n",
      "1  37.271522  127.017128        NaN  경기도 수원시 팔달구청  031-228-7435  2022-06-16   \n",
      "2  37.281898  127.018384        NaN  경기도 수원시 팔달구청  031-228-7435  2022-06-16   \n",
      "\n",
      "    제공기관코드    제공기관명  \n",
      "0  3740000  경기도 수원시  \n",
      "1  3740000  경기도 수원시  \n",
      "2  3740000  경기도 수원시  \n"
     ]
    },
    {
     "name": "stderr",
     "output_type": "stream",
     "text": [
      "C:\\Users\\ITPS\\AppData\\Local\\Temp\\ipykernel_13140\\3368912115.py:13: SettingWithCopyWarning: \n",
      "A value is trying to be set on a copy of a slice from a DataFrame.\n",
      "Try using .loc[row_indexer,col_indexer] = value instead\n",
      "\n",
      "See the caveats in the documentation: https://pandas.pydata.org/pandas-docs/stable/user_guide/indexing.html#returning-a-view-versus-a-copy\n",
      "  pd_data['지정사유'] = pd_data['지정사유'].astype('category')\n"
     ]
    }
   ],
   "source": [
    "import numpy as np\n",
    "import pandas as pd\n",
    "\n",
    "pd_rawdata = pd.read_csv('전국일방통행도로표준데이터.csv', encoding = 'cp949')\n",
    "pd_data\n",
    "\n",
    "\n",
    "column_selection = ['시도명', '지정사유', '지정연도', '도로폭', '도로차로수', '보차분리여부']\n",
    "pd_data = pd_rawdata[column_selection]\n",
    "print(pd_rawdata[:3])\n",
    "\n",
    "\n",
    "pd_data['지정사유'] = pd_data['지정사유'].astype('category')\n"
   ]
  },
  {
   "cell_type": "code",
   "execution_count": 7,
   "id": "e19431c2",
   "metadata": {},
   "outputs": [
    {
     "name": "stdout",
     "output_type": "stream",
     "text": [
      "시도명 False\n",
      "지정사유 True\n",
      "True     1567\n",
      "False     592\n",
      "Name: 지정사유, dtype: int64\n",
      "지정연도 True\n",
      "True     1609\n",
      "False     550\n",
      "Name: 지정연도, dtype: int64\n",
      "도로폭 False\n",
      "도로차로수 True\n",
      "False    2158\n",
      "True        1\n",
      "Name: 도로차로수, dtype: int64\n",
      "보차분리여부 False\n"
     ]
    }
   ],
   "source": [
    "for e in pd_data:\n",
    "    print(e, pd_data[e].hasnans)\n",
    "    if pd_data[e].hasnans:\n",
    "        print(pd_data[e].isna().value_counts())"
   ]
  },
  {
   "cell_type": "code",
   "execution_count": 9,
   "id": "ca0d2b12",
   "metadata": {},
   "outputs": [
    {
     "data": {
      "text/plain": [
       "차량소통 촉진 및 보행자 안전    165\n",
       "통행원활                 98\n",
       "교행불가                 60\n",
       "교통불편 해소              55\n",
       "보행안전                 55\n",
       "교통안전                 27\n",
       "주민건의                 24\n",
       "혼잡지역                 18\n",
       "원활한 교통흐름 및 보행 안전     17\n",
       "교통흐름을 원활히 하기 위함      11\n",
       "주민편의                 10\n",
       "원활한 차량통행을 위하여 지정     10\n",
       "통행안전                  6\n",
       "주차혼잡구간                5\n",
       "주택밀집지역                4\n",
       "부채도로                  4\n",
       "교통소통                  3\n",
       "보행자안전확보               3\n",
       "시장혼잡구간                2\n",
       "원활한교통통행               2\n",
       "차량교행                  2\n",
       "도로협소                  2\n",
       "혼잡비역                  1\n",
       "혼잡구역                  1\n",
       "혼자지역                  1\n",
       "고가도로                  1\n",
       "순환차로                  1\n",
       "본도로 진입불가              1\n",
       "교통혼잡 및 소통 원활 필요       1\n",
       "교통사고 다발               1\n",
       "원통전통시장주차장 출입구         1\n",
       "Name: 지정사유, dtype: int64"
      ]
     },
     "execution_count": 9,
     "metadata": {},
     "output_type": "execute_result"
    }
   ],
   "source": [
    "pd_data['지정사유'].value_counts()"
   ]
  },
  {
   "cell_type": "code",
   "execution_count": 13,
   "id": "2fbb84e5",
   "metadata": {},
   "outputs": [
    {
     "data": {
      "text/plain": [
       "N    1657\n",
       "Y     501\n",
       "        1\n",
       "Name: 보차분리여부, dtype: int64"
      ]
     },
     "execution_count": 13,
     "metadata": {},
     "output_type": "execute_result"
    }
   ],
   "source": [
    "pd_data['보차분리여부'].value_counts()"
   ]
  },
  {
   "cell_type": "code",
   "execution_count": 15,
   "id": "3a56858c",
   "metadata": {},
   "outputs": [
    {
     "data": {
      "text/plain": [
       "1.1014828544949027"
      ]
     },
     "execution_count": 15,
     "metadata": {},
     "output_type": "execute_result"
    }
   ],
   "source": [
    "pd_data['도로차로수'].value_counts()\n",
    "\n",
    "    "
   ]
  }
 ],
 "metadata": {
  "kernelspec": {
   "display_name": "Python 3 (ipykernel)",
   "language": "python",
   "name": "python3"
  },
  "language_info": {
   "codemirror_mode": {
    "name": "ipython",
    "version": 3
   },
   "file_extension": ".py",
   "mimetype": "text/x-python",
   "name": "python",
   "nbconvert_exporter": "python",
   "pygments_lexer": "ipython3",
   "version": "3.10.9"
  }
 },
 "nbformat": 4,
 "nbformat_minor": 5
}

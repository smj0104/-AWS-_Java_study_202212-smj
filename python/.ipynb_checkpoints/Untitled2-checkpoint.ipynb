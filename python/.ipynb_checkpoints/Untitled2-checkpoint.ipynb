{
 "cells": [
  {
   "cell_type": "code",
   "execution_count": null,
   "id": "ed385e4d",
   "metadata": {},
   "outputs": [],
   "source": [
    "# 전국어린이보호구역표준데이터\n",
    "\n",
    "# 시설종류벌 cctv 설치 여부 카운트/ 개수\n",
    "# 광역시도별, 시설종류별 카운트         ~별 = group by\n",
    "# CCTV 평균 설치대수\n",
    "# 관할경찰서별 CCTV 대수\n",
    "# 도로폭 / CCTV 설치대수 상관도\n"
   ]
  },
  {
   "cell_type": "code",
   "execution_count": null,
   "id": "50ab738d",
   "metadata": {},
   "outputs": [],
   "source": [
    "import numpy as np\n",
    "import pandas as pd\n",
    "\n",
    "pd_data = pd.read_csv('전국푸드트럭허가구역표준데이터.csv', encoding = 'cp949')"
   ]
  }
 ],
 "metadata": {
  "kernelspec": {
   "display_name": "Python 3 (ipykernel)",
   "language": "python",
   "name": "python3"
  },
  "language_info": {
   "codemirror_mode": {
    "name": "ipython",
    "version": 3
   },
   "file_extension": ".py",
   "mimetype": "text/x-python",
   "name": "python",
   "nbconvert_exporter": "python",
   "pygments_lexer": "ipython3",
   "version": "3.10.9"
  }
 },
 "nbformat": 4,
 "nbformat_minor": 5
}

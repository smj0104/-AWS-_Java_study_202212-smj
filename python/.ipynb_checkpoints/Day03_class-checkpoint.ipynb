{
 "cells": [
  {
   "cell_type": "code",
   "execution_count": 2,
   "id": "a70ea024",
   "metadata": {},
   "outputs": [
    {
     "name": "stdout",
     "output_type": "stream",
     "text": [
      "<class '__main__.myclass'>\n",
      "0 aaa\n"
     ]
    }
   ],
   "source": [
    "class myclass:\n",
    "    myvar1 =  0\n",
    "    myvar2 = 'abc'\n",
    "    \n",
    "    def __init__(self, a=0, b='aaa'):  # __의 이유 : 언더바 두개는 내부적으로 사용하겠다는 뜻\n",
    "        self.myvar1 = 0\n",
    "        self.myvar2 = 'aaa'\n",
    "        \n",
    "    def mymethod1(self,n):\n",
    "        print(self.myvar1 * n, self.myvar2)\n",
    "        \n",
    "    def __str__(self):\n",
    "        return'{},{}'.format(self.myvar1, self.myvar2)\n",
    "    \n",
    "a = myclass()\n",
    "print(type(a))\n",
    "\n",
    "a.mymethod1(5)"
   ]
  },
  {
   "cell_type": "code",
   "execution_count": 6,
   "id": "f3518c78",
   "metadata": {},
   "outputs": [
    {
     "name": "stdout",
     "output_type": "stream",
     "text": [
      "myclass2 - mymethod  0\n",
      "myclass2 - mymethod2\n"
     ]
    }
   ],
   "source": [
    "class myclass2(myclass): # OHP film\n",
    "    def mymethod1(self, n): #override\n",
    "        print('myclass2 - mymethod ' ,self.myvar1*n)\n",
    "    def mymethod2(self):\n",
    "        print('myclass2 - mymethod2')\n",
    "\n",
    "b= myclass2()\n",
    "b.mymethod1(10)\n",
    "b.mymethod2()"
   ]
  },
  {
   "cell_type": "code",
   "execution_count": 1,
   "id": "468fcc23",
   "metadata": {},
   "outputs": [
    {
     "name": "stdout",
     "output_type": "stream",
     "text": [
      "['a', 'b', 'c', 'd', 'e', 'f', 'g', 'h', 'i']\n",
      "['a', 'c', 'd', 'e', 'f', 'g', 'h', 'i']\n"
     ]
    }
   ],
   "source": [
    "list_1 = list('abcdefghi')\n",
    "print(list_1)\n",
    "list_1.remove('b')\n",
    "print(list_1)\n"
   ]
  },
  {
   "cell_type": "code",
   "execution_count": 3,
   "id": "a2ff026c",
   "metadata": {},
   "outputs": [
    {
     "name": "stdout",
     "output_type": "stream",
     "text": [
      "None\n"
     ]
    }
   ],
   "source": [
    "def list_remove_all(target_list, target_value):\n",
    "    for i in target_list:\n",
    "        target_value\n",
    "\n",
    "ret_list = list_remove_all(list('abcdefcghi'),'c')\n",
    "print(ret_list)"
   ]
  },
  {
   "cell_type": "code",
   "execution_count": null,
   "id": "a0f5ee30",
   "metadata": {},
   "outputs": [],
   "source": [
    "def list_remove_all(target_list, target_value):\n",
    "    while target_value in target_list:\n",
    "        target_list.remove(target_value)\n",
    "    return target_list\n",
    "\n",
    "def list_remove_all_v2(target_list, target_value): #python은 for보다는 while구문 사용\n",
    "    while True:\n",
    "        try:\n",
    "            target_list.remove(target_value)\n",
    "        except:\n",
    "            return target_list\n",
    "    \n",
    "\n",
    "ret_list = list_remove_all(list('abcdefcghi'),'c')\n",
    "print(ret_list)"
   ]
  },
  {
   "cell_type": "code",
   "execution_count": 17,
   "id": "7b285fed",
   "metadata": {},
   "outputs": [
    {
     "name": "stdout",
     "output_type": "stream",
     "text": [
      "['a', 'b', 'c', 'c', 'd', 'c', 1, 2]\n",
      "['a', 'b', 'd', 1, 2]\n"
     ]
    }
   ],
   "source": [
    "class mylist(list):\n",
    "    def remove_all(self, target_value):\n",
    "        while target_value in self:\n",
    "            self.remove(target_value)\n",
    "        return self\n",
    "\n",
    "mylist_1 = mylist(list('abccdc'))\n",
    "mylist_1.append(1)\n",
    "mylist_1.append(2)\n",
    "print(mylist_1)\n",
    "mylist_1.remove_all('c')\n",
    "print(mylist_1.remove_all('c'))\n"
   ]
  },
  {
   "cell_type": "code",
   "execution_count": 8,
   "id": "5df3dfa7",
   "metadata": {},
   "outputs": [
    {
     "name": "stdout",
     "output_type": "stream",
     "text": [
      "Help on class list in module builtins:\n",
      "\n",
      "class list(object)\n",
      " |  list(iterable=(), /)\n",
      " |  \n",
      " |  Built-in mutable sequence.\n",
      " |  \n",
      " |  If no argument is given, the constructor creates a new empty list.\n",
      " |  The argument must be an iterable if specified.\n",
      " |  \n",
      " |  Methods defined here:\n",
      " |  \n",
      " |  __add__(self, value, /)\n",
      " |      Return self+value.\n",
      " |  \n",
      " |  __contains__(self, key, /)\n",
      " |      Return key in self.\n",
      " |  \n",
      " |  __delitem__(self, key, /)\n",
      " |      Delete self[key].\n",
      " |  \n",
      " |  __eq__(self, value, /)\n",
      " |      Return self==value.\n",
      " |  \n",
      " |  __ge__(self, value, /)\n",
      " |      Return self>=value.\n",
      " |  \n",
      " |  __getattribute__(self, name, /)\n",
      " |      Return getattr(self, name).\n",
      " |  \n",
      " |  __getitem__(...)\n",
      " |      x.__getitem__(y) <==> x[y]\n",
      " |  \n",
      " |  __gt__(self, value, /)\n",
      " |      Return self>value.\n",
      " |  \n",
      " |  __iadd__(self, value, /)\n",
      " |      Implement self+=value.\n",
      " |  \n",
      " |  __imul__(self, value, /)\n",
      " |      Implement self*=value.\n",
      " |  \n",
      " |  __init__(self, /, *args, **kwargs)\n",
      " |      Initialize self.  See help(type(self)) for accurate signature.\n",
      " |  \n",
      " |  __iter__(self, /)\n",
      " |      Implement iter(self).\n",
      " |  \n",
      " |  __le__(self, value, /)\n",
      " |      Return self<=value.\n",
      " |  \n",
      " |  __len__(self, /)\n",
      " |      Return len(self).\n",
      " |  \n",
      " |  __lt__(self, value, /)\n",
      " |      Return self<value.\n",
      " |  \n",
      " |  __mul__(self, value, /)\n",
      " |      Return self*value.\n",
      " |  \n",
      " |  __ne__(self, value, /)\n",
      " |      Return self!=value.\n",
      " |  \n",
      " |  __repr__(self, /)\n",
      " |      Return repr(self).\n",
      " |  \n",
      " |  __reversed__(self, /)\n",
      " |      Return a reverse iterator over the list.\n",
      " |  \n",
      " |  __rmul__(self, value, /)\n",
      " |      Return value*self.\n",
      " |  \n",
      " |  __setitem__(self, key, value, /)\n",
      " |      Set self[key] to value.\n",
      " |  \n",
      " |  __sizeof__(self, /)\n",
      " |      Return the size of the list in memory, in bytes.\n",
      " |  \n",
      " |  append(self, object, /)\n",
      " |      Append object to the end of the list.\n",
      " |  \n",
      " |  clear(self, /)\n",
      " |      Remove all items from list.\n",
      " |  \n",
      " |  copy(self, /)\n",
      " |      Return a shallow copy of the list.\n",
      " |  \n",
      " |  count(self, value, /)\n",
      " |      Return number of occurrences of value.\n",
      " |  \n",
      " |  extend(self, iterable, /)\n",
      " |      Extend list by appending elements from the iterable.\n",
      " |  \n",
      " |  index(self, value, start=0, stop=9223372036854775807, /)\n",
      " |      Return first index of value.\n",
      " |      \n",
      " |      Raises ValueError if the value is not present.\n",
      " |  \n",
      " |  insert(self, index, object, /)\n",
      " |      Insert object before index.\n",
      " |  \n",
      " |  pop(self, index=-1, /)\n",
      " |      Remove and return item at index (default last).\n",
      " |      \n",
      " |      Raises IndexError if list is empty or index is out of range.\n",
      " |  \n",
      " |  remove(self, value, /)\n",
      " |      Remove first occurrence of value.\n",
      " |      \n",
      " |      Raises ValueError if the value is not present.\n",
      " |  \n",
      " |  reverse(self, /)\n",
      " |      Reverse *IN PLACE*.\n",
      " |  \n",
      " |  sort(self, /, *, key=None, reverse=False)\n",
      " |      Sort the list in ascending order and return None.\n",
      " |      \n",
      " |      The sort is in-place (i.e. the list itself is modified) and stable (i.e. the\n",
      " |      order of two equal elements is maintained).\n",
      " |      \n",
      " |      If a key function is given, apply it once to each list item and sort them,\n",
      " |      ascending or descending, according to their function values.\n",
      " |      \n",
      " |      The reverse flag can be set to sort in descending order.\n",
      " |  \n",
      " |  ----------------------------------------------------------------------\n",
      " |  Class methods defined here:\n",
      " |  \n",
      " |  __class_getitem__(...) from builtins.type\n",
      " |      See PEP 585\n",
      " |  \n",
      " |  ----------------------------------------------------------------------\n",
      " |  Static methods defined here:\n",
      " |  \n",
      " |  __new__(*args, **kwargs) from builtins.type\n",
      " |      Create and return a new object.  See help(type) for accurate signature.\n",
      " |  \n",
      " |  ----------------------------------------------------------------------\n",
      " |  Data and other attributes defined here:\n",
      " |  \n",
      " |  __hash__ = None\n",
      "\n"
     ]
    }
   ],
   "source": [
    "help(list)"
   ]
  }
 ],
 "metadata": {
  "kernelspec": {
   "display_name": "Python 3 (ipykernel)",
   "language": "python",
   "name": "python3"
  },
  "language_info": {
   "codemirror_mode": {
    "name": "ipython",
    "version": 3
   },
   "file_extension": ".py",
   "mimetype": "text/x-python",
   "name": "python",
   "nbconvert_exporter": "python",
   "pygments_lexer": "ipython3",
   "version": "3.10.9"
  }
 },
 "nbformat": 4,
 "nbformat_minor": 5
}

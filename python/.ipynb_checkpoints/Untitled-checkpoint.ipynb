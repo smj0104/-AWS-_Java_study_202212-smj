{
 "cells": [
  {
   "cell_type": "code",
   "execution_count": 1,
   "id": "f26844b5",
   "metadata": {},
   "outputs": [
    {
     "data": {
      "text/html": [
       "<div>\n",
       "<style scoped>\n",
       "    .dataframe tbody tr th:only-of-type {\n",
       "        vertical-align: middle;\n",
       "    }\n",
       "\n",
       "    .dataframe tbody tr th {\n",
       "        vertical-align: top;\n",
       "    }\n",
       "\n",
       "    .dataframe thead th {\n",
       "        text-align: right;\n",
       "    }\n",
       "</style>\n",
       "<table border=\"1\" class=\"dataframe\">\n",
       "  <thead>\n",
       "    <tr style=\"text-align: right;\">\n",
       "      <th></th>\n",
       "      <th>시점</th>\n",
       "      <th>공항</th>\n",
       "      <th>항구</th>\n",
       "    </tr>\n",
       "  </thead>\n",
       "  <tbody>\n",
       "    <tr>\n",
       "      <th>0</th>\n",
       "      <td>시점</td>\n",
       "      <td>김해</td>\n",
       "      <td>부산</td>\n",
       "    </tr>\n",
       "    <tr>\n",
       "      <th>1</th>\n",
       "      <td>2022.01</td>\n",
       "      <td>938</td>\n",
       "      <td>3279</td>\n",
       "    </tr>\n",
       "    <tr>\n",
       "      <th>2</th>\n",
       "      <td>2022.02</td>\n",
       "      <td>855</td>\n",
       "      <td>3179</td>\n",
       "    </tr>\n",
       "    <tr>\n",
       "      <th>3</th>\n",
       "      <td>2022.03</td>\n",
       "      <td>986</td>\n",
       "      <td>3418</td>\n",
       "    </tr>\n",
       "    <tr>\n",
       "      <th>4</th>\n",
       "      <td>2022.04</td>\n",
       "      <td>1823</td>\n",
       "      <td>3158</td>\n",
       "    </tr>\n",
       "  </tbody>\n",
       "</table>\n",
       "</div>"
      ],
      "text/plain": [
       "        시점    공항    항구\n",
       "0       시점    김해    부산\n",
       "1  2022.01   938  3279\n",
       "2  2022.02   855  3179\n",
       "3  2022.03   986  3418\n",
       "4  2022.04  1823  3158"
      ]
     },
     "execution_count": 1,
     "metadata": {},
     "output_type": "execute_result"
    }
   ],
   "source": [
    "import numpy as np\n",
    "import pandas as pd\n",
    "import matplotlib.pyplot as plt\n",
    "\n",
    "pd_data = pd.read_csv(\"내국인출국교통수단별_20230302165121.csv\", encoding = 'cp949')\n",
    "pd_data.columns = ['시점', '공항', '항구']\n",
    "pd_data.head()\n",
    "\n",
    "# 공항, 항구 월별 출국 인원 plot\n",
    "# normalization /standardization 적용, plot\n",
    "# 2015년부터 2022년까지의 추이 보기\n",
    "# 2022년 연말 공항 이용객 증가\n",
    "# 2022년 연말에 공항 출국 인원이 늘어난 것이 항구 출국인원에도 반영되었는가\n",
    "\n",
    "#pd_data['공항_norm'] = pd_data['공항'].apply(lambda x: (x-bmi_min)/(bmi_max-bmi_min))\n",
    "\n",
    "# .sort_values()\n",
    "# .sort_index()"
   ]
  },
  {
   "cell_type": "code",
   "execution_count": 2,
   "id": "8b05ee3a",
   "metadata": {},
   "outputs": [],
   "source": [
    "col_selection = ['시점', '공항', '항구']\n",
    "\n",
    "dt+time = pd.to_datetime(pd_data['시점'], format= )"
   ]
  },
  {
   "cell_type": "code",
   "execution_count": null,
   "id": "e984e7c7",
   "metadata": {},
   "outputs": [],
   "source": [
    "_, axe = plt.subplots()\n",
    "\n",
    "\n",
    "\n"
   ]
  }
 ],
 "metadata": {
  "kernelspec": {
   "display_name": "Python 3 (ipykernel)",
   "language": "python",
   "name": "python3"
  },
  "language_info": {
   "codemirror_mode": {
    "name": "ipython",
    "version": 3
   },
   "file_extension": ".py",
   "mimetype": "text/x-python",
   "name": "python",
   "nbconvert_exporter": "python",
   "pygments_lexer": "ipython3",
   "version": "3.10.9"
  }
 },
 "nbformat": 4,
 "nbformat_minor": 5
}

{
 "cells": [
  {
   "cell_type": "code",
   "execution_count": 1,
   "id": "a44e5cfc",
   "metadata": {},
   "outputs": [],
   "source": [
    "import numpy as np\n",
    "import pandas as pd\n"
   ]
  },
  {
   "cell_type": "code",
   "execution_count": 17,
   "id": "c88ec1d7",
   "metadata": {},
   "outputs": [
    {
     "name": "stdout",
     "output_type": "stream",
     "text": [
      "         B\n",
      "key A     \n",
      "k0  A0  B0\n",
      "k1  A1  B1\n",
      "k2  A2  B2\n",
      "k3  A3  B3\n",
      "B    B0\n",
      "Name: (k0, A0), dtype: object\n"
     ]
    }
   ],
   "source": [
    "# index\n",
    "df1 = pd.DataFrame({\n",
    "    'key' : ['k0', 'k1','k2','k3'],\n",
    "    'A' : ['A0', 'A1','A2','A3'],\n",
    "    'B' : ['B0', 'B1','B2','B3'],\n",
    "             \n",
    "}, index = [5,6,7,8])\n",
    "#print(df1)\n",
    "#print(df1.index)\n",
    "#df1.index = [0,1,2,3]\n",
    "#df1.index = df1['key']\n",
    "#df1.drop('key', axis =1, inplace = True)\n",
    "#print(df1)\n",
    "\n",
    "#df1.set_index('key', inplace = True)\n",
    "#print(df1)\n",
    "\n",
    "#df1.reset_index(inplace = True)\n",
    "#print(df1)\n",
    "\n",
    "df1.set_index(['key', 'A'], inplace = True)\n",
    "print(df1)\n",
    "#print(df1.loc[('k0', 'A0'),:])\n",
    "#df1.reset_index(level = 0, inplace = True)\n",
    "#print(df1) "
   ]
  },
  {
   "cell_type": "code",
   "execution_count": 24,
   "id": "0b222c49",
   "metadata": {},
   "outputs": [
    {
     "name": "stdout",
     "output_type": "stream",
     "text": [
      "           A    B    C    D\n",
      "one   0   A0   B0   C0   D0\n",
      "      1   A1   B1   C1   D1\n",
      "      2   A2   B2   C2   D2\n",
      "      3   A3   B3   C3   D3\n",
      "two   3   A4   B4   C4   D4\n",
      "      4   A5   B5   C5   D5\n",
      "      5   A6   B6   C6   D6\n",
      "      6   A7   B7   C7   D7\n",
      "three 6   A8   B8   C8   D8\n",
      "      7   A9   B9   C9   D9\n",
      "      8  A10  B10  C10  D10\n",
      "      9  A11  B11  C11  D11\n",
      "A    A5\n",
      "B    B5\n",
      "C    C5\n",
      "D    D5\n",
      "Name: (two, 4), dtype: object C\n"
     ]
    }
   ],
   "source": [
    "In [1]: df1 = pd.DataFrame(\n",
    "   ...:     {\n",
    "   ...:         \"A\": [\"A0\", \"A1\", \"A2\", \"A3\"],\n",
    "   ...:         \"B\": [\"B0\", \"B1\", \"B2\", \"B3\"],\n",
    "   ...:         \"C\": [\"C0\", \"C1\", \"C2\", \"C3\"],\n",
    "   ...:         \"D\": [\"D0\", \"D1\", \"D2\", \"D3\"],\n",
    "   ...:     },\n",
    "   ...:     index=[0, 1, 2, 3],\n",
    "   ...: )\n",
    "   ...: \n",
    "\n",
    "In [2]: df2 = pd.DataFrame(\n",
    "   ...:     {\n",
    "   ...:         \"A\": [\"A4\", \"A5\", \"A6\", \"A7\"],\n",
    "   ...:         \"B\": [\"B4\", \"B5\", \"B6\", \"B7\"],\n",
    "   ...:         \"C\": [\"C4\", \"C5\", \"C6\", \"C7\"],\n",
    "   ...:         \"D\": [\"D4\", \"D5\", \"D6\", \"D7\"],\n",
    "   ...:     },\n",
    "   ...:     index=[4, 5, 6, 7],\n",
    "   ...: )\n",
    "   ...: \n",
    "\n",
    "In [3]: df3 = pd.DataFrame(\n",
    "   ...:     {\n",
    "   ...:         \"A\": [\"A8\", \"A9\", \"A10\", \"A11\"],\n",
    "   ...:         \"B\": [\"B8\", \"B9\", \"B10\", \"B11\"],\n",
    "   ...:         \"C\": [\"C8\", \"C9\", \"C10\", \"C11\"],\n",
    "   ...:         \"D\": [\"D8\", \"D9\", \"D10\", \"D11\"],\n",
    "   ...:     },\n",
    "   ...:     index=[8, 9, 10, 11],\n",
    "   ...: )\n",
    "   ...: \n",
    "\n",
    "In [4]: frames = [df1, df2, df3]\n",
    "df2.index = [3,4,5,6]\n",
    "df3.index = [6,7,8,9]\n",
    "\n",
    "    \n",
    "    \n",
    "#In [5]: result = pd.concat(frames, axis =1, join = 'inner')\n",
    "#result = pd.concat([df1, df2], axis =1, join = 'inner')\n",
    "result = pd.concat(frames, keys=['one', 'two', 'three'])\n",
    "print(result)\n",
    "print(result.loc['two', 4], 'C')"
   ]
  },
  {
   "cell_type": "code",
   "execution_count": null,
   "id": "32136b8c",
   "metadata": {},
   "outputs": [],
   "source": [
    "In [33]: left = pd.DataFrame(\n",
    "   ....:     {\n",
    "   ....:         \"key\": [\"K0\", \"K1\", \"K2\", \"K3\"],\n",
    "   ....:         \"A\": [\"A0\", \"A1\", \"A2\", \"A3\"],\n",
    "   ....:         \"B\": [\"B0\", \"B1\", \"B2\", \"B3\"],\n",
    "   ....:     }\n",
    "   ....: )\n",
    "   ....: \n",
    "\n",
    "In [34]: right = pd.DataFrame(\n",
    "   ....:     {\n",
    "   ....:         \"key\": [\"K0\", \"K1\", \"K2\", \"K3\"],\n",
    "   ....:         \"C\": [\"C0\", \"C1\", \"C2\", \"C3\"],\n",
    "   ....:         \"D\": [\"D0\", \"D1\", \"D2\", \"D3\"],\n",
    "   ....:     }\n",
    "   ....: )\n",
    "   ....: \n",
    "\n",
    "In [35]: result = pd.merge(left, right, on=\"key\")"
   ]
  }
 ],
 "metadata": {
  "kernelspec": {
   "display_name": "Python 3 (ipykernel)",
   "language": "python",
   "name": "python3"
  },
  "language_info": {
   "codemirror_mode": {
    "name": "ipython",
    "version": 3
   },
   "file_extension": ".py",
   "mimetype": "text/x-python",
   "name": "python",
   "nbconvert_exporter": "python",
   "pygments_lexer": "ipython3",
   "version": "3.10.9"
  }
 },
 "nbformat": 4,
 "nbformat_minor": 5
}

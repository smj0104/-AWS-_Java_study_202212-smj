{
 "cells": [
  {
   "cell_type": "markdown",
   "id": "6b1888fb",
   "metadata": {},
   "source": [
    "### 내진설계 된 육교 퍼센트\n",
    " - (결측치 잇는 샘플은 버리기)  boolfilter 이용해서 버림\n",
    " - 안전등급별 육교 갯수, 비율\n",
    " - 육교가 만들어진 연도 vs. 장애인편의시설 간 상관관계\n",
    " - 연도,장애인편의시설 갖춘 육교의 갯수 / 해당연도 건설 육교 갯수\n",
    " \n",
    " - 육교연장, 허용통행하중, 통행제한 높이에 대해 최대,최소값, 평균,표준편차 구해보기 \n",
    " \n",
    " - 길이가 가장 긴 육교(육교연장) / 가장 튼튼한 육교(허용통행하중) / 가장 높은 육교(통행제한 높이)"
   ]
  },
  {
   "cell_type": "code",
   "execution_count": 23,
   "id": "761ba747",
   "metadata": {},
   "outputs": [],
   "source": [
    "import numpy as np\n",
    "\n",
    "def my_split(s):\n",
    "    block_start = False\n",
    "    start_index = 0\n",
    "    ret_list=[]\n",
    "    for i, c in enumerate(s):\n",
    "        if block_start==False:\n",
    "            if c==',':\n",
    "                ret_list.append(s[start_index:i])\n",
    "                start_index=i+1\n",
    "            elif c=='\"':\n",
    "                block_start=True\n",
    "                start_index = i\n",
    "        else:\n",
    "            if c=='\"':\n",
    "                block_start=False\n",
    "    if s[-1]!=',':\n",
    "        ret_list.append(s[start_index:])\n",
    "    return ret_list\n"
   ]
  },
  {
   "cell_type": "code",
   "execution_count": 19,
   "id": "8d7279c0",
   "metadata": {},
   "outputs": [
    {
     "name": "stdout",
     "output_type": "stream",
     "text": [
      "보통 :  390\n",
      "양호 :  795\n",
      "미흡 :  25\n",
      "우수 :  7\n",
      "불량 :  1\n",
      "보통: 32.01970443349754\n",
      "양호: 65.27093596059113\n",
      "미흡: 2.052545155993432\n",
      "우수: 0.5747126436781609\n",
      "불량: 0.08210180623973727\n"
     ]
    }
   ],
   "source": [
    "#안전등급의 차이?\n",
    "#지방별 육교의 수?\n",
    "#내진 설계 적용 유무\n",
    "\n",
    "data=[]\n",
    "with open('전국육교정보표준데이터.csv') as a:\n",
    "    for line in a:\n",
    "        data.append(line)\n",
    "        \n",
    "#print(data[:1])        \n",
    "\n",
    "\n",
    "safe_data=(my_split(data[0]))\n",
    "safe_rate = safe_data.index('안전등급')\n",
    "safe_rank=[]\n",
    "\n",
    "for i in range(1, len(data)):\n",
    "    a = my_split(data[i])\n",
    "    safe_rank.append(a[safe_rate])\n",
    "\n",
    "#print(safe_rank)\n",
    "list(set(safe_rank))\n",
    "print('보통 : ',safe_rank.count('보통'))\n",
    "print('양호 : ',safe_rank.count('양호'))\n",
    "print('미흡 : ',safe_rank.count('미흡'))\n",
    "print('우수 : ',safe_rank.count('우수'))\n",
    "print('불량 : ',safe_rank.count('불량'))\n",
    "\n",
    "rank1= safe_rank.count('보통')\n",
    "rank2= safe_rank.count('양호')\n",
    "rank3= safe_rank.count('미흡')\n",
    "rank4= safe_rank.count('우수')\n",
    "rank5= safe_rank.count('불량')\n",
    "\n",
    "rank1_percent = (rank1/1218)*100\n",
    "rank2_percent = (rank2/1218)*100\n",
    "rank3_percent = (rank3/1218)*100\n",
    "rank4_percent = (rank4/1218)*100\n",
    "rank5_percent = (rank5/1218)*100\n",
    "\n",
    "print('보통:',rank1_percent)\n",
    "print('양호:',rank2_percent)\n",
    "print('미흡:',rank3_percent)\n",
    "print('우수:',rank4_percent)\n",
    "print('불량:',rank5_percent)"
   ]
  },
  {
   "cell_type": "code",
   "execution_count": 26,
   "id": "73ebbeb5",
   "metadata": {},
   "outputs": [
    {
     "name": "stdout",
     "output_type": "stream",
     "text": [
      "(0, '육교명')\n",
      "(1, '도로종류')\n",
      "(2, '도로노선번호')\n",
      "(3, '도로노선명')\n",
      "(4, '소재지도로명주소')\n",
      "(5, '위도')\n",
      "(6, '경도')\n",
      "(7, '육교연장')\n",
      "(8, '육교높이')\n",
      "(9, '허용통행하중')\n",
      "(10, '통행제한높이')\n",
      "(11, '육교폭')\n",
      "(12, '난간높이')\n",
      "(13, '조명개수')\n",
      "(14, '장애인편의시설설치여부')\n",
      "(15, '장애인편의시설종류')\n",
      "(16, '장애인편의시설수량')\n",
      "(17, '부대시설종류')\n",
      "(18, '부대시설수량')\n",
      "(19, '육교준공일자')\n",
      "(20, '내진설계적용여부')\n",
      "(21, '안전등급')\n",
      "(22, '사용제한구분')\n",
      "(23, '육교보수보강내역')\n",
      "(24, '최종안전점검유형')\n",
      "(25, '최종안전점검일자')\n",
      "(26, '관리기관명')\n",
      "(27, '데이터기준일자')\n",
      "(28, '제공기관코드')\n",
      "(29, '제공기관명')\n",
      "[' ' 'N' 'Y']\n",
      "[343 695 162]\n",
      "[28.58333333 57.91666667 13.5       ]\n"
     ]
    }
   ],
   "source": [
    "data=[]\n",
    "with open('전국육교정보표준데이터.csv') as a:\n",
    "    for line in a:\n",
    "        data.append(my_split(line[:-1]))\n",
    "        \n",
    "np_data = np.array(data)\n",
    "for e in enumerate(np_data[0]):\n",
    "    print(e)\n",
    "    \n",
    "btypes = np_data[19:, 20]\n",
    "btype_name, btype_count = np.unique(btypes, return_counts=True)\n",
    "print(btype_name)\n",
    "print(btype_count)\n",
    "print(btype_count*100 / np.sum(btype_count))"
   ]
  },
  {
   "cell_type": "code",
   "execution_count": null,
   "id": "4c6170f8",
   "metadata": {},
   "outputs": [],
   "source": []
  }
 ],
 "metadata": {
  "kernelspec": {
   "display_name": "Python 3 (ipykernel)",
   "language": "python",
   "name": "python3"
  },
  "language_info": {
   "codemirror_mode": {
    "name": "ipython",
    "version": 3
   },
   "file_extension": ".py",
   "mimetype": "text/x-python",
   "name": "python",
   "nbconvert_exporter": "python",
   "pygments_lexer": "ipython3",
   "version": "3.10.9"
  }
 },
 "nbformat": 4,
 "nbformat_minor": 5
}

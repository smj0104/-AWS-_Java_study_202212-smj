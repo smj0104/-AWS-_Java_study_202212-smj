{
 "cells": [
  {
   "cell_type": "markdown",
   "id": "89941b79",
   "metadata": {},
   "source": [
    "### 데이터산업의 기술등급별 데이터직무 인력 현황\n",
    "\n",
    " * 데이터 직무별 axe 생성\n",
    "     * x축 : 시점\n",
    "     * y축 : 업종(2개)\n",
    "     \n",
    " * 하나의 figure에, 총 8개 axe가 바둑판 형식으로 배치되는 형태,( 4col X 2 rows), figure사이즈는 각자 알아서\n",
    " * title 표시"
   ]
  }
 ],
 "metadata": {
  "kernelspec": {
   "display_name": "Python 3 (ipykernel)",
   "language": "python",
   "name": "python3"
  },
  "language_info": {
   "codemirror_mode": {
    "name": "ipython",
    "version": 3
   },
   "file_extension": ".py",
   "mimetype": "text/x-python",
   "name": "python",
   "nbconvert_exporter": "python",
   "pygments_lexer": "ipython3",
   "version": "3.10.9"
  }
 },
 "nbformat": 4,
 "nbformat_minor": 5
}

{
 "cells": [
  {
   "cell_type": "code",
   "execution_count": 4,
   "id": "f93ffd79",
   "metadata": {},
   "outputs": [],
   "source": [
    "#  !pip install numpy (주피터 노트북에서 설치법)\n",
    "import numpy as np"
   ]
  },
  {
   "cell_type": "code",
   "execution_count": 6,
   "id": "01e9b215",
   "metadata": {},
   "outputs": [
    {
     "name": "stdout",
     "output_type": "stream",
     "text": [
      "[1, 2, 3, 4, 5]\n",
      "[1 2 3 4 5]\n",
      "<class 'numpy.ndarray'>\n"
     ]
    }
   ],
   "source": [
    "a1 = np.array([1,2,3,4,5])\n",
    "print([1,2,3,4,5])\n",
    "print(a1)\n",
    "print(type(a1))"
   ]
  },
  {
   "cell_type": "code",
   "execution_count": 17,
   "id": "c59a4ccc",
   "metadata": {},
   "outputs": [
    {
     "name": "stdout",
     "output_type": "stream",
     "text": [
      "[0 1 2 3 4 5 6 7 8 9]\n",
      "[ 0  3  6  9 12 15 18 21 24 27 30 33 36 39 42 45 48 51 54 57 60 63 66 69\n",
      " 72 75 78 81 84 87 90 93 96 99]\n",
      "[1.3 1.8 2.3 2.8 3.3 3.8 4.3 4.8 5.3 5.8 6.3 6.8 7.3 7.8 8.3 8.8 9.3 9.8]\n"
     ]
    }
   ],
   "source": [
    "a2 = np.arange(10)  #arange를 가장 많이씀\n",
    "print(a2)\n",
    "\n",
    "#변수 a3, 100 아래 3의 배수 담기\n",
    "a3 = np.arange(0,100,3)\n",
    "print(a3)\n",
    "\n",
    "# 1에서 부터 10아래 0.5씩 증가하는 숫자, step = 0.5\n",
    "a4 = np.arange(1.3, 10, 0.5)\n",
    "print(a4)\n",
    "\n",
    "#lista = [i for i in range(1.3,10,0.5)] 일반적인 python은 불가능"
   ]
  },
  {
   "cell_type": "code",
   "execution_count": 19,
   "id": "1987d54d",
   "metadata": {},
   "outputs": [
    {
     "name": "stdout",
     "output_type": "stream",
     "text": [
      "[ 0.          0.71428571  1.42857143  2.14285714  2.85714286  3.57142857\n",
      "  4.28571429  5.          5.71428571  6.42857143  7.14285714  7.85714286\n",
      "  8.57142857  9.28571429 10.        ]\n"
     ]
    }
   ],
   "source": [
    "a4 = np.linspace(0, 10, 15)   # 0~10 사이의 숫자 3개 / 마지막 숫자 포함\n",
    "print(a4)"
   ]
  },
  {
   "cell_type": "code",
   "execution_count": 25,
   "id": "391ea884",
   "metadata": {},
   "outputs": [
    {
     "name": "stdout",
     "output_type": "stream",
     "text": [
      "[0. 0. 0. 0. 0.]\n",
      "[1 1 1 1 1]\n"
     ]
    },
    {
     "data": {
      "text/plain": [
       "array([1., 1., 1., 1., 1.])"
      ]
     },
     "execution_count": 25,
     "metadata": {},
     "output_type": "execute_result"
    }
   ],
   "source": [
    "a5 = np.zeros(5)\n",
    "print(a5)\n",
    "\n",
    "a6 = np.ones(5, dtype = np.int64)  #64비트 정수형으로 출력\n",
    "print(a6)  \n",
    "\n",
    "a6.astype(np.float64) # 실수형 / 타입이 전부 동일하게 들어가야한다"
   ]
  },
  {
   "cell_type": "code",
   "execution_count": 31,
   "id": "6173c67c",
   "metadata": {},
   "outputs": [
    {
     "name": "stdout",
     "output_type": "stream",
     "text": [
      "[1.  2.  3.5 4.2]\n",
      "['1' '2' 'abc' 'def']\n"
     ]
    }
   ],
   "source": [
    "lista= [1,2,3.5,4.2]\n",
    "a7 = np.array(lista)\n",
    "print(a7)\n",
    "\n",
    "listb = [1,2,'abc','def']\n",
    "a8 = np.array(listb)\n",
    "print(a8)\n",
    "#a8.astype(np.int64)  불가능"
   ]
  },
  {
   "cell_type": "code",
   "execution_count": 38,
   "id": "27143066",
   "metadata": {},
   "outputs": [
    {
     "name": "stdout",
     "output_type": "stream",
     "text": [
      "float64\n",
      "1\n",
      "(4,)\n",
      "4\n",
      "8\n",
      "<memory at 0x000002242C341900>\n"
     ]
    }
   ],
   "source": [
    "print(a7.dtype) #타입 물어봄\n",
    "print(a7.ndim)  #몇차원의 array인가\n",
    "print(a7.shape) #array의 모양 / 튜플의 형태로 반환\n",
    "print(a7.size) #배열안의 모든 element의 갯수\n",
    "\n",
    "print(a7.itemsize) \n",
    "print(a7.data)"
   ]
  },
  {
   "cell_type": "code",
   "execution_count": 48,
   "id": "fcc39b19",
   "metadata": {},
   "outputs": [
    {
     "name": "stdout",
     "output_type": "stream",
     "text": [
      "[10 15 20 25 30 35 40 45 50 55 60 65 70 75 80 85 90 95]\n",
      "10 95\n",
      "[25 30 35 40]\n",
      "[20 30 40 50]\n"
     ]
    }
   ],
   "source": [
    "a10 = np.arange(10,100,5)\n",
    "print(a10)\n",
    "#특정 인덱스\n",
    "\n",
    "#print(a10[5])\n",
    "print(a10[0],a10[-1])\n",
    "#스타트, 스탑\n",
    "\n",
    "print(a10[3:7])\n",
    "\n",
    "#스타트, 스탑 , 스텝\n",
    "print(a10[2:9:2])"
   ]
  },
  {
   "cell_type": "code",
   "execution_count": 52,
   "id": "857b95ef",
   "metadata": {},
   "outputs": [
    {
     "name": "stdout",
     "output_type": "stream",
     "text": [
      "[10 15 20 25 30 35 40 45 50 55 60 65 70 75 80 85 90 95]\n",
      "[15 25 45]\n",
      "[10, 15, 20, 25, 30, 35, 40, 45, 50, 55, 60, 65, 70, 75, 80, 85, 90, 95]\n"
     ]
    },
    {
     "ename": "TypeError",
     "evalue": "list indices must be integers or slices, not list",
     "output_type": "error",
     "traceback": [
      "\u001b[1;31m---------------------------------------------------------------------------\u001b[0m",
      "\u001b[1;31mTypeError\u001b[0m                                 Traceback (most recent call last)",
      "Cell \u001b[1;32mIn[52], line 7\u001b[0m\n\u001b[0;32m      5\u001b[0m list10 \u001b[38;5;241m=\u001b[39m [x \u001b[38;5;28;01mfor\u001b[39;00m x \u001b[38;5;129;01min\u001b[39;00m \u001b[38;5;28mrange\u001b[39m(\u001b[38;5;241m10\u001b[39m,\u001b[38;5;241m100\u001b[39m,\u001b[38;5;241m5\u001b[39m)]\n\u001b[0;32m      6\u001b[0m \u001b[38;5;28mprint\u001b[39m(list10)\n\u001b[1;32m----> 7\u001b[0m \u001b[38;5;28mprint\u001b[39m(\u001b[43mlist10\u001b[49m\u001b[43m[\u001b[49m\u001b[43m[\u001b[49m\u001b[38;5;241;43m1\u001b[39;49m\u001b[43m,\u001b[49m\u001b[38;5;241;43m3\u001b[39;49m\u001b[43m,\u001b[49m\u001b[38;5;241;43m7\u001b[39;49m\u001b[43m]\u001b[49m\u001b[43m]\u001b[49m)\n",
      "\u001b[1;31mTypeError\u001b[0m: list indices must be integers or slices, not list"
     ]
    }
   ],
   "source": [
    "a10 = np.arange(10,100,5)\n",
    "print(a10)\n",
    "print(a10[[1,3,7 ]])  # 인덱스 1, 3 , 7번만 꺼내달라\n",
    "\n",
    "list10 = [x for x in range(10,100,5)]\n",
    "print(list10)\n",
    "print(list10[[1,3,7]])  #python list에서는 지원불가\n"
   ]
  },
  {
   "cell_type": "code",
   "execution_count": 56,
   "id": "f50aa259",
   "metadata": {},
   "outputs": [
    {
     "name": "stdout",
     "output_type": "stream",
     "text": [
      "[10 15 20 25 30 35 40 45 50 55 60 65 70 75 80 85 90 95]\n",
      "[15 25 35 45 55 65 75 85 95]\n",
      "[False  True False  True False  True False  True False  True False  True\n",
      " False  True False  True False  True]\n",
      "(18,)\n",
      "(18,)\n",
      "[15 25 35 45 55 65 75 85 95]\n"
     ]
    }
   ],
   "source": [
    "a10 = np.arange(10,100,5)\n",
    "print(a10)\n",
    "print(a10[a10%10==5])\n",
    "\n",
    "x = (a10%10==5)   # BroadCasting?\n",
    "print(x)\n",
    "print(x.shape)\n",
    "print(a10.shape)\n",
    "print(a10[x])"
   ]
  },
  {
   "cell_type": "code",
   "execution_count": 63,
   "id": "cf45ec49",
   "metadata": {},
   "outputs": [
    {
     "name": "stdout",
     "output_type": "stream",
     "text": [
      "[0, 1, 2, 3, 4]\n",
      "[10, 11, 12, 13, 14]\n",
      "[0, 1, 2, 3, 4, 10, 11, 12, 13, 14]\n"
     ]
    },
    {
     "ename": "TypeError",
     "evalue": "unsupported operand type(s) for -: 'list' and 'list'",
     "output_type": "error",
     "traceback": [
      "\u001b[1;31m---------------------------------------------------------------------------\u001b[0m",
      "\u001b[1;31mTypeError\u001b[0m                                 Traceback (most recent call last)",
      "Cell \u001b[1;32mIn[63], line 6\u001b[0m\n\u001b[0;32m      4\u001b[0m \u001b[38;5;28mprint\u001b[39m(listb)\n\u001b[0;32m      5\u001b[0m \u001b[38;5;28mprint\u001b[39m(lista \u001b[38;5;241m+\u001b[39m listb)\n\u001b[1;32m----> 6\u001b[0m \u001b[38;5;28mprint\u001b[39m(\u001b[43mlista\u001b[49m\u001b[43m \u001b[49m\u001b[38;5;241;43m-\u001b[39;49m\u001b[43m \u001b[49m\u001b[43mlistb\u001b[49m)\n",
      "\u001b[1;31mTypeError\u001b[0m: unsupported operand type(s) for -: 'list' and 'list'"
     ]
    }
   ],
   "source": [
    "lista = [x for x in range(5)]\n",
    "listb = [x for x in range(10,15)]\n",
    "print(lista)\n",
    "print(listb)\n",
    "print(lista + listb)\n",
    "#print(lista - listb) 불가능"
   ]
  },
  {
   "cell_type": "code",
   "execution_count": 64,
   "id": "87cc0386",
   "metadata": {},
   "outputs": [
    {
     "name": "stdout",
     "output_type": "stream",
     "text": [
      "[0 1 2 3 4]\n",
      "[10 11 12 13 14]\n",
      "add:  [10 12 14 16 18]\n",
      "[ 0  1  2  3  4 10 11 12 13 14]\n",
      "sub:  [-10 -10 -10 -10 -10]\n",
      "mul:  [ 0 11 24 39 56]\n",
      "div:  [0.         0.09090909 0.16666667 0.23076923 0.28571429]\n"
     ]
    }
   ],
   "source": [
    "a1 = np.arange(5)\n",
    "a2 = np.arange(10,15)\n",
    "print(a1)\n",
    "print(a2)\n",
    "print('add: ', a1 + a2)  \n",
    "print(np.concatenate((a1,a2))) # 두 함수의 연결\n",
    "print('sub: ', a1-a2)\n",
    "print('mul: ', a1*a2)\n",
    "print('div: ', a1/a2)"
   ]
  },
  {
   "cell_type": "code",
   "execution_count": null,
   "id": "7cc6cbeb",
   "metadata": {},
   "outputs": [],
   "source": [
    "#IP에 대해서 \n",
    "#IPv4 : MAC으로 한계가 있어 만들어낸 주소  / MAC: 물리적인 주소(하드웨어에 고정된 주소)\n",
    "#초창기 32비트에 주소를 담을려고함 0000~1에서 0000~2순으로\n",
    "# 192/ 168/ 2/ 101    /256.xxx.x.xxx 같은건 없다\n",
    "#비트패턴  //서브클래싱    앞의 3개는 사설IP 뒤의 하나가 공용IP\n",
    "#IP설정 컴퓨터 호스트 IP/ GateWay IP : 안잡혀있으면 외부와 연결이 불가 (일방적으로 가정의 공유기)"
   ]
  }
 ],
 "metadata": {
  "kernelspec": {
   "display_name": "Python 3 (ipykernel)",
   "language": "python",
   "name": "python3"
  },
  "language_info": {
   "codemirror_mode": {
    "name": "ipython",
    "version": 3
   },
   "file_extension": ".py",
   "mimetype": "text/x-python",
   "name": "python",
   "nbconvert_exporter": "python",
   "pygments_lexer": "ipython3",
   "version": "3.10.9"
  }
 },
 "nbformat": 4,
 "nbformat_minor": 5
}

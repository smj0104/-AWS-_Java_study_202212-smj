{
 "cells": [
  {
   "cell_type": "code",
   "execution_count": null,
   "id": "f5ba0979",
   "metadata": {},
   "outputs": [],
   "source": [
    "drop 교육시작시각,교육종료시각, 강좌내용, 운영기관전화번호\n",
    "column 별 적절한 dtype 지정 astype()이용\n",
    " (원본값 수정방법 1 현재값 업데이트 2 astype의 키워드 옵션 사용\n",
    " (astype의 키워드 옵션 사용방법 Documentation 참조\n",
    "  수치값 np.in64/ np.float64\n",
    "  종류를 구분하는 문자열(label) : category\n",
    "  날짜 : np.datetime64\n",
    "  이외:object\n",
    "  \n",
    "  전체 DataFrame에 대한 describe 결과보기 (describe 키워드 옵션 documentation 참조)\n",
    "  \n",
    "  항목(column)별 결측치 갯수 파악"
   ]
  },
  {
   "cell_type": "code",
   "execution_count": null,
   "id": "43daa783",
   "metadata": {},
   "outputs": [],
   "source": []
  }
 ],
 "metadata": {
  "kernelspec": {
   "display_name": "Python 3 (ipykernel)",
   "language": "python",
   "name": "python3"
  },
  "language_info": {
   "codemirror_mode": {
    "name": "ipython",
    "version": 3
   },
   "file_extension": ".py",
   "mimetype": "text/x-python",
   "name": "python",
   "nbconvert_exporter": "python",
   "pygments_lexer": "ipython3",
   "version": "3.10.9"
  }
 },
 "nbformat": 4,
 "nbformat_minor": 5
}

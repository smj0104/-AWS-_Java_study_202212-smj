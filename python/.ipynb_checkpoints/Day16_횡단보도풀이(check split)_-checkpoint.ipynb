{
 "cells": [
  {
   "cell_type": "code",
   "execution_count": 29,
   "id": "03e7976b",
   "metadata": {},
   "outputs": [],
   "source": [
    "import numpy as np\n",
    "import matplotlib.pyplot as plt\n",
    "\n",
    "np.set_printoptions\n",
    "\n",
    "def my_split(s):\n",
    "    block_start = False\n",
    "    start_index = 0\n",
    "    ret_list=[]\n",
    "    for i, c in enumerate(s):\n",
    "        if block_start==False:\n",
    "            if c==',':\n",
    "                ret_list.append(s[start_index:i].strip())\n",
    "                start_index=i+1\n",
    "            elif c=='\"':\n",
    "                block_start=True\n",
    "                start_index = i\n",
    "        else:\n",
    "            if c=='\"':\n",
    "                block_start=False\n",
    "    if s[-1]!=',':\n",
    "        ret_list.append(s[start_index:])\n",
    "    return ret_list\n",
    "\n",
    "def check_split(list_data):\n",
    "    t = set()\n",
    "    for e in list_data:\n",
    "        t.add(len(e))\n",
    "    return len(t)\n",
    "\n",
    "def print_index_title(data):\n",
    "    for e in enumerate(data[0]):\n",
    "        print(e)"
   ]
  },
  {
   "cell_type": "code",
   "execution_count": 30,
   "id": "690d5f84",
   "metadata": {},
   "outputs": [],
   "source": [
    "def np_data_from_data_go_kr_csv(filename):\n",
    "    t=[]\n",
    "    with open(filename, encoding = 'cp949') as f:\n",
    "        for line in f:\n",
    "            t.append(my_split(line[:-1]))\n",
    "    if check_split(t)!=1:\n",
    "        return None \n",
    "    else:\n",
    "        return np.array(t)"
   ]
  },
  {
   "cell_type": "code",
   "execution_count": 54,
   "id": "f722962b",
   "metadata": {},
   "outputs": [
    {
     "data": {
      "text/plain": [
       "0.5691244290555937"
      ]
     },
     "execution_count": 54,
     "metadata": {},
     "output_type": "execute_result"
    },
    {
     "data": {
      "image/png": "[encoded data removed]",
      "text/plain": [
       "<Figure size 640x480 with 1 Axes>"
      ]
     },
     "metadata": {},
     "output_type": "display_data"
    }
   ],
   "source": [
    "def target1(data):\n",
    "    sub_data = np_data[1:, [13,17]]\n",
    "    \n",
    "    sub_data[sub_data=='0']=''\n",
    "    sub_data = np.where(sub_data=='0','',sub_data)\n",
    "    \n",
    "    filter1 = sub_data[:,1]!=''\n",
    "    sub_data_f = sub_data[filter1].astype(np.float64)\n",
    "    #print(np.unique(sub_data[:,0]))\n",
    "    #print(np.unique(sub_data[:,1]))\n",
    "    #print(sub_data_f[:10])\n",
    "    \n",
    "    #_,axe = plt.subplots()\n",
    "    \n",
    "    #axe.scatter(sub_data_f[:,0], sub_data_f[:,1])\n",
    "    \n",
    "    filter2 = sub_data_f[:,0]<100\n",
    "    sub_data_f2 = sub_data_f[filter2]\n",
    "    \n",
    "    _,axe = plt.subplots()\n",
    "    axe.scatter(sub_data_f2[:,0], sub_data_f2[:,1])\n",
    "    \n",
    "    \n",
    "    #axe.scatter(sub_data_f[:,0], sub_data_f[:,1])\n",
    "    \n",
    "    return np.corrcoef(sub_data_f2[:,0], sub_data_f2[:,1])[0,1]\n",
    "    #return np.corrcoef(sub_data_f[:,0], sub_data_f[:,1])\n",
    "#target1(np_data)"
   ]
  },
  {
   "cell_type": "code",
   "execution_count": 31,
   "id": "469aa99d",
   "metadata": {},
   "outputs": [
    {
     "data": {
      "text/plain": [
       "0.13534760926958053"
      ]
     },
     "execution_count": 31,
     "metadata": {},
     "output_type": "execute_result"
    }
   ],
   "source": [
    "def target2(data):\n",
    "    sub_data = np_data[1:, 7]\n",
    "    val, cnt = np.unique(sub_data, return_counts = True)\n",
    "    #print(val, cnt)\n",
    "    return cnt[2]/np.sum(cnt[1:])\n",
    "\n",
    "\n",
    "#target2(np_data)"
   ]
  },
  {
   "cell_type": "code",
   "execution_count": 39,
   "id": "17e45581",
   "metadata": {},
   "outputs": [
    {
     "name": "stdout",
     "output_type": "stream",
     "text": [
      "['0' '1' '10' '11' '12' '13' '15' '2' '3' '4' '5' '6' '7' '8' '9']\n",
      "['' 'N' 'Y']\n"
     ]
    },
    {
     "data": {
      "text/plain": [
       "array([[0.0000e+00, 2.0000e+00, 2.0000e+00, 5.0000e-01],\n",
       "       [1.0000e+00, 8.5360e+03, 8.5360e+03, 5.0000e-01],\n",
       "       [2.0000e+00, 1.9422e+04, 1.9422e+04, 5.0000e-01],\n",
       "       [3.0000e+00, 3.5950e+03, 3.5950e+03, 5.0000e-01],\n",
       "       [4.0000e+00, 9.0000e+03, 9.0000e+03, 5.0000e-01],\n",
       "       [5.0000e+00, 3.2870e+03, 3.2870e+03, 5.0000e-01],\n",
       "       [6.0000e+00, 3.0180e+03, 3.0180e+03, 5.0000e-01],\n",
       "       [7.0000e+00, 1.5970e+03, 1.5970e+03, 5.0000e-01],\n",
       "       [8.0000e+00, 8.1400e+02, 8.1400e+02, 5.0000e-01],\n",
       "       [9.0000e+00, 4.5500e+02, 4.5500e+02, 5.0000e-01],\n",
       "       [1.0000e+01, 1.7800e+02, 1.7800e+02, 5.0000e-01],\n",
       "       [1.1000e+01, 5.3000e+01, 5.3000e+01, 5.0000e-01],\n",
       "       [1.2000e+01, 2.3000e+01, 2.3000e+01, 5.0000e-01],\n",
       "       [1.3000e+01, 1.8000e+01, 1.8000e+01, 5.0000e-01],\n",
       "       [1.5000e+01, 2.0000e+00, 2.0000e+00, 5.0000e-01]])"
      ]
     },
     "execution_count": 39,
     "metadata": {},
     "output_type": "execute_result"
    }
   ],
   "source": [
    "def target3(data):\n",
    "    sub_data = np_data[1:, [11,7]]\n",
    "    print(np.unique(sub_data[:,0])) #값 확인\n",
    "    print(np.unique(sub_data[:,1]))\n",
    "    \n",
    "    t = []\n",
    "    for e in np.unique(sub_data[:,0]):\n",
    "        filter1 = sub_data[:,0]==e\n",
    "        sub_data_f = sub_data[filter1]\n",
    "        #print(sub_data_f)\n",
    "        sub_data_f_y = sub_data_f[:,1]=='Y'\n",
    "        sub_data_f_n = sub_data_f[:,1]=='N'\n",
    "        #print(e, len(sub_data_f_y), len(sub_data_f_n))\n",
    "        #print(np.unique(sub_data_f[:,1], return_counts = True))\n",
    "        #print(len(sub_data_f_y)/len(sub_data_f_n))\n",
    "        yes_count = len(sub_data_f_y)\n",
    "        no_count = len(sub_data_f_n)\n",
    "        yes_no_count = yes_count+no_count\n",
    "        if yes_no_count == 0:\n",
    "            yes_no_count == 1\n",
    "        t.append((e,yes_count, no_count, yes_count/ yes_no_count))\n",
    "    t = np.array(t).astype(np.float64)\n",
    "    t = np.array(sorted(t,key = lambda x:x[0]))\n",
    "    return t\n",
    "                               \n",
    "    \n",
    "#target3(np_data)"
   ]
  },
  {
   "cell_type": "code",
   "execution_count": 73,
   "id": "24fb6f9d",
   "metadata": {},
   "outputs": [
    {
     "name": "stdout",
     "output_type": "stream",
     "text": [
      "['0' '1' '10' '11' '12' '13' '15' '2' '3' '4' '5' '6' '7' '8' '9']\n",
      "['' 'N' 'Y' 'n']\n"
     ]
    }
   ],
   "source": [
    "def target4(data):\n",
    "    sub_data = np_data[1:, [11,16]]\n",
    "    print(np.unique(sub_data[:,0])) \n",
    "    print(np.unique(sub_data[:,1]))\n",
    "    sub_data[sub_data=='n'] ='N'\n",
    "    sub_data[sub_data=='y'] ='Y'\n",
    "    return\n",
    "    \n",
    "    t = []\n",
    "    for e in np.unique(sub_data[:,0]):\n",
    "        filter1 = sub_data[:,0]==e\n",
    "        sub_data_f = sub_data[filter1]\n",
    "        #print(sub_data_f)\n",
    "        sub_data_f_y = sub_data_f[:,1]=='Y'\n",
    "        sub_data_f_n = sub_data_f[:,1]=='N'\n",
    "        #print(e, len(sub_data_f_y), len(sub_data_f_n))\n",
    "        #print(np.unique(sub_data_f[:,1], return_counts = True))\n",
    "        #print(len(sub_data_f_y)/len(sub_data_f_n))\n",
    "        yes_count = len(sub_data_f_y)\n",
    "        no_count = len(sub_data_f_n)\n",
    "        yes_no_count = yes_count+no_count\n",
    "        if yes_no_count == 0:\n",
    "            yes_no_count == 1\n",
    "        t.append((e,yes_count, no_count, yes_count/ yes_no_count))\n",
    "    t = np.array(t).astype(np.float64)\n",
    "    t = np.array(sorted(t,key = lambda x:x[0]))\n",
    "    return t\n",
    "\n",
    "#target4(np_data)                             "
   ]
  },
  {
   "cell_type": "code",
   "execution_count": 72,
   "id": "97e6bf82",
   "metadata": {},
   "outputs": [
    {
     "ename": "IndentationError",
     "evalue": "unindent does not match any outer indentation level (<tokenize>, line 3)",
     "output_type": "error",
     "traceback": [
      "\u001b[1;36m  File \u001b[1;32m<tokenize>:3\u001b[1;36m\u001b[0m\n\u001b[1;33m    print(np.unique(sub_data[:,0]))\u001b[0m\n\u001b[1;37m    ^\u001b[0m\n\u001b[1;31mIndentationError\u001b[0m\u001b[1;31m:\u001b[0m unindent does not match any outer indentation level\n"
     ]
    }
   ],
   "source": [
    "def target5(data):\n",
    "        sub_data = np_data[1:, [11,16]]\n",
    "    print(np.unique(sub_data[:,0])) \n",
    "    print(np.unique(sub_data[:,1]))\n",
    "    sub_data[sub_data=='n'] ='N'\n",
    "    sub_data[sub_data=='y'] ='Y'\n",
    "    return\n",
    "    \n",
    "    t = []\n",
    "    for e in np.unique(sub_data[:,0]):\n",
    "        filter1 = sub_data[:,0]==e\n",
    "        sub_data_f = sub_data[filter1]\n",
    "        #print(sub_data_f)\n",
    "        sub_data_f_y = sub_data_f[:,1]=='Y'\n",
    "        sub_data_f_n = sub_data_f[:,1]=='N'\n",
    "        #print(e, len(sub_data_f_y), len(sub_data_f_n))\n",
    "        #print(np.unique(sub_data_f[:,1], return_counts = True))\n",
    "        #print(len(sub_data_f_y)/len(sub_data_f_n))\n",
    "        yes_count = len(sub_data_f_y)\n",
    "        no_count = len(sub_data_f_n)\n",
    "        yes_no_count = yes_count+no_count\n",
    "        if yes_no_count == 0:\n",
    "            yes_no_count == 1\n",
    "        t.append((e,yes_count, no_count, yes_count/ yes_no_count))\n",
    "    t = np.array(t).astype(np.float64)\n",
    "    t = np.array(sorted(t,key = lambda x:x[0]))\n",
    "    return t\n",
    "\n",
    "#target5(np_data)   "
   ]
  },
  {
   "cell_type": "code",
   "execution_count": 15,
   "id": "a33035f6",
   "metadata": {},
   "outputs": [
    {
     "name": "stdout",
     "output_type": "stream",
     "text": [
      "(0, '시도명')\n",
      "(1, '시군구명')\n",
      "(2, '도로명')\n",
      "(3, '소재지도로명주소')\n",
      "(4, '소재지지번주소')\n",
      "(5, '횡단보도관리번호')\n",
      "(6, '횡단보도종류')\n",
      "(7, '자전거횡단도겸용여부')\n",
      "(8, '고원식적용여부')\n",
      "(9, '위도')\n",
      "(10, '경도')\n",
      "(11, '차로수')\n",
      "(12, '횡단보도폭')\n",
      "(13, '횡단보도연장')\n",
      "(14, '보행자신호등유무')\n",
      "(15, '보행자작동신호기유무')\n",
      "(16, '음향신호기설치여부')\n",
      "(17, '녹색신호시간')\n",
      "(18, '적색신호시간')\n",
      "(19, '교통섬유무')\n",
      "(20, '보도턱낮춤여부')\n",
      "(21, '점자블록유무')\n",
      "(22, '집중조명시설유무')\n",
      "(23, '관리기관명')\n",
      "(24, '관리기관전화번호')\n",
      "(25, '데이터기준일자')\n",
      "(26, '제공기관코드')\n",
      "(27, '제공기관명')\n"
     ]
    }
   ],
   "source": [
    "if __name__ == '__main__':\n",
    "    np_data =  np_data_from_data_go_kr_csv('전국횡단보도표준데이터.csv')\n",
    "    print(target1(np_data))\n",
    "    print(target2(np_data))\n",
    "    print(target3(np_data))\n",
    "    print(target4(np_data))\n",
    "    print(target5(np_data))\n",
    "    #print(np_data[:3])"
   ]
  }
 ],
 "metadata": {
  "kernelspec": {
   "display_name": "Python 3 (ipykernel)",
   "language": "python",
   "name": "python3"
  },
  "language_info": {
   "codemirror_mode": {
    "name": "ipython",
    "version": 3
   },
   "file_extension": ".py",
   "mimetype": "text/x-python",
   "name": "python",
   "nbconvert_exporter": "python",
   "pygments_lexer": "ipython3",
   "version": "3.10.9"
  }
 },
 "nbformat": 4,
 "nbformat_minor": 5
}

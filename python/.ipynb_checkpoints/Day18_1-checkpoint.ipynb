{
 "cells": [
  {
   "cell_type": "markdown",
   "id": "95dd976c",
   "metadata": {},
   "source": [
    "### 년도별\n",
    "- 남/여 인구비율 - 인구_남, 인구_여 column 다음에 위치\n",
    "- 한국인/외국인 비율 = 인구밀도 앞에 위치"
   ]
  },
  {
   "cell_type": "code",
   "execution_count": null,
   "id": "363cd09a",
   "metadata": {
    "scrolled": true
   },
   "outputs": [],
   "source": [
    "import numpy as np\n",
    "import pandas as pd\n",
    "import matplotlib.pyplot as  plt\n",
    "\n",
    "pop_df = pd.read_csv('등록인구추이_20230223163451.csv', encoding = 'cp949')\n",
    "pop_df.drop(0, axis = 0, inplace = True)\n",
    "pop_df.colums = ['시점', '세대수', '인구_남', '인구_여', '한국인', '외국인']\n",
    "print(pop_df.head())"
   ]
  },
  {
   "cell_type": "code",
   "execution_count": null,
   "id": "6bae0a99",
   "metadata": {},
   "outputs": [],
   "source": [
    "pop_df.to_numpy()[:, :-1].astype(np.int64)"
   ]
  },
  {
   "cell_type": "code",
   "execution_count": null,
   "id": "ad2a387c",
   "metadata": {
    "scrolled": true
   },
   "outputs": [],
   "source": [
    "#pop_df['인구_남']\n",
    "#pop_df\n",
    "v = pop_df['한국인'/ pop_df['외국인'].astype(float64)]\n",
    "pop_df.insert(7,'한국인/외국인', v)\n",
    "pop_df\n"
   ]
  },
  {
   "cell_type": "code",
   "execution_count": 1,
   "id": "5a7b5005",
   "metadata": {},
   "outputs": [
    {
     "ename": "NameError",
     "evalue": "name 'pop' is not defined",
     "output_type": "error",
     "traceback": [
      "\u001b[1;31m---------------------------------------------------------------------------\u001b[0m",
      "\u001b[1;31mNameError\u001b[0m                                 Traceback (most recent call last)",
      "Cell \u001b[1;32mIn[1], line 1\u001b[0m\n\u001b[1;32m----> 1\u001b[0m \u001b[43mpop\u001b[49m\u001b[38;5;241m.\u001b[39mdf\u001b[38;5;241m.\u001b[39mdtypes\n\u001b[0;32m      2\u001b[0m pop_df\u001b[38;5;241m.\u001b[39mastype(np\u001b[38;5;241m.\u001b[39mfloat64)\n",
      "\u001b[1;31mNameError\u001b[0m: name 'pop' is not defined"
     ]
    }
   ],
   "source": [
    "pop.df.dtypes\n",
    "pop_df.astype(np.float64)"
   ]
  }
 ],
 "metadata": {
  "kernelspec": {
   "display_name": "Python 3 (ipykernel)",
   "language": "python",
   "name": "python3"
  },
  "language_info": {
   "codemirror_mode": {
    "name": "ipython",
    "version": 3
   },
   "file_extension": ".py",
   "mimetype": "text/x-python",
   "name": "python",
   "nbconvert_exporter": "python",
   "pygments_lexer": "ipython3",
   "version": "3.10.9"
  }
 },
 "nbformat": 4,
 "nbformat_minor": 5
}

{
 "cells": [
  {
   "cell_type": "code",
   "execution_count": 1,
   "id": "328794ef",
   "metadata": {},
   "outputs": [],
   "source": [
    "import requests\n",
    "import numpy as np\n",
    "\n",
    "x = requests.get('https://archive.ics.uci.edu/ml/machine-learning-databases/iris/iris.data')"
   ]
  },
  {
   "cell_type": "code",
   "execution_count": 2,
   "id": "f0894710",
   "metadata": {},
   "outputs": [],
   "source": [
    "raw_data=[]\n",
    "for line in x.text.split('\\n'):\n",
    "    raw_data.append(line.split(','))\n",
    "for sample in raw_data:\n",
    "    if len(sample)<1:\n",
    "        continue\n",
    "    for i,value in enumerate(sample[:4]):\n",
    "        try:\n",
    "            sample[i] = float(value)\n",
    "        except:\n",
    "            sample[i] = 0.0\n",
    "        \n"
   ]
  },
  {
   "cell_type": "code",
   "execution_count": 3,
   "id": "fb7af253",
   "metadata": {},
   "outputs": [],
   "source": [
    "#print(raw_data[:3])"
   ]
  },
  {
   "cell_type": "markdown",
   "id": "8e971aec",
   "metadata": {},
   "source": [
    "###문자열 --> 숫자\n",
    "* setosa -> 0\n",
    "* versicolour -> 1\n",
    "* virginica -> 2\n"
   ]
  },
  {
   "cell_type": "code",
   "execution_count": 4,
   "id": "0730e7bd",
   "metadata": {},
   "outputs": [],
   "source": [
    "for sample in raw_data:\n",
    "    sample[-1] = 0.0\n",
    "#print(raw_data[:3])"
   ]
  },
  {
   "cell_type": "code",
   "execution_count": 38,
   "id": "76b9925f",
   "metadata": {},
   "outputs": [
    {
     "ename": "TypeError",
     "evalue": "argument of type 'float' is not iterable",
     "output_type": "error",
     "traceback": [
      "\u001b[1;31m---------------------------------------------------------------------------\u001b[0m",
      "\u001b[1;31mTypeError\u001b[0m                                 Traceback (most recent call last)",
      "Cell \u001b[1;32mIn[38], line 4\u001b[0m\n\u001b[0;32m      2\u001b[0m \u001b[38;5;28;01mif\u001b[39;00m \u001b[38;5;28mlen\u001b[39m(sample)\u001b[38;5;241m<\u001b[39m\u001b[38;5;241m2\u001b[39m:\n\u001b[0;32m      3\u001b[0m     \u001b[38;5;28;01mcontinue\u001b[39;00m\n\u001b[1;32m----> 4\u001b[0m \u001b[38;5;28;01mif\u001b[39;00m \u001b[38;5;124;43m'\u001b[39;49m\u001b[38;5;124;43msetosa\u001b[39;49m\u001b[38;5;124;43m'\u001b[39;49m\u001b[43m \u001b[49m\u001b[38;5;129;43;01min\u001b[39;49;00m\u001b[43m \u001b[49m\u001b[43msample\u001b[49m\u001b[43m[\u001b[49m\u001b[38;5;241;43m-\u001b[39;49m\u001b[38;5;241;43m1\u001b[39;49m\u001b[43m]\u001b[49m:\n\u001b[0;32m      5\u001b[0m     sample[\u001b[38;5;241m-\u001b[39m\u001b[38;5;241m1\u001b[39m] \u001b[38;5;241m=\u001b[39m \u001b[38;5;241m0.0\u001b[39m\n\u001b[0;32m      6\u001b[0m \u001b[38;5;28;01melif\u001b[39;00m \u001b[38;5;124m'\u001b[39m\u001b[38;5;124mversicolor\u001b[39m\u001b[38;5;124m'\u001b[39m \u001b[38;5;129;01min\u001b[39;00m sample[\u001b[38;5;241m-\u001b[39m\u001b[38;5;241m1\u001b[39m]:\n",
      "\u001b[1;31mTypeError\u001b[0m: argument of type 'float' is not iterable"
     ]
    }
   ],
   "source": [
    "for sample in raw_data:\n",
    "    if len(sample)<2:\n",
    "        continue\n",
    "    if 'setosa' in sample[-1]:\n",
    "        sample[-1] = 0.0\n",
    "    elif 'versicolor' in sample[-1]:\n",
    "        sample[-1] = 1.0\n",
    "    elif 'virginica' in sample[-1]:\n",
    "        sample[-1] = 2.0\n",
    "        \n"
   ]
  },
  {
   "cell_type": "code",
   "execution_count": 5,
   "id": "b4c8dced",
   "metadata": {},
   "outputs": [
    {
     "name": "stdout",
     "output_type": "stream",
     "text": [
      "[5.1, 3.5, 1.4, 0.2, 0.0]\n",
      "[6.4, 3.2, 4.5, 1.5, 0.0]\n",
      "[5.8, 2.7, 5.1, 1.9, 0.0]\n"
     ]
    }
   ],
   "source": [
    "print(raw_data[0])\n",
    "print(raw_data[51])\n",
    "print(raw_data[101])"
   ]
  },
  {
   "cell_type": "code",
   "execution_count": 6,
   "id": "3afaa25a",
   "metadata": {},
   "outputs": [
    {
     "name": "stdout",
     "output_type": "stream",
     "text": [
      "[[5.9, 3.0, 5.1, 1.8, 0.0], [0.0], [0.0]]\n",
      "152\n"
     ]
    }
   ],
   "source": [
    "print(raw_data[-3:])\n",
    "print(len(raw_data))\n",
    "raw_data = raw_data[:150]"
   ]
  },
  {
   "cell_type": "code",
   "execution_count": 7,
   "id": "7e184a39",
   "metadata": {},
   "outputs": [
    {
     "data": {
      "text/plain": [
       "array([[5.1, 3.5, 1.4, 0.2, 0. ],\n",
       "       [4.9, 3. , 1.4, 0.2, 0. ],\n",
       "       [4.7, 3.2, 1.3, 0.2, 0. ]])"
      ]
     },
     "execution_count": 7,
     "metadata": {},
     "output_type": "execute_result"
    }
   ],
   "source": [
    "np_data = np.array(raw_data)\n",
    "np_data.shape\n",
    "np_data[:3]"
   ]
  },
  {
   "cell_type": "markdown",
   "id": "57173ffa",
   "metadata": {},
   "source": [
    "### 기본 통계값\n",
    "* 전체 평균, 표준편차 - sepal length, sepal witdh, petal length, petal width\n",
    "* 품종별 평균, 표준편차\n",
    "\n",
    "* 평균 np.mean()\n",
    "* 표준편차 np.std()"
   ]
  },
  {
   "cell_type": "code",
   "execution_count": 30,
   "id": "1ca7bbf5",
   "metadata": {},
   "outputs": [
    {
     "name": "stdout",
     "output_type": "stream",
     "text": [
      "[[5.1 3.5 1.4 0.2 0. ]\n",
      " [4.9 3.  1.4 0.2 0. ]\n",
      " [4.7 3.2 1.3 0.2 0. ]]\n",
      "평균값:  [5.84333333 3.054      3.75866667 1.19866667 0.        ]\n"
     ]
    }
   ],
   "source": [
    "print(np_data[:3])\n",
    "\n",
    "avg= (np_data[:150].sum(axis = 0))\n",
    "\n",
    "print('평균값: ', avg / 150)\n",
    "\n",
    "\n",
    "\n",
    "\n",
    "\n"
   ]
  },
  {
   "cell_type": "code",
   "execution_count": 32,
   "id": "2eafb60d",
   "metadata": {},
   "outputs": [],
   "source": [
    "import math\n",
    "\n",
    "def mean(num_list): # 평균\n",
    "    return sum(num_list)/len(num_list)\n",
    "\n",
    "def mean2(num_list):\n",
    "    sum_valu=()\n",
    "    for i in num_list:\n",
    "        sum_value += i\n",
    "    return sum_value / len(num_list)\n",
    "\n",
    "def median(num_list):  #중앙값\n",
    "    num_list.sort()\n",
    "    if len(num_list)%2==1:\n",
    "        i = (len(num_list))//2\n",
    "        return num_list[i]\n",
    "    else:\n",
    "        i = len(num_list)//2\n",
    "        return (num_list[i] + num_list[i-1])/2\n",
    "    \n",
    "    \n",
    "def dev(num_list): #편차\n",
    "    m = mean(num_list)\n",
    "    return [x-m for x in num_list]\n",
    "\n",
    "\n",
    "def var(num_list): #분산\n",
    "    n = len(num_list)\n",
    "    d = dev(num_list)\n",
    "    return sum([x*x for x in d])/(n-1)\n",
    "\n",
    "\n",
    "def covar(list_1,list_2): #공분산\n",
    "    n = len(list_1)\n",
    "    list_1_dev = dev(list_1)\n",
    "    list_2_dev = dev(list_2)\n",
    "    return sum(x * y for x, y in zip(list_1_dev, list_2_dev))/(n-1)\n",
    "\n",
    "\n",
    "def corel(list_1, list_2): # 상관도 (-1 ~ 1)  마이너스라도 1에 가까우면 상관도 높음\n",
    "    return covar(list_1, list_2)/(stdev(list_1)*stdev(list_2))\n",
    "\n",
    "\n",
    "def stdev(num_list): #표준편차  (분산에 루트)\n",
    "    return math.sqrt(var(num_list))"
   ]
  },
  {
   "cell_type": "code",
   "execution_count": 38,
   "id": "f11b1aa7",
   "metadata": {},
   "outputs": [
    {
     "name": "stdout",
     "output_type": "stream",
     "text": [
      "[[5.1 3.5 1.4 0.2 0. ]\n",
      " [4.9 3.  1.4 0.2 0. ]\n",
      " [4.7 3.2 1.3 0.2 0. ]]\n",
      "[5.84333333 3.054      3.75866667 1.19866667 0.        ]\n",
      "[0.82530129 0.43214658 1.75852918 0.76061262 0.        ]\n",
      "[[1.         0.99706483 0.99997795 ... 0.76012976 0.74288374 0.74758347]\n",
      " [0.99706483 1.         0.99750791 ... 0.79227347 0.77022724 0.77699657]\n",
      " [0.99997795 0.99750791 1.         ... 0.76347554 0.74599502 0.75068712]\n",
      " ...\n",
      " [0.76012976 0.79227347 0.76347554 ... 1.         0.99467533 0.99731867]\n",
      " [0.74288374 0.77022724 0.74599502 ... 0.99467533 1.         0.99753337]\n",
      " [0.74758347 0.77699657 0.75068712 ... 0.99731867 0.99753337 1.        ]]\n"
     ]
    }
   ],
   "source": [
    "print(np_data[:3])\n",
    "print(np.mean(np_data, axis = 0))\n",
    "print(np.std(np_data, axis = 0))\n",
    "print(np.corrcoef(np_data))  #상관도 "
   ]
  },
  {
   "cell_type": "code",
   "execution_count": 44,
   "id": "f748ca36",
   "metadata": {},
   "outputs": [
    {
     "name": "stdout",
     "output_type": "stream",
     "text": [
      "[5.84333333 3.054      3.75866667 1.19866667 0.        ]\n",
      "[0.82530129 0.43214658 1.75852918 0.76061262 0.        ]\n"
     ]
    }
   ],
   "source": [
    "filter_setosa = np_data[:,-1]==0.0\n",
    "filter_versicolor = np_data[:, -1]==1.0\n",
    "filter_virginica = np_data[:,-1]==2.0\n",
    "\n",
    "print(np.mean(np_data[filter_setosa], axis = 0))\n",
    "print(np.std(np_data[filter_setosa], axis = 0))  #다른 꽃들도 똑같이"
   ]
  }
 ],
 "metadata": {
  "kernelspec": {
   "display_name": "Python 3 (ipykernel)",
   "language": "python",
   "name": "python3"
  },
  "language_info": {
   "codemirror_mode": {
    "name": "ipython",
    "version": 3
   },
   "file_extension": ".py",
   "mimetype": "text/x-python",
   "name": "python",
   "nbconvert_exporter": "python",
   "pygments_lexer": "ipython3",
   "version": "3.10.9"
  }
 },
 "nbformat": 4,
 "nbformat_minor": 5
}

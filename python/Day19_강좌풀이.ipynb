{
 "cells": [
  {
   "cell_type": "code",
   "execution_count": 2,
   "id": "79fd265e",
   "metadata": {},
   "outputs": [
    {
     "name": "stdout",
     "output_type": "stream",
     "text": [
      "(26535, 27)\n",
      "(0, '강좌명')\n",
      "(1, '강사명')\n",
      "(2, '교육시작일자')\n",
      "(3, '교육종료일자')\n",
      "(4, '교육시작시각')\n",
      "(5, '교육종료시각')\n",
      "(6, '강좌내용')\n",
      "(7, '교육대상구분')\n",
      "(8, '교육방법구분')\n",
      "(9, '운영요일')\n",
      "(10, '교육장소')\n",
      "(11, '강좌정원수')\n",
      "(12, '수강료')\n",
      "(13, '교육장도로명주소')\n",
      "(14, '운영기관명')\n",
      "(15, '운영기관전화번호')\n",
      "(16, '접수시작일자')\n",
      "(17, '접수종료일자')\n",
      "(18, '접수방법구분')\n",
      "(19, '선정방법구분')\n",
      "(20, '홈페이지주소')\n",
      "(21, '직업능력개발훈련비지원강좌여부')\n",
      "(22, '학점은행제평가(학점)인정여부')\n",
      "(23, '평생학습계좌제평가인정여부')\n",
      "(24, '데이터기준일자')\n",
      "(25, '제공기관코드')\n",
      "(26, '제공기관명')\n",
      "강좌명                object\n",
      "강사명                object\n",
      "교육시작일자             object\n",
      "교육종료일자             object\n",
      "교육대상구분             object\n",
      "교육방법구분             object\n",
      "운영요일               object\n",
      "교육장소               object\n",
      "강좌정원수               int64\n",
      "수강료                 int64\n",
      "교육장도로명주소           object\n",
      "운영기관명              object\n",
      "접수시작일자             object\n",
      "접수종료일자             object\n",
      "접수방법구분             object\n",
      "선정방법구분             object\n",
      "홈페이지주소             object\n",
      "직업능력개발훈련비지원강좌여부    object\n",
      "학점은행제평가(학점)인정여부    object\n",
      "평생학습계좌제평가인정여부      object\n",
      "데이터기준일자            object\n",
      "제공기관코드             object\n",
      "제공기관명              object\n",
      "dtype: object\n"
     ]
    }
   ],
   "source": [
    "import numpy as np\n",
    "import pandas as pd\n",
    "\n",
    "pd_data = pd.read_csv('전국평생학습강좌표준데이터.csv', encoding = 'cp949')\n",
    "print(pd_data.shape)\n",
    "\n",
    "\n",
    "for e in enumerate(pd_data.columns):\n",
    "    print(e)\n",
    "\n",
    "drop_list = ['교육시작시각', '교육종료시각', '강좌내용', '운영기관전화번호']\n",
    "pd_data.drop(drop_list, axis =1, inplace = True )\n",
    "\n",
    "print(pd_data.dtypes)"
   ]
  },
  {
   "cell_type": "code",
   "execution_count": 6,
   "id": "c02b87d3",
   "metadata": {},
   "outputs": [
    {
     "name": "stdout",
     "output_type": "stream",
     "text": [
      "강좌명                        object\n",
      "강사명                        object\n",
      "교육시작일자             datetime64[ns]\n",
      "교육종료일자             datetime64[ns]\n",
      "교육대상구분                     object\n",
      "교육방법구분                     object\n",
      "운영요일                       object\n",
      "교육장소                       object\n",
      "강좌정원수                       int64\n",
      "수강료                         int64\n",
      "교육장도로명주소                   object\n",
      "운영기관명                      object\n",
      "접수시작일자             datetime64[ns]\n",
      "접수종료일자             datetime64[ns]\n",
      "접수방법구분                     object\n",
      "선정방법구분                     object\n",
      "홈페이지주소                     object\n",
      "직업능력개발훈련비지원강좌여부            object\n",
      "학점은행제평가(학점)인정여부            object\n",
      "평생학습계좌제평가인정여부              object\n",
      "데이터기준일자            datetime64[ns]\n",
      "제공기관코드                     object\n",
      "제공기관명                      object\n",
      "dtype: object\n"
     ]
    },
    {
     "name": "stderr",
     "output_type": "stream",
     "text": [
      "C:\\Users\\ITPS\\AppData\\Local\\Temp\\ipykernel_13204\\440460424.py:3: FutureWarning: Passing unit-less datetime64 dtype to .astype is deprecated and will raise in a future version. Pass 'datetime64[ns]' instead\n",
      "  pd_data[col_name] = pd_data[col_name].astype(np.datetime64, copy = False)\n"
     ]
    }
   ],
   "source": [
    "for col_name in pd_data.columns:\n",
    "    if '일자' in col_name:\n",
    "        pd_data[col_name] = pd_data[col_name].astype(np.datetime64, copy = False)\n",
    "    elif ('구분' in col_name) or ('여부' in col_name) or ('코드' in col_name)\n",
    "        pd_data[col_name] = pd_data[col_name].astype('category', copy = False)\n",
    "    \n",
    "print(pd_data.dtypes)\n",
    "        "
   ]
  },
  {
   "cell_type": "code",
   "execution_count": 24,
   "id": "66cbfd72",
   "metadata": {},
   "outputs": [
    {
     "name": "stdout",
     "output_type": "stream",
     "text": [
      "운영요일\n",
      "교육장소\n",
      "접수시작일자\n",
      "접수종료일자\n",
      "선정방법구분\n",
      "홈페이지주소\n",
      "       value_count NaN_count\n",
      "운영요일         22007      4528\n",
      "교육장소         23755      2780\n",
      "접수시작일자       21516      5019\n",
      "접수종료일자       21474      5061\n",
      "선정방법구분       22273      4262\n",
      "홈페이지주소       24221      2314\n"
     ]
    },
    {
     "data": {
      "text/plain": [
       "False    26535\n",
       "Name: 제공기관명, dtype: int64"
      ]
     },
     "execution_count": 24,
     "metadata": {},
     "output_type": "execute_result"
    }
   ],
   "source": [
    "t =[]\n",
    "for col_name in pd_data.columns:\n",
    "    if pd_data[col_name].hasnans == True:\n",
    "        print(col_name)\n",
    "        cnt_s = pd_data[col_name].isna().value_counts()\n",
    "        cnt = cnt_s.to_numpy()\n",
    "        t.append([col_name, cnt[0],cnt[1]])\n",
    "#print(t)\n",
    "t = np.array(t)\n",
    "missing_df = pd.DataFrame(t[:,1:], index = t[:,0], columns = ['value_count', 'NaN_count'])\n",
    "#missing_df.index = missing_df['col_name']\n",
    "print(missing_df)\n",
    "\n",
    "pd_data['제공기관명'].hasnans  # not a numbers없음\n",
    "pd_data['제공기관명'].isna().value_counts()"
   ]
  },
  {
   "cell_type": "code",
   "execution_count": 26,
   "id": "aa4374ac",
   "metadata": {
    "scrolled": true
   },
   "outputs": [
    {
     "data": {
      "text/plain": [
       "목          2556\n",
       "화          2524\n",
       "수          2434\n",
       "월          1937\n",
       "금          1851\n",
       "           ... \n",
       "월+화+토         1\n",
       "수요일+일요일       1\n",
       "월요일+일요일       1\n",
       "격주토요일         1\n",
       "월 +수 +금       1\n",
       "Name: 운영요일, Length: 218, dtype: int64"
      ]
     },
     "execution_count": 26,
     "metadata": {},
     "output_type": "execute_result"
    }
   ],
   "source": [
    "#f1 = pd_data['운영요일'].isna()\n",
    "#pd_data['운영요일'][f1]\n",
    "pd_data['운영요일'].value_counts()\n",
    "\n",
    "#운영요일별 카운트시 운영요일을 특정할 수 없으므로,\n",
    "#삭제 조치하도록 함.\n",
    "\n"
   ]
  },
  {
   "cell_type": "code",
   "execution_count": 28,
   "id": "ca50a8e1",
   "metadata": {},
   "outputs": [
    {
     "data": {
      "text/plain": [
       "평생학습관               675\n",
       "광명시여성비전센터           619\n",
       "온라인                 608\n",
       "광산구청소년수련관           577\n",
       "군산시청                550\n",
       "                   ... \n",
       "성전면                   1\n",
       "칠량면                   1\n",
       "수어통역센터                1\n",
       "신전면                   1\n",
       "엘림행복학습센터, 첨단LC타워      1\n",
       "Name: 교육장소, Length: 3280, dtype: int64"
      ]
     },
     "execution_count": 28,
     "metadata": {},
     "output_type": "execute_result"
    }
   ],
   "source": [
    "pd_data['교육장소'].value_counts()\n",
    "\n",
    "#만약, '홈페이지주소'가 있을 경우, '온라인'으로 결측치를 대체\n",
    "#홈페이지 주소가 없을 경우, 삭제 조치\n",
    "\n",
    "# '교육방법 구분'이 '온라인'으로 되어있을 경우, '온라인'으로 결측치를 대체\n",
    "# 그렇지 않을경우, 삭제. bool list 필터링 사용\n",
    "\n",
    "\n",
    "# 접수시작 / 종료일자 결측치\n",
    "# '교육방법 구분'이 '온라인'일 경우, 1월 1일부터 12월 31일까지의 값으로 대체\n",
    "# 그렇지 않을경우 삭제.\n",
    "\n"
   ]
  },
  {
   "cell_type": "code",
   "execution_count": 29,
   "id": "72f4d450",
   "metadata": {},
   "outputs": [
    {
     "data": {
      "text/plain": [
       "선착순       16861\n",
       "추첨         1219\n",
       "제한없음        516\n",
       "추첨+선착순      451\n",
       "인터넷 추첨      392\n",
       "          ...  \n",
       "자체심사          1\n",
       "방문심사          1\n",
       "없음            1\n",
       "읍면 추천         1\n",
       "비문해자          1\n",
       "Name: 선정방법구분, Length: 72, dtype: int64"
      ]
     },
     "execution_count": 29,
     "metadata": {},
     "output_type": "execute_result"
    }
   ],
   "source": [
    "pd_data['선정방법구분'].value_counts()\n",
    "# 결측치, 삭제\n",
    "\n"
   ]
  },
  {
   "cell_type": "code",
   "execution_count": 39,
   "id": "46d1c527",
   "metadata": {},
   "outputs": [
    {
     "name": "stdout",
     "output_type": "stream",
     "text": [
      "오프라인       1804\n",
      "방문교육         19\n",
      "혼합            4\n",
      "온라인+모바일       2\n",
      "Name: 교육방법구분, dtype: int64\n"
     ]
    },
    {
     "name": "stderr",
     "output_type": "stream",
     "text": [
      "C:\\Users\\ITPS\\AppData\\Local\\Temp\\ipykernel_13204\\1146347069.py:8: SettingWithCopyWarning: \n",
      "A value is trying to be set on a copy of a slice from a DataFrame\n",
      "\n",
      "See the caveats in the documentation: https://pandas.pydata.org/pandas-docs/stable/user_guide/indexing.html#returning-a-view-versus-a-copy\n",
      "  pd_data['교육장소'][filter2]='온라인'\n"
     ]
    },
    {
     "data": {
      "text/plain": [
       "False    24706\n",
       "True      1829\n",
       "Name: 교육장소, dtype: int64"
      ]
     },
     "execution_count": 39,
     "metadata": {},
     "output_type": "execute_result"
    }
   ],
   "source": [
    "pd_data['교육방법구분'].value_counts()\n",
    "\n",
    "filter1 = pd_data['교육장소'].isna()\n",
    "\n",
    "print(pd_data['교육방법구분'][filter1].value_counts())\n",
    "\n",
    "filter2 = pd_data['교육방법구분']=='온라인'\n",
    "pd_data['교육장소'][filter2]='온라인'\n",
    "\n",
    "pd_data['교육장소'].isna().value_counts()\n"
   ]
  },
  {
   "cell_type": "code",
   "execution_count": 43,
   "id": "95d1ca32",
   "metadata": {},
   "outputs": [],
   "source": [
    "for i in range(pd_data.shape[0]):\n",
    "    row = pd_data.iloc[i,:]\n",
    "    if (row['교육장소']== np.NaN) and (row['교육방법구분']=='온라인'):\n",
    "        row['교육장소']='온라인'\n",
    "    \n",
    "    "
   ]
  }
 ],
 "metadata": {
  "kernelspec": {
   "display_name": "Python 3 (ipykernel)",
   "language": "python",
   "name": "python3"
  },
  "language_info": {
   "codemirror_mode": {
    "name": "ipython",
    "version": 3
   },
   "file_extension": ".py",
   "mimetype": "text/x-python",
   "name": "python",
   "nbconvert_exporter": "python",
   "pygments_lexer": "ipython3",
   "version": "3.10.9"
  }
 },
 "nbformat": 4,
 "nbformat_minor": 5
}

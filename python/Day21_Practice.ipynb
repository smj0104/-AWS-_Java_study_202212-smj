{
 "cells": [
  {
   "cell_type": "markdown",
   "id": "9399e25d",
   "metadata": {},
   "source": [
    "### 각 개별 jupyter note에서 전처리 후, pickle 또는 csv 저장.\n",
    "\n",
    " 1. 전국일방통행도로표준데이터\n",
    "     * 시도명, 지정사유, 지정연도, 도로폭, 도로차로수,보차분리여부\n",
    "     \n",
    " 2. 전국어린이보호구역표준데이터 시도명 작업필요.\n",
    "     * 시설종류,관할경찰서명,CCTV설치여부,CCTV설치대수,제공기관명(split),보호구역도로폭\n",
    "  \n",
    " 3. 전국노인장애인보호구역표준데이터\n",
    "     * 시도명,제한속도,CCTV설치여부,CCTV설치대수,보호구역도로폭\n",
    " \n",
    " 4. 새로운 jupyter note에서 종합.  (시도명을 index로 뽑아 groupby로 묶어놓기 / 예제의 코드 참조)\n",
    "     * 시도명, 어린이보호구역 CCTV 설치대수, 노인장애인보호구역 CCTV 설치대수, 일방통행 보차분리 ycount"
   ]
  },
  {
   "cell_type": "code",
   "execution_count": null,
   "id": "37559fb6",
   "metadata": {},
   "outputs": [],
   "source": [
    "import numpy as np\n",
    "import pandas as pd\n",
    "import matplotlib.pyplot as plt\n",
    "\n",
    "pd_raw = pd.read_csv('전국일방통행도로표준데이터.csv', encoding = 'cp949')\n",
    "\n",
    "col_selection = ['시도명', '지정사유', '지정연도', '도로폭', '도로차로수', '보차분리여부']\n",
    "pd_data = pd_raw[col_selection]\n",
    "\n",
    "\n",
    "# apply, map, applymap, aggregate, agg"
   ]
  },
  {
   "cell_type": "code",
   "execution_count": null,
   "id": "abb8908e",
   "metadata": {},
   "outputs": [],
   "source": [
    "for e in pd_data:\n",
    "    print(e, '\\t', pd_data[e].hasnans)"
   ]
  },
  {
   "cell_type": "code",
   "execution_count": null,
   "id": "3d2525e6",
   "metadata": {},
   "outputs": [],
   "source": [
    "pd_oneway = pd.read_csv('전국일방통행도로표준데이터2.csv')\n",
    "pd_child = pd.read_csv('전국어린이보호구역표준데이터2.csv')\n",
    "pd_elder = pd.read_csv('전국노인장애인보호구역표준데이터2.csv')\n",
    "\n",
    "\n",
    "print(pd_oneway.head()) # 시도명 별 보차분리여부 y count\n",
    "print(pd_child.head())  # 시도명 별 CCTV 설치대수\n",
    "print(pd_elder.head())  # 시도명 별 CCTV 설치대수\n"
   ]
  },
  {
   "cell_type": "code",
   "execution_count": null,
   "id": "46fc2198",
   "metadata": {},
   "outputs": [],
   "source": [
    "g1 = pd_oneway[pd_oneway['보차분리여부']=='Y'].groupby('시도명')\n",
    "g2 = pd_child.groupby('지자체명')\n",
    "g3 = pd_elder.groupby('시도명')"
   ]
  },
  {
   "cell_type": "code",
   "execution_count": null,
   "id": "d96aeb6a",
   "metadata": {},
   "outputs": [],
   "source": [
    "df_combined = pd.concat((s1,s2,s3), axis =1)\n",
    "print(df_combined)"
   ]
  },
  {
   "cell_type": "code",
   "execution_count": null,
   "id": "2b0148a7",
   "metadata": {},
   "outputs": [],
   "source": [
    "import matplotlib.pyplot as plt\n",
    "\n",
    "_, axe = plt.subplots()\n",
    "axe.plot(df_combined['어린이CCTV_COUNT'])\n",
    "axe.plot(df_combined['노인장애인CCTV_COUNT'])"
   ]
  },
  {
   "cell_type": "code",
   "execution_count": null,
   "id": "0492a711",
   "metadata": {},
   "outputs": [],
   "source": [
    "df_combined.reset_index(inplace = True)\n",
    "\n",
    "child_min = pd_data['어린이CCTV_COUNT'.min()\n",
    "child_max = pd_data['어린이CCTV_COUNT'.max()\n",
    "# normalization   : (x - x_min) / (x_max-x_min)\n",
    "pd_data['BMI'].describe()\n",
    "bmi_min = pd_data['BMI'].min()\n",
    "bmi_max = pd_data['BMI'].max()\n"
   ]
  },
  {
   "cell_type": "code",
   "execution_count": null,
   "id": "8e5c1048",
   "metadata": {},
   "outputs": [],
   "source": [
    "df1 = pd_child[['CCTV설치여부','CCTV설치대수','지자체명']]\n",
    "df2 = pd_elder[['CCTV설치여부','CCTV설치대수','시도명']]\n",
    "\n",
    "df12 = pd.concat((df1,df2), axis = 0, keys=['어린이', '노인장애인'])\n",
    "df12.reset_index(level = 0 ,inplace = True)\n",
    "df12"
   ]
  }
 ],
 "metadata": {
  "kernelspec": {
   "display_name": "Python 3 (ipykernel)",
   "language": "python",
   "name": "python3"
  },
  "language_info": {
   "codemirror_mode": {
    "name": "ipython",
    "version": 3
   },
   "file_extension": ".py",
   "mimetype": "text/x-python",
   "name": "python",
   "nbconvert_exporter": "python",
   "pygments_lexer": "ipython3",
   "version": "3.10.9"
  }
 },
 "nbformat": 4,
 "nbformat_minor": 5
}

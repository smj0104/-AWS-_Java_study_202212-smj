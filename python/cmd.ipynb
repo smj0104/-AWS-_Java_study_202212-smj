{
 "cells": [
  {
   "cell_type": "markdown",
   "id": "9b5b942b",
   "metadata": {},
   "source": [
    "### ssh toor@192.168.2.102\n",
    "\n",
    "\n",
    "cd ~ 내 계정의 홈 디렉토리로 이동\n",
    "\n",
    "ls 리스트 확인\n",
    "\n",
    "mkdir 디렉토리 생성\n",
    "rmdir 디렉토리 삭제\n",
    "rm -rf \n",
    "\n",
    "환경변수를 하나하나씩 출력해볼때 echo명령어 사용\n",
    "cat 내용물 볼때 사용 (concatenate 줄임말) / 파일들을 연결시키기도 함\n",
    "\n",
    "mv 파일을 이동하면서 이름 바꿔주기\n",
    "\n",
    "tail 가장 최근 확인\n",
    "\n",
    "가장 최근의 로그만 떼어서 저장하고 싶다 = $ tail auth.log > auth_recent10.log\n",
    "\n",
    "touch 비어있는 파일은 만들어준다.\n",
    "\n",
    "gnu nano 명령어\n",
    "ctrl o = 저장\n",
    "\n",
    "man5 crontab에서 순서참고가능"
   ]
  }
 ],
 "metadata": {
  "kernelspec": {
   "display_name": "Python 3 (ipykernel)",
   "language": "python",
   "name": "python3"
  },
  "language_info": {
   "codemirror_mode": {
    "name": "ipython",
    "version": 3
   },
   "file_extension": ".py",
   "mimetype": "text/x-python",
   "name": "python",
   "nbconvert_exporter": "python",
   "pygments_lexer": "ipython3",
   "version": "3.10.9"
  }
 },
 "nbformat": 4,
 "nbformat_minor": 5
}

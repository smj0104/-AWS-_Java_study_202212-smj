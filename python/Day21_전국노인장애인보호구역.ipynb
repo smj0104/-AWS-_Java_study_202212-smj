{
 "cells": [
  {
   "cell_type": "code",
   "execution_count": 2,
   "id": "a1050afc",
   "metadata": {},
   "outputs": [],
   "source": [
    "import numpy as np\n",
    "import pandas as pd\n",
    "import matplotlib.pyplot as plt\n",
    "\n",
    "pd_raw = pd.read_csv('전국노인장애인보호구역표준데이터.csv', encoding = 'cp949')\n",
    "\n",
    "col_selection = ['시도명', '제한속도', 'CCTV설치여부', 'CCTV설치대수', '보호구역도로폭']\n",
    "pd_data = pd_raw[col_selection]"
   ]
  },
  {
   "cell_type": "code",
   "execution_count": 3,
   "id": "f56520ec",
   "metadata": {},
   "outputs": [
    {
     "name": "stdout",
     "output_type": "stream",
     "text": [
      "['서울특별시' '경상북도' '충청남도' '강원도' '경기도' '전라북도' '대전광역시' '경상남도' '인천광역시' '울산광역시'\n",
      " '부산광역시' '대구광역시' '충청북도' '전라남도' '광주광역시' '세종특별자치시' '제주특별자치도']\n",
      "False\n"
     ]
    }
   ],
   "source": [
    "# 시도명\n",
    "print(pd_data['시도명'].unique())\n",
    "print(pd_data['시도명'].hasnans)\n"
   ]
  },
  {
   "cell_type": "code",
   "execution_count": 7,
   "id": "fdbbd13a",
   "metadata": {},
   "outputs": [
    {
     "name": "stdout",
     "output_type": "stream",
     "text": [
      "[30 50 60 40 38 39 41 42 43 44 45 46 47 48 49 51 52 53 54 55 31 32 33 34\n",
      " 35 36 37 20]\n",
      "False\n",
      "30.0 30.0 0.0 30.0 30.0\n"
     ]
    }
   ],
   "source": [
    "# 제한속도\n",
    "print(pd_data['제한속도'].unique())\n",
    "print(pd_data['제한속도'].hasnans)\n",
    "\n",
    "#print(pd_data['제한속도'].value_counts())\n",
    "\n",
    "# 이상치\n",
    "q1, q3 = pd_data['제한속도'].quantile([0.25, 0.75])\n",
    "iqr = q3 - q1\n",
    "upper = q3 + 1.5 * iqr\n",
    "lower = q1 - 1.5 * iqr\n",
    "\n",
    "print(q1, q3, iqr, lower, upper)"
   ]
  },
  {
   "cell_type": "code",
   "execution_count": 11,
   "id": "a9302689",
   "metadata": {},
   "outputs": [
    {
     "name": "stdout",
     "output_type": "stream",
     "text": [
      "['Y' 'N']\n",
      "False\n"
     ]
    }
   ],
   "source": [
    "# CCTV설치여부\n",
    "print(pd_data['CCTV설치여부'].unique())\n",
    "print(pd_data['CCTV설치여부'].hasnans)\n"
   ]
  },
  {
   "cell_type": "code",
   "execution_count": 17,
   "id": "82861b57",
   "metadata": {},
   "outputs": [
    {
     "name": "stdout",
     "output_type": "stream",
     "text": [
      "[1. 0. 2. 4. 3. 5. 8. 9.]\n",
      "False\n",
      "0.0    2119\n",
      "1.0     273\n",
      "2.0      81\n",
      "3.0      20\n",
      "4.0      14\n",
      "5.0       9\n",
      "8.0       1\n",
      "9.0       1\n",
      "Name: CCTV설치대수, dtype: int64\n",
      "False    2518\n",
      "Name: CCTV설치대수, dtype: int64\n"
     ]
    }
   ],
   "source": [
    "# CCTV설치대수\n",
    "print(pd_data['CCTV설치대수'].unique())\n",
    "print(pd_data['CCTV설치대수'].hasnans)\n",
    "\n",
    "print(pd_data['CCTV설치대수'].value_counts())\n",
    "\n",
    "# 결측치\n",
    "na_filter = pd_data['CCTV설치대수'].isna()\n",
    "print(na_filter.value_counts())\n",
    "\n",
    "#오류치\n",
    "na_filter = pd_data['CCTV설치대수'].isna()\n",
    "#print(na_filter.value_counts())\n",
    "pd_data.loc[na_filter, 'CCTV설치대수'] = 0\n",
    "\n",
    "# yfitler nfilter 사용"
   ]
  },
  {
   "cell_type": "code",
   "execution_count": null,
   "id": "b395a0be",
   "metadata": {},
   "outputs": [],
   "source": [
    "col = pd_data['보호구역도로폭']\n",
    "\n",
    "def fn1(x):\n",
    "    if (x == np.NaN) or (type(x)==type(1.0)):\n",
    "        return x\n",
    "    if '~' in x:\n",
    "        return np.mean(np.array(x.split('~')).astype(np.float64))\n",
    "    else:\n",
    "        return float(x)"
   ]
  }
 ],
 "metadata": {
  "kernelspec": {
   "display_name": "Python 3 (ipykernel)",
   "language": "python",
   "name": "python3"
  },
  "language_info": {
   "codemirror_mode": {
    "name": "ipython",
    "version": 3
   },
   "file_extension": ".py",
   "mimetype": "text/x-python",
   "name": "python",
   "nbconvert_exporter": "python",
   "pygments_lexer": "ipython3",
   "version": "3.10.9"
  }
 },
 "nbformat": 4,
 "nbformat_minor": 5
}

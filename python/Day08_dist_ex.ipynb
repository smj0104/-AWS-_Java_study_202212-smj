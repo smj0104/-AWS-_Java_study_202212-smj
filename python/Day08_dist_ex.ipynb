{
 "cells": [
  {
   "cell_type": "code",
   "execution_count": 3,
   "id": "9a8b7fa5",
   "metadata": {},
   "outputs": [],
   "source": [
    "import numpy as np\n",
    "import math\n",
    "\n",
    "def my_split(s):\n",
    "    block_start = False\n",
    "    start_index = 0\n",
    "    ret_list=[]\n",
    "    for i, c in enumerate(s):\n",
    "        if block_start==False:\n",
    "            if c==',':\n",
    "                ret_list.append(s[start_index:i])\n",
    "                start_index=i+1\n",
    "            elif c=='\"':\n",
    "                block_start=True\n",
    "                start_index = i\n",
    "        else:\n",
    "            if c=='\"':\n",
    "                block_start=False\n",
    "    if s[-1]!=',':\n",
    "        ret_list.append(s[start_index:])\n",
    "    return ret_list\n",
    "\n",
    "def split_len(data_list):\n",
    "    len_list=[]\n",
    "    for e in data_list:\n",
    "        len_list.append(len(e))\n",
    "    print(set(len_list))\n",
    "    if len(set(len_list))>1:\n",
    "        for i in set(len_list):\n",
    "            print(i, len_list.count(i))\n",
    "\n",
    "def dist_np(p1, p2): #  [3,10]  [5,25]\n",
    "    return math.sqrt(sum((p2-p1)**2))"
   ]
  },
  {
   "cell_type": "code",
   "execution_count": 1,
   "id": "3f8ef77c",
   "metadata": {},
   "outputs": [
    {
     "ename": "NameError",
     "evalue": "name 'my_split' is not defined",
     "output_type": "error",
     "traceback": [
      "\u001b[1;31m---------------------------------------------------------------------------\u001b[0m",
      "\u001b[1;31mNameError\u001b[0m                                 Traceback (most recent call last)",
      "Cell \u001b[1;32mIn[1], line 4\u001b[0m\n\u001b[0;32m      2\u001b[0m \u001b[38;5;28;01mwith\u001b[39;00m \u001b[38;5;28mopen\u001b[39m(\u001b[38;5;124m'\u001b[39m\u001b[38;5;124m전국자동차정비업체표준데이터.csv\u001b[39m\u001b[38;5;124m'\u001b[39m)\u001b[38;5;28;01mas\u001b[39;00m f:\n\u001b[0;32m      3\u001b[0m     \u001b[38;5;28;01mfor\u001b[39;00m line \u001b[38;5;129;01min\u001b[39;00m f:\n\u001b[1;32m----> 4\u001b[0m         csv_data\u001b[38;5;241m.\u001b[39mappend(\u001b[43mmy_split\u001b[49m(line))\n\u001b[0;32m      5\u001b[0m \u001b[38;5;66;03m#print(csv_data[0].index('위도'))\u001b[39;00m\n",
      "\u001b[1;31mNameError\u001b[0m: name 'my_split' is not defined"
     ]
    }
   ],
   "source": [
    "csv_data=[]  #my_split 집어넣기\n",
    "with open('전국자동차정비업체표준데이터.csv')as f:\n",
    "    for line in f:\n",
    "        csv_data.append(my_split(line))\n",
    "#print(csv_data[0].index('위도'))"
   ]
  },
  {
   "cell_type": "code",
   "execution_count": 3,
   "id": "83e9a358",
   "metadata": {},
   "outputs": [
    {
     "name": "stdout",
     "output_type": "stream",
     "text": [
      "[]\n"
     ]
    }
   ],
   "source": [
    "loc_list = []\n",
    "for e in csv_data[1:]:\n",
    "    loc_list.append(e[4:6])\n",
    "#pirnt(loc_list[:3])\n",
    "\n",
    "    \n",
    "for e in loc_list:\n",
    "    for i, v in enumerate(e):\n",
    "        try:\n",
    "            e[i] = float(v)\n",
    "        except:\n",
    "            e[i] = 0.0\n",
    "print(loc_list[:3])\n",
    "\n",
    "#loc_array = np.array(loc_list, dtype=np,float64)\n",
    "#print(loc_array[:3])"
   ]
  },
  {
   "cell_type": "code",
   "execution_count": 2,
   "id": "877a4d6f",
   "metadata": {},
   "outputs": [
    {
     "ename": "NameError",
     "evalue": "name 'np' is not defined",
     "output_type": "error",
     "traceback": [
      "\u001b[1;31m---------------------------------------------------------------------------\u001b[0m",
      "\u001b[1;31mNameError\u001b[0m                                 Traceback (most recent call last)",
      "Cell \u001b[1;32mIn[2], line 1\u001b[0m\n\u001b[1;32m----> 1\u001b[0m target_p \u001b[38;5;241m=\u001b[39m \u001b[43mnp\u001b[49m\u001b[38;5;241m.\u001b[39marray([\u001b[38;5;241m35.1531\u001b[39m, \u001b[38;5;241m129.0596\u001b[39m])\n\u001b[0;32m      2\u001b[0m dist_list\u001b[38;5;241m=\u001b[39m[]\n\u001b[0;32m      3\u001b[0m \u001b[38;5;28;01mfor\u001b[39;00m p2 \u001b[38;5;129;01min\u001b[39;00m loc_list:\n",
      "\u001b[1;31mNameError\u001b[0m: name 'np' is not defined"
     ]
    }
   ],
   "source": [
    "target_p = np.array([35.1531, 129.0596])  #근처 임의의 주소 찍음\n",
    "dist_list=[]\n",
    "for p2 in enumerate(loc_list):\n",
    "    try:\n",
    "        dist_list.append([i, dist_np(target_p, np.array(p2))])\n",
    "    except:  #에러가 날 경우 except으로 에러 확인\n",
    "        print(p2)\n",
    "        dist_list.append([i,100.0])\n",
    "print(dist_list[:3])\n",
    "#p2 = np.array(loc_list[0])\n",
    "#dist_np(target_p, p2)"
   ]
  },
  {
   "cell_type": "code",
   "execution_count": null,
   "id": "259754df",
   "metadata": {},
   "outputs": [],
   "source": [
    "r = sorted(dist_list, key = lambda x:X[1])\n",
    "print(r[:5])"
   ]
  },
  {
   "cell_type": "code",
   "execution_count": null,
   "id": "ba5cf864",
   "metadata": {},
   "outputs": [],
   "source": [
    "for x in r[:5]:\n",
    "    print(csv_data[x[0]])"
   ]
  }
 ],
 "metadata": {
  "kernelspec": {
   "display_name": "Python 3 (ipykernel)",
   "language": "python",
   "name": "python3"
  },
  "language_info": {
   "codemirror_mode": {
    "name": "ipython",
    "version": 3
   },
   "file_extension": ".py",
   "mimetype": "text/x-python",
   "name": "python",
   "nbconvert_exporter": "python",
   "pygments_lexer": "ipython3",
   "version": "3.10.9"
  }
 },
 "nbformat": 4,
 "nbformat_minor": 5
}

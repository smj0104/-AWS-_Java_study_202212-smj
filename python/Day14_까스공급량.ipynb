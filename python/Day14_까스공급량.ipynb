{
 "cells": [
  {
   "cell_type": "markdown",
   "id": "604ba46d",
   "metadata": {},
   "source": [
    "### 여름 겨울간의 판매량 차이 (도시가스) ttest(평균 사용량에 차이가 있는지)\n",
    "### 년도, 사용량 상관도 (사용량이 많아지고있는가 줄어들고 있는가)\n",
    "### 년도별 도시가스와 프로판 판매량의 비율 / 프로판 가스보다 도시가스의 사용량이 점점 늘어나는가\n",
    "###"
   ]
  },
  {
   "cell_type": "code",
   "execution_count": 1,
   "id": "b15e621c",
   "metadata": {},
   "outputs": [],
   "source": [
    "import numpy as np\n",
    "\n",
    "def my_split(s):\n",
    "    block_start = False\n",
    "    start_index = 0\n",
    "    ret_list=[]\n",
    "    for i, c in enumerate(s):\n",
    "        if block_start==False:\n",
    "            if c==',':\n",
    "                ret_list.append(s[start_index:i])\n",
    "                start_index=i+1\n",
    "            elif c=='\"':\n",
    "                block_start=True\n",
    "                start_index = i\n",
    "        else:\n",
    "            if c=='\"':\n",
    "                block_start=False\n",
    "    if s[-1]!=',':\n",
    "        ret_list.append(s[start_index:])\n",
    "    return ret_list"
   ]
  },
  {
   "cell_type": "code",
   "execution_count": 2,
   "id": "635c1a98",
   "metadata": {},
   "outputs": [
    {
     "ename": "NameError",
     "evalue": "name 't' is not defined",
     "output_type": "error",
     "traceback": [
      "\u001b[1;31m---------------------------------------------------------------------------\u001b[0m",
      "\u001b[1;31mNameError\u001b[0m                                 Traceback (most recent call last)",
      "Cell \u001b[1;32mIn[2], line 4\u001b[0m\n\u001b[0;32m      2\u001b[0m \u001b[38;5;28;01mfor\u001b[39;00m e \u001b[38;5;129;01min\u001b[39;00m raw_data:\n\u001b[0;32m      3\u001b[0m     t\u001b[38;5;241m.\u001b[39madd(\u001b[38;5;28mlen\u001b[39m(e))\n\u001b[1;32m----> 4\u001b[0m \u001b[38;5;28mprint\u001b[39m(\u001b[43mt\u001b[49m)\n\u001b[0;32m      5\u001b[0m np_data \u001b[38;5;241m=\u001b[39m np\u001b[38;5;241m.\u001b[39marray(raw_data[\u001b[38;5;241m2\u001b[39m:])\n\u001b[0;32m      6\u001b[0m np_data \u001b[38;5;241m=\u001b[39m np_data[:, \u001b[38;5;241m2\u001b[39m:]\u001b[38;5;241m.\u001b[39mastype(np\u001b[38;5;241m.\u001b[39mint64)\n",
      "\u001b[1;31mNameError\u001b[0m: name 't' is not defined"
     ]
    }
   ],
   "source": [
    "raw_data=[]\n",
    "for e in raw_data:\n",
    "    t.add(len(e))\n",
    "print(t)\n",
    "np_data = np.array(raw_data[2:])\n",
    "np_data = np_data[:, 2:].astype(np.int64)\n",
    "\n",
    "        \n",
    "#print(data)\n",
    "urban_gas = (my_split(data[2:]))\n",
    "print(urban_gas)\n"
   ]
  },
  {
   "cell_type": "code",
   "execution_count": 3,
   "id": "e1ddc571",
   "metadata": {},
   "outputs": [
    {
     "name": "stdout",
     "output_type": "stream",
     "text": [
      "(0, '\"시점\"')\n",
      "(1, '\"월별(1)\"')\n",
      "(2, '도시가스 (천㎥)')\n",
      "(3, '도시가스 (천㎥)')\n",
      "(4, '프로판 (ton)')\n",
      "(5, '프로판 (ton)')\n",
      "(6, '부탄 (ton)')\n",
      "(7, '부탄 (ton)')\n"
     ]
    }
   ],
   "source": [
    "data=[]\n",
    "with open('가스공급량_20230217170920.csv') as a:\n",
    "    for line in a:\n",
    "        \n",
    "        data.append(my_split(line[:-1]))\n",
    "        \n",
    "np_data = np.array(data)\n",
    "for e in enumerate(np_data[0]):\n",
    "    print(e)\n",
    "    "
   ]
  },
  {
   "cell_type": "code",
   "execution_count": 4,
   "id": "10caa9cd",
   "metadata": {},
   "outputs": [
    {
     "name": "stdout",
     "output_type": "stream",
     "text": [
      "[['\"시점\"' '\"월별(1)\"' '도시가스 (천㎥)' '도시가스 (천㎥)' '프로판 (ton)' '프로판 (ton)'\n",
      "  '부탄 (ton)' '부탄 (ton)']\n",
      " ['\"시점\"' '\"월별(1)\"' '판매소수 (개)' '판매량' '판매소수 (개)' '판매량' '판매소수 (개)' '판매량']\n",
      " ['\"2010\"' '\"계\"' '1' '1275714' '311' '91657' '64' '289391']]\n"
     ]
    },
    {
     "ename": "UFuncTypeError",
     "evalue": "ufunc 'add' did not contain a loop with signature matching types (dtype('<U9'), dtype('<U9')) -> None",
     "output_type": "error",
     "traceback": [
      "\u001b[1;31m---------------------------------------------------------------------------\u001b[0m",
      "\u001b[1;31mUFuncTypeError\u001b[0m                            Traceback (most recent call last)",
      "Cell \u001b[1;32mIn[4], line 4\u001b[0m\n\u001b[0;32m      1\u001b[0m \u001b[38;5;28mprint\u001b[39m(np_data[:\u001b[38;5;241m3\u001b[39m])\n\u001b[0;32m      2\u001b[0m imark \u001b[38;5;241m=\u001b[39m [x\u001b[38;5;241m*\u001b[39m\u001b[38;5;241m12\u001b[39m \u001b[38;5;28;01mfor\u001b[39;00m x \u001b[38;5;129;01min\u001b[39;00m \u001b[38;5;28mrange\u001b[39m(\u001b[38;5;241m1\u001b[39m,\u001b[38;5;241m12\u001b[39m)]\n\u001b[1;32m----> 4\u001b[0m \u001b[43mnp\u001b[49m\u001b[38;5;241;43m.\u001b[39;49m\u001b[43madd\u001b[49m\u001b[38;5;241;43m.\u001b[39;49m\u001b[43mreduceat\u001b[49m\u001b[43m(\u001b[49m\u001b[43mnp_data\u001b[49m\u001b[43m,\u001b[49m\u001b[43m \u001b[49m\u001b[43m[\u001b[49m\u001b[38;5;241;43m0\u001b[39;49m\u001b[43m,\u001b[49m\u001b[38;5;241;43m2\u001b[39;49m\u001b[43m]\u001b[49m\u001b[43m)\u001b[49m\n",
      "\u001b[1;31mUFuncTypeError\u001b[0m: ufunc 'add' did not contain a loop with signature matching types (dtype('<U9'), dtype('<U9')) -> None"
     ]
    }
   ],
   "source": [
    "print(np_data[:3])\n",
    "imark = [x*12 for x in range(1,12)]\n",
    "\n",
    "np.add.reduceat(np_data, [0,2])"
   ]
  }
 ],
 "metadata": {
  "kernelspec": {
   "display_name": "Python 3 (ipykernel)",
   "language": "python",
   "name": "python3"
  },
  "language_info": {
   "codemirror_mode": {
    "name": "ipython",
    "version": 3
   },
   "file_extension": ".py",
   "mimetype": "text/x-python",
   "name": "python",
   "nbconvert_exporter": "python",
   "pygments_lexer": "ipython3",
   "version": "3.10.9"
  }
 },
 "nbformat": 4,
 "nbformat_minor": 5
}

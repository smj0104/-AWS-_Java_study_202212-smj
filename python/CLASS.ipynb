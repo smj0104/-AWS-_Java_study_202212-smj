{
 "cells": [
  {
   "cell_type": "code",
   "execution_count": 1,
   "id": "3168e2b6",
   "metadata": {},
   "outputs": [
    {
     "data": {
      "text/plain": [
       "__main__.fourcal"
      ]
     },
     "execution_count": 1,
     "metadata": {},
     "output_type": "execute_result"
    }
   ],
   "source": [
    "class fourcal:\n",
    "    def setdata(self, first, second):  #메서드 매개변수\n",
    "        self.first = first             #메서드 수행문\n",
    "        self.second = second\n",
    "\n",
    "\n",
    "\n",
    "a = fourcal() #객체 생성\n",
    "type(a) #타입 확인 함수\n",
    "a.setdata(4,2)\n"
   ]
  }
 ],
 "metadata": {
  "kernelspec": {
   "display_name": "Python 3 (ipykernel)",
   "language": "python",
   "name": "python3"
  },
  "language_info": {
   "codemirror_mode": {
    "name": "ipython",
    "version": 3
   },
   "file_extension": ".py",
   "mimetype": "text/x-python",
   "name": "python",
   "nbconvert_exporter": "python",
   "pygments_lexer": "ipython3",
   "version": "3.10.9"
  }
 },
 "nbformat": 4,
 "nbformat_minor": 5
}

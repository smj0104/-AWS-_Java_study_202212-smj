{
 "cells": [
  {
   "cell_type": "code",
   "execution_count": 2,
   "id": "eacab775",
   "metadata": {},
   "outputs": [
    {
     "name": "stdout",
     "output_type": "stream",
     "text": [
      "             허가구역명  장소유형    시도명 시군구명  \\\n",
      "0       부산대학교내 장승터     6  부산광역시  금정구   \n",
      "1           금양초등학교     6  부산광역시  금정구   \n",
      "2  부산가톨릭대학교 로사리오광장     6  부산광역시  금정구   \n",
      "3        호계2차현대홈타운     8    경기도  안양시   \n",
      "4          안양종합운동장     8    경기도  안양시   \n",
      "\n",
      "                                   소재지도로명주소               소재지지번주소         위도  \\\n",
      "0                    부산광역시 금정구 부산대학로 63번길 2      부산광역시 금정구 장전동 40  35.232243   \n",
      "1                       부산광역시 금정구 중앙대로 1755   부산광역시 금정구 부곡동 63-27  35.241236   \n",
      "2  부산광역시 금정구 오륜대로 57, 부산가톨릭대학교 로사리오광장 (부곡동)       부산광역시 금정구 부곡동 9  35.244677   \n",
      "3      경기도 안양시 동안구 경수대로 462 (호계동 호계2차현대홈타운)                   NaN        NaN   \n",
      "4                      경기도 안양시 동안구 평촌대로 389  경기도 안양시 동안구 비산동 1023        NaN   \n",
      "\n",
      "           경도  푸드트럭운영대수           허가구역사용료  ... 11월운영시작시각 11월운영종료시각 12월운영시작시각  \\\n",
      "0  129.083825       1.0                 0  ...     00:00     00:00     00:00   \n",
      "1  129.092025       1.0                 0  ...     00:00     00:00     00:00   \n",
      "2  129.096872       1.0                 0  ...     00:00     00:00     00:00   \n",
      "3         NaN       NaN  매출액 15퍼센트(VAT별도)  ...       NaN       NaN       NaN   \n",
      "4         NaN       NaN  매출액 15퍼센트(VAT별도)  ...       NaN       NaN       NaN   \n",
      "\n",
      "  12월운영종료시각 판매제한품목       관리기관명       관리기관전화번호     데이터기준일자   제공기관코드      제공기관명  \n",
      "0     00:00    NaN  부산광역시 금정구청   051-519-4414  2021-10-25  3350000  부산광역시 금정구  \n",
      "1     00:00    NaN  부산광역시 금정구청   051-519-4414  2021-10-25  3350000  부산광역시 금정구  \n",
      "2     00:00    NaN  부산광역시 금정구청   051-519-4414  2021-10-25  3350000  부산광역시 금정구  \n",
      "3       NaN    NaN    경기도 안양시청  031-8045-4313  2022-12-07  3830000    경기도 안양시  \n",
      "4       NaN    NaN    경기도 안양시청  031-8045-4313  2022-12-07  3830000    경기도 안양시  \n",
      "\n",
      "[5 rows x 47 columns]\n",
      "(0, '허가구역명')\n",
      "(1, '장소유형')\n",
      "(2, '시도명')\n",
      "(3, '시군구명')\n",
      "(4, '소재지도로명주소')\n",
      "(5, '소재지지번주소')\n",
      "(6, '위도')\n",
      "(7, '경도')\n",
      "(8, '푸드트럭운영대수')\n",
      "(9, '허가구역사용료')\n",
      "(10, '허가구역운영시작일자')\n",
      "(11, '허가구역운영종료일자')\n",
      "(12, '허가구역휴무일')\n",
      "(13, '허가구역평일운영시작시각')\n",
      "(14, '허가구역평일운영종료시각')\n",
      "(15, '허가구역주말운영시작시각')\n",
      "(16, '허가구역주말운영종료시각')\n",
      "(17, '1월운영시작시각')\n",
      "(18, '1월운영종료시각')\n",
      "(19, '2월운영시작시각')\n",
      "(20, '2월운영종료시각')\n",
      "(21, '3월운영시작시각')\n",
      "(22, '3월운영종료시각')\n",
      "(23, '4월운영시작시각')\n",
      "(24, '4월운영종료시각')\n",
      "(25, '5월운영시작시각')\n",
      "(26, '5월운영종료시각')\n",
      "(27, '6월운영시작시각')\n",
      "(28, '6월운영종료시각')\n",
      "(29, '7월운영시작시각')\n",
      "(30, '7월운영종료시각')\n",
      "(31, '8월운영시작시각')\n",
      "(32, '8월운영종료시각')\n",
      "(33, '9월운영시작시각')\n",
      "(34, '9월운영종료시각')\n",
      "(35, '10월운영시작시각')\n",
      "(36, '10월운영종료시각')\n",
      "(37, '11월운영시작시각')\n",
      "(38, '11월운영종료시각')\n",
      "(39, '12월운영시작시각')\n",
      "(40, '12월운영종료시각')\n",
      "(41, '판매제한품목')\n",
      "(42, '관리기관명')\n",
      "(43, '관리기관전화번호')\n",
      "(44, '데이터기준일자')\n",
      "(45, '제공기관코드')\n",
      "(46, '제공기관명')\n"
     ]
    }
   ],
   "source": [
    "import numpy as np\n",
    "import pandas as pd\n",
    "pd_data = pd.read_csv('전국푸드트럭허가구역표준데이터.csv', encoding = 'cp949')\n",
    "\n",
    "\n",
    "print(pd_data.head())\n",
    "pd_data.columns\n",
    "\n",
    "for i in enumerate(pd_data.columns):\n",
    "    print(i)"
   ]
  },
  {
   "cell_type": "code",
   "execution_count": 3,
   "id": "09389ee5",
   "metadata": {},
   "outputs": [
    {
     "data": {
      "text/plain": [
       "(342, 47)"
      ]
     },
     "execution_count": 3,
     "metadata": {},
     "output_type": "execute_result"
    }
   ],
   "source": [
    "pd_data.shape #342군데 존재함\n"
   ]
  },
  {
   "cell_type": "code",
   "execution_count": 4,
   "id": "d371b722",
   "metadata": {},
   "outputs": [
    {
     "data": {
      "text/plain": [
       "경기도        80\n",
       "경상남도       48\n",
       "충청북도       41\n",
       "강원도        34\n",
       "충청남도       24\n",
       "서울특별시      17\n",
       "제주특별자치도    17\n",
       "광주광역시      14\n",
       "전라남도       13\n",
       "대구광역시      12\n",
       "경상북도       11\n",
       "부산광역시       9\n",
       "인천광역시       8\n",
       "전라북도        7\n",
       "대전광역시       6\n",
       "울산광역시       1\n",
       "Name: 시도명, dtype: int64"
      ]
     },
     "execution_count": 4,
     "metadata": {},
     "output_type": "execute_result"
    }
   ],
   "source": [
    "national_site_count = pd_data.shape[0]\n",
    "pd_data['시도명'].value_counts()  #pandas dataframe"
   ]
  },
  {
   "cell_type": "code",
   "execution_count": 8,
   "id": "5beb10a8",
   "metadata": {},
   "outputs": [
    {
     "data": {
      "text/plain": [
       "444.0"
      ]
     },
     "execution_count": 8,
     "metadata": {},
     "output_type": "execute_result"
    }
   ],
   "source": [
    "pd_data['푸드트럭운영대수'].sum()  #pd_data['푸드트럭운영대수'].sum 괄호차이 알아보기\n"
   ]
  },
  {
   "cell_type": "code",
   "execution_count": 8,
   "id": "0e56fe84",
   "metadata": {},
   "outputs": [
    {
     "name": "stdout",
     "output_type": "stream",
     "text": [
      "<class 'pandas.core.frame.DataFrame'>\n"
     ]
    }
   ],
   "source": [
    "sub_data = pd_data[['시도명', '푸드트럭운영대수']]\n",
    "x = sub_data.groupby('시도명').sum()\n",
    "print(type(x))"
   ]
  },
  {
   "cell_type": "code",
   "execution_count": 12,
   "id": "1986c297",
   "metadata": {
    "scrolled": true
   },
   "outputs": [
    {
     "name": "stdout",
     "output_type": "stream",
     "text": [
      "         푸드트럭운영대수\n",
      "count  251.000000\n",
      "mean     1.768924\n",
      "std      2.952015\n",
      "min      0.000000\n",
      "25%      1.000000\n",
      "50%      1.000000\n",
      "75%      1.000000\n",
      "max     25.000000\n"
     ]
    }
   ],
   "source": [
    "#pd_data['시도명'].describe()\n",
    "#print(pd_data['푸드트럭운영대수'].describe())\n",
    "print(pd_data[['시도명','푸드트럭운영대수']].describe())"
   ]
  },
  {
   "cell_type": "code",
   "execution_count": 21,
   "id": "9bf2d36f",
   "metadata": {},
   "outputs": [
    {
     "name": "stdout",
     "output_type": "stream",
     "text": [
      "47 43\n"
     ]
    }
   ],
   "source": [
    "#print(pd_data.shape)\n",
    "num_descr_df = pd_data.describe()\n",
    "#print(num_descr_df.columns)\n",
    "#print(pd_data.columns)\n",
    "\n",
    "\n",
    "lista = list(pd_data.columns)\n",
    "for e in list(num_descr_df.columns):\n",
    "        lista.remove(e)\n",
    "print(len(pd_data.columns), len(lista))\n",
    "\n",
    "#pd_data[lista].describe()"
   ]
  },
  {
   "cell_type": "code",
   "execution_count": 30,
   "id": "e37acfb7",
   "metadata": {},
   "outputs": [
    {
     "name": "stdout",
     "output_type": "stream",
     "text": [
      "0     2018-04-30\n",
      "1     2018-08-04\n",
      "2     2019-09-25\n",
      "3     2020-09-21\n",
      "4     2022-02-19\n",
      "         ...    \n",
      "337   2021-09-17\n",
      "338   2021-09-17\n",
      "339   2022-06-14\n",
      "340   2022-08-01\n",
      "341   2022-08-01\n",
      "Name: 허가구역운영시작일자, Length: 342, dtype: datetime64[ns]\n"
     ]
    }
   ],
   "source": [
    "x = pd_data['허가구역운영시작일자'].astype(np.datetime64)\n",
    "print(x)"
   ]
  },
  {
   "cell_type": "code",
   "execution_count": 41,
   "id": "4481eda6",
   "metadata": {},
   "outputs": [
    {
     "name": "stdout",
     "output_type": "stream",
     "text": [
      "0      51\n",
      "1      54\n",
      "2      54\n",
      "3      36\n",
      "4      48\n",
      "       ..\n",
      "337    23\n",
      "338    23\n",
      "339    23\n",
      "340    23\n",
      "341    23\n",
      "Length: 342, dtype: int8\n"
     ]
    },
    {
     "data": {
      "text/html": [
       "<div>\n",
       "<style scoped>\n",
       "    .dataframe tbody tr th:only-of-type {\n",
       "        vertical-align: middle;\n",
       "    }\n",
       "\n",
       "    .dataframe tbody tr th {\n",
       "        vertical-align: top;\n",
       "    }\n",
       "\n",
       "    .dataframe thead th {\n",
       "        text-align: right;\n",
       "    }\n",
       "</style>\n",
       "<table border=\"1\" class=\"dataframe\">\n",
       "  <thead>\n",
       "    <tr style=\"text-align: right;\">\n",
       "      <th></th>\n",
       "      <th>label</th>\n",
       "      <th>codes</th>\n",
       "    </tr>\n",
       "  </thead>\n",
       "  <tbody>\n",
       "    <tr>\n",
       "      <th>217</th>\n",
       "      <td>화요일+수요일</td>\n",
       "      <td>57</td>\n",
       "    </tr>\n",
       "    <tr>\n",
       "      <th>5</th>\n",
       "      <td>화+수+목+금+토+일</td>\n",
       "      <td>56</td>\n",
       "    </tr>\n",
       "    <tr>\n",
       "      <th>101</th>\n",
       "      <td>화+수+목+금+토+일</td>\n",
       "      <td>56</td>\n",
       "    </tr>\n",
       "    <tr>\n",
       "      <th>199</th>\n",
       "      <td>행사종료일</td>\n",
       "      <td>55</td>\n",
       "    </tr>\n",
       "    <tr>\n",
       "      <th>200</th>\n",
       "      <td>행사종료일</td>\n",
       "      <td>55</td>\n",
       "    </tr>\n",
       "    <tr>\n",
       "      <th>...</th>\n",
       "      <td>...</td>\n",
       "      <td>...</td>\n",
       "    </tr>\n",
       "    <tr>\n",
       "      <th>115</th>\n",
       "      <td>1개월 내 3~4일 비정기적 휴무</td>\n",
       "      <td>1</td>\n",
       "    </tr>\n",
       "    <tr>\n",
       "      <th>71</th>\n",
       "      <td>-</td>\n",
       "      <td>0</td>\n",
       "    </tr>\n",
       "    <tr>\n",
       "      <th>70</th>\n",
       "      <td>-</td>\n",
       "      <td>0</td>\n",
       "    </tr>\n",
       "    <tr>\n",
       "      <th>69</th>\n",
       "      <td>-</td>\n",
       "      <td>0</td>\n",
       "    </tr>\n",
       "    <tr>\n",
       "      <th>68</th>\n",
       "      <td>-</td>\n",
       "      <td>0</td>\n",
       "    </tr>\n",
       "  </tbody>\n",
       "</table>\n",
       "<p>342 rows × 2 columns</p>\n",
       "</div>"
      ],
      "text/plain": [
       "                  label  codes\n",
       "217             화요일+수요일     57\n",
       "5           화+수+목+금+토+일     56\n",
       "101         화+수+목+금+토+일     56\n",
       "199               행사종료일     55\n",
       "200               행사종료일     55\n",
       "..                  ...    ...\n",
       "115  1개월 내 3~4일 비정기적 휴무      1\n",
       "71                    -      0\n",
       "70                    -      0\n",
       "69                    -      0\n",
       "68                    -      0\n",
       "\n",
       "[342 rows x 2 columns]"
      ]
     },
     "execution_count": 41,
     "metadata": {},
     "output_type": "execute_result"
    }
   ],
   "source": [
    "#pd_data['허가구역휴무일'].value_counts()\n",
    "x = pd_data['허가구역휴무일'].astype('category')\n",
    "\n",
    "\n",
    "print(x.cat.codes)\n",
    "df1 = pd.DataFrame({'label': x, 'codes':x.cat.codes})\n",
    "df1.sort_values('label', ascending = False)"
   ]
  },
  {
   "cell_type": "code",
   "execution_count": 54,
   "id": "9726896f",
   "metadata": {},
   "outputs": [
    {
     "name": "stdout",
     "output_type": "stream",
     "text": [
      "       시도명  푸드트럭운영대수\n",
      "0    부산광역시       1.0\n",
      "1    부산광역시       1.0\n",
      "2    부산광역시       1.0\n",
      "3      경기도       NaN\n",
      "4      경기도       NaN\n",
      "..     ...       ...\n",
      "337    경기도       1.0\n",
      "338    경기도       1.0\n",
      "339    경기도       1.0\n",
      "340    경기도       1.0\n",
      "341    경기도       1.0\n",
      "\n",
      "[342 rows x 2 columns]\n",
      "<pandas.core.groupby.generic.DataFrameGroupBy object at 0x000001FCBE33ED40> <class 'pandas.core.groupby.generic.DataFrameGroupBy'>\n"
     ]
    }
   ],
   "source": [
    "def myfn(x):\n",
    "    print(x, type(x))\n",
    "    return np.sum(x)*100\n",
    "\n",
    "sub_data = pd_data[['시도명', '푸드트럭운영대수']]\n",
    "print(sub_data)\n",
    "g1 = sub_data.groupby('시도명')\n",
    "print(g1, type(g1))\n",
    "g1 = sub_data.groupby('시도명')\n",
    "#g1.sum()\n",
    "#g1.count()\n",
    "#g1.std()\n",
    "\n",
    "#g1.describe()\n",
    "#g1.aggregate([np.sum, np.mean, np.std])\n",
    "#g1.aggregate(lambda x: np.sum(x)*100)\n",
    "#g1.apply(lambda x: np.sum(x)*100)\n",
    "#g1.aggregate(myfn)\n",
    "#g1.apply(myfn)"
   ]
  },
  {
   "cell_type": "code",
   "execution_count": 59,
   "id": "40b464c8",
   "metadata": {},
   "outputs": [
    {
     "name": "stdout",
     "output_type": "stream",
     "text": [
      "0      1.0\n",
      "1      1.0\n",
      "2      1.0\n",
      "3      NaN\n",
      "4      NaN\n",
      "      ... \n",
      "337    1.0\n",
      "338    1.0\n",
      "339    1.0\n",
      "340    1.0\n",
      "341    1.0\n",
      "Name: 푸드트럭운영대수, Length: 342, dtype: float64\n"
     ]
    },
    {
     "data": {
      "text/plain": [
       "0      1.0\n",
       "1      1.0\n",
       "2      1.0\n",
       "3      0.0\n",
       "4      0.0\n",
       "      ... \n",
       "337    1.0\n",
       "338    1.0\n",
       "339    1.0\n",
       "340    1.0\n",
       "341    1.0\n",
       "Name: 푸드트럭운영대수, Length: 342, dtype: float64"
      ]
     },
     "execution_count": 59,
     "metadata": {},
     "output_type": "execute_result"
    }
   ],
   "source": [
    "def myfn2(x):\n",
    "    if x == np.NaN:\n",
    "        return 0.0\n",
    "    else:\n",
    "        return x\n",
    "    \n",
    "x = pd_data['푸드트럭운영대수'].apply(myfn2)\n",
    "print(x)\n",
    "x.replace(np.NaN, 0.0)"
   ]
  },
  {
   "cell_type": "code",
   "execution_count": null,
   "id": "c22ae5ac",
   "metadata": {},
   "outputs": [],
   "source": []
  }
 ],
 "metadata": {
  "kernelspec": {
   "display_name": "Python 3 (ipykernel)",
   "language": "python",
   "name": "python3"
  },
  "language_info": {
   "codemirror_mode": {
    "name": "ipython",
    "version": 3
   },
   "file_extension": ".py",
   "mimetype": "text/x-python",
   "name": "python",
   "nbconvert_exporter": "python",
   "pygments_lexer": "ipython3",
   "version": "3.10.9"
  }
 },
 "nbformat": 4,
 "nbformat_minor": 5
}

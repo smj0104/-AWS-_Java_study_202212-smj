{
 "cells": [
  {
   "cell_type": "code",
   "execution_count": 4,
   "id": "eacab775",
   "metadata": {},
   "outputs": [
    {
     "name": "stdout",
     "output_type": "stream",
     "text": [
      "             허가구역명  장소유형    시도명 시군구명  \\\n",
      "0       부산대학교내 장승터     6  부산광역시  금정구   \n",
      "1           금양초등학교     6  부산광역시  금정구   \n",
      "2  부산가톨릭대학교 로사리오광장     6  부산광역시  금정구   \n",
      "3        호계2차현대홈타운     8    경기도  안양시   \n",
      "4          안양종합운동장     8    경기도  안양시   \n",
      "\n",
      "                                   소재지도로명주소               소재지지번주소         위도  \\\n",
      "0                    부산광역시 금정구 부산대학로 63번길 2      부산광역시 금정구 장전동 40  35.232243   \n",
      "1                       부산광역시 금정구 중앙대로 1755   부산광역시 금정구 부곡동 63-27  35.241236   \n",
      "2  부산광역시 금정구 오륜대로 57, 부산가톨릭대학교 로사리오광장 (부곡동)       부산광역시 금정구 부곡동 9  35.244677   \n",
      "3      경기도 안양시 동안구 경수대로 462 (호계동 호계2차현대홈타운)                   NaN        NaN   \n",
      "4                      경기도 안양시 동안구 평촌대로 389  경기도 안양시 동안구 비산동 1023        NaN   \n",
      "\n",
      "           경도  푸드트럭운영대수           허가구역사용료  ... 11월운영시작시각 11월운영종료시각 12월운영시작시각  \\\n",
      "0  129.083825       1.0                 0  ...     00:00     00:00     00:00   \n",
      "1  129.092025       1.0                 0  ...     00:00     00:00     00:00   \n",
      "2  129.096872       1.0                 0  ...     00:00     00:00     00:00   \n",
      "3         NaN       NaN  매출액 15퍼센트(VAT별도)  ...       NaN       NaN       NaN   \n",
      "4         NaN       NaN  매출액 15퍼센트(VAT별도)  ...       NaN       NaN       NaN   \n",
      "\n",
      "  12월운영종료시각 판매제한품목       관리기관명       관리기관전화번호     데이터기준일자   제공기관코드      제공기관명  \n",
      "0     00:00    NaN  부산광역시 금정구청   051-519-4414  2021-10-25  3350000  부산광역시 금정구  \n",
      "1     00:00    NaN  부산광역시 금정구청   051-519-4414  2021-10-25  3350000  부산광역시 금정구  \n",
      "2     00:00    NaN  부산광역시 금정구청   051-519-4414  2021-10-25  3350000  부산광역시 금정구  \n",
      "3       NaN    NaN    경기도 안양시청  031-8045-4313  2022-12-07  3830000    경기도 안양시  \n",
      "4       NaN    NaN    경기도 안양시청  031-8045-4313  2022-12-07  3830000    경기도 안양시  \n",
      "\n",
      "[5 rows x 47 columns]\n"
     ]
    },
    {
     "data": {
      "text/plain": [
       "Index(['허가구역명', '장소유형', '시도명', '시군구명', '소재지도로명주소', '소재지지번주소', '위도', '경도',\n",
       "       '푸드트럭운영대수', '허가구역사용료', '허가구역운영시작일자', '허가구역운영종료일자', '허가구역휴무일',\n",
       "       '허가구역평일운영시작시각', '허가구역평일운영종료시각', '허가구역주말운영시작시각', '허가구역주말운영종료시각',\n",
       "       '1월운영시작시각', '1월운영종료시각', '2월운영시작시각', '2월운영종료시각', '3월운영시작시각', '3월운영종료시각',\n",
       "       '4월운영시작시각', '4월운영종료시각', '5월운영시작시각', '5월운영종료시각', '6월운영시작시각', '6월운영종료시각',\n",
       "       '7월운영시작시각', '7월운영종료시각', '8월운영시작시각', '8월운영종료시각', '9월운영시작시각', '9월운영종료시각',\n",
       "       '10월운영시작시각', '10월운영종료시각', '11월운영시작시각', '11월운영종료시각', '12월운영시작시각',\n",
       "       '12월운영종료시각', '판매제한품목', '관리기관명', '관리기관전화번호', '데이터기준일자', '제공기관코드',\n",
       "       '제공기관명'],\n",
       "      dtype='object')"
      ]
     },
     "execution_count": 4,
     "metadata": {},
     "output_type": "execute_result"
    }
   ],
   "source": [
    "import numpy as np\n",
    "import pandas as pd\n",
    "pd_data = pd.read_csv('전국푸드트럭허가구역표준데이터.csv', encoding = 'cp949')\n",
    "\n",
    "\n",
    "print(pd_data.head())\n",
    "pd_data.columns\n",
    "\n",
    "for i in enumerate(pd_data.columns)\n",
    "    print(i)"
   ]
  },
  {
   "cell_type": "code",
   "execution_count": 5,
   "id": "09389ee5",
   "metadata": {},
   "outputs": [
    {
     "data": {
      "text/plain": [
       "(342, 47)"
      ]
     },
     "execution_count": 5,
     "metadata": {},
     "output_type": "execute_result"
    }
   ],
   "source": [
    "pd_data.shape #342군데 존재함\n"
   ]
  },
  {
   "cell_type": "code",
   "execution_count": 6,
   "id": "d371b722",
   "metadata": {},
   "outputs": [
    {
     "data": {
      "text/plain": [
       "경기도        80\n",
       "경상남도       48\n",
       "충청북도       41\n",
       "강원도        34\n",
       "충청남도       24\n",
       "서울특별시      17\n",
       "제주특별자치도    17\n",
       "광주광역시      14\n",
       "전라남도       13\n",
       "대구광역시      12\n",
       "경상북도       11\n",
       "부산광역시       9\n",
       "인천광역시       8\n",
       "전라북도        7\n",
       "대전광역시       6\n",
       "울산광역시       1\n",
       "Name: 시도명, dtype: int64"
      ]
     },
     "execution_count": 6,
     "metadata": {},
     "output_type": "execute_result"
    }
   ],
   "source": [
    "national_site_count = pd_data.shape[0]\n",
    "pd_data['시도명'].value_counts()  #pandas dataframe"
   ]
  },
  {
   "cell_type": "code",
   "execution_count": 8,
   "id": "5beb10a8",
   "metadata": {},
   "outputs": [
    {
     "data": {
      "text/plain": [
       "444.0"
      ]
     },
     "execution_count": 8,
     "metadata": {},
     "output_type": "execute_result"
    }
   ],
   "source": [
    "pd_data['푸드트럭운영대수'].sum()  #pd_data['푸드트럭운영대수'].sum 괄호차이 알아보기\n"
   ]
  },
  {
   "cell_type": "code",
   "execution_count": null,
   "id": "0e56fe84",
   "metadata": {},
   "outputs": [],
   "source": [
    "sub_data = pd_data[['시도명', '푸드트럭운영대수']]\n",
    "sub_data.groupby('시도명').sum()"
   ]
  }
 ],
 "metadata": {
  "kernelspec": {
   "display_name": "Python 3 (ipykernel)",
   "language": "python",
   "name": "python3"
  },
  "language_info": {
   "codemirror_mode": {
    "name": "ipython",
    "version": 3
   },
   "file_extension": ".py",
   "mimetype": "text/x-python",
   "name": "python",
   "nbconvert_exporter": "python",
   "pygments_lexer": "ipython3",
   "version": "3.10.9"
  }
 },
 "nbformat": 4,
 "nbformat_minor": 5
}

{
 "cells": [
  {
   "cell_type": "code",
   "execution_count": 3,
   "id": "6c3d91af",
   "metadata": {},
   "outputs": [
    {
     "name": "stdout",
     "output_type": "stream",
     "text": [
      "       0    1    2    3               4\n",
      "0    5.1  3.5  1.4  0.2     Iris-setosa\n",
      "1    4.9  3.0  1.4  0.2     Iris-setosa\n",
      "2    4.7  3.2  1.3  0.2     Iris-setosa\n",
      "3    4.6  3.1  1.5  0.2     Iris-setosa\n",
      "4    5.0  3.6  1.4  0.2     Iris-setosa\n",
      "..   ...  ...  ...  ...             ...\n",
      "145  6.7  3.0  5.2  2.3  Iris-virginica\n",
      "146  6.3  2.5  5.0  1.9  Iris-virginica\n",
      "147  6.5  3.0  5.2  2.0  Iris-virginica\n",
      "148  6.2  3.4  5.4  2.3  Iris-virginica\n",
      "149  5.9  3.0  5.1  1.8  Iris-virginica\n",
      "\n",
      "[150 rows x 5 columns]\n"
     ]
    }
   ],
   "source": [
    "import numpy as np\n",
    "import pandas as pd\n",
    "\n",
    "url = 'https://archive.ics.uci.edu/ml/machine-learning-databases/iris/iris.data'\n",
    "iris_df = pd.read_csv(url, header = None)\n",
    "print(iris_df)"
   ]
  },
  {
   "cell_type": "code",
   "execution_count": 5,
   "id": "7ec9800f",
   "metadata": {},
   "outputs": [
    {
     "name": "stdout",
     "output_type": "stream",
     "text": [
      "RangeIndex(start=0, stop=150, step=1)\n",
      "Int64Index([0, 1, 2, 3, 4], dtype='int64')\n",
      "     a    b    c    d            e\n",
      "0  5.1  3.5  1.4  0.2  Iris-setosa\n",
      "1  4.9  3.0  1.4  0.2  Iris-setosa\n",
      "2  4.7  3.2  1.3  0.2  Iris-setosa\n",
      "3  4.6  3.1  1.5  0.2  Iris-setosa\n",
      "4  5.0  3.6  1.4  0.2  Iris-setosa\n"
     ]
    }
   ],
   "source": [
    "print(iris_df.index)\n",
    "print(iris_df.columns)\n",
    "iris_df.columns = list('abcde')\n",
    "print(iris_df.head())"
   ]
  },
  {
   "cell_type": "code",
   "execution_count": 15,
   "id": "8339b97f",
   "metadata": {},
   "outputs": [
    {
     "name": "stdout",
     "output_type": "stream",
     "text": [
      "     a    b    c    d         x\n",
      "0  5.1  3.5  1.4  0.2  1.457143\n",
      "1  4.9  3.0  1.4  0.2  1.633333\n",
      "2  4.7  3.2  1.3  0.2  1.468750\n",
      "3  4.6  3.1  1.5  0.2  1.483871\n",
      "4  5.0  3.6  1.4  0.2  1.388889\n"
     ]
    }
   ],
   "source": [
    "iris_df['x'] = iris_df['a']/iris_df['b']\n",
    "iris_df_d = iris_df.drop('e', axis = 1)\n",
    "print(iris_df_d.head())"
   ]
  },
  {
   "cell_type": "code",
   "execution_count": 19,
   "id": "02579a8b",
   "metadata": {},
   "outputs": [
    {
     "name": "stdout",
     "output_type": "stream",
     "text": [
      "   a    b\n",
      "0  a  NaN\n",
      "1  b    F\n",
      "2  c    Y\n",
      "3  d    X\n",
      "4  e    Z\n"
     ]
    }
   ],
   "source": [
    "s1 = pd.Series(list('abcde'), index=[x for x in range(5)])\n",
    "s2 = pd.Series(list('XYZF'), index=[3,2,4,1])\n",
    "df1 = pd.DataFrame({'a':s1, 'b':s2})\n",
    "print(df1)"
   ]
  },
  {
   "cell_type": "code",
   "execution_count": 25,
   "id": "461f4d11",
   "metadata": {},
   "outputs": [
    {
     "name": "stdout",
     "output_type": "stream",
     "text": [
      "       a      b\n",
      "0  False  False\n",
      "1  False  False\n",
      "2  False  False\n",
      "3  False  False\n",
      "4  False  False\n",
      "   a    b\n",
      "0  a  ppp\n",
      "1  b    F\n",
      "2  c    Y\n",
      "3  d    X\n",
      "4  e    Z\n",
      "   a    b\n",
      "0  a  ppp\n",
      "1  b    F\n",
      "2  c    Y\n",
      "3  d    X\n",
      "4  e    Z\n"
     ]
    }
   ],
   "source": [
    "print(df1.isna())  # NaN시 True\n",
    "print(df1.dropna())\n",
    "#print(df1.replace(np.NaN, 'x'))\n",
    "df1['a'] = df1['a'].replace(np.NaN, 'xx')\n",
    "df1['b'].replace(np.NaN, 'ppp', inplace = True)\n",
    "print(df1)\n",
    "#print(df1[df1.isna()])"
   ]
  },
  {
   "cell_type": "code",
   "execution_count": null,
   "id": "a87893e1",
   "metadata": {},
   "outputs": [],
   "source": []
  }
 ],
 "metadata": {
  "kernelspec": {
   "display_name": "Python 3 (ipykernel)",
   "language": "python",
   "name": "python3"
  },
  "language_info": {
   "codemirror_mode": {
    "name": "ipython",
    "version": 3
   },
   "file_extension": ".py",
   "mimetype": "text/x-python",
   "name": "python",
   "nbconvert_exporter": "python",
   "pygments_lexer": "ipython3",
   "version": "3.10.9"
  }
 },
 "nbformat": 4,
 "nbformat_minor": 5
}

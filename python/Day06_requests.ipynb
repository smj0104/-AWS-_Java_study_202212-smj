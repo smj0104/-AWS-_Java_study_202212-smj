{
 "cells": [
  {
   "cell_type": "code",
   "execution_count": null,
   "id": "728d148d",
   "metadata": {},
   "outputs": [],
   "source": [
    "import requests\n",
    "\n",
    "x = requests.get('https://archive.ics.uci.edu/ml/machine-learning-databases/iris/iris.data')\n"
   ]
  },
  {
   "cell_type": "code",
   "execution_count": null,
   "id": "aac07f64",
   "metadata": {},
   "outputs": [],
   "source": [
    "print(x.text)  #정상적으로 가져옴  <response [200]>"
   ]
  },
  {
   "cell_type": "code",
   "execution_count": null,
   "id": "67f16d6c",
   "metadata": {},
   "outputs": [],
   "source": [
    "data=[]\n",
    "for line in x.text.split('\\n'):\n",
    "    data.append(line.split(','))\n",
    "#print(data)\n",
    "\n",
    "for i in data:\n",
    "    for i, n in enumerate(e[:-1]):\n",
    "        try:\n",
    "            e[i] = float(n)\n",
    "        except:\n",
    "            pass\n",
    "print(data)\n",
    "\n"
   ]
  }
 ],
 "metadata": {
  "kernelspec": {
   "display_name": "Python 3 (ipykernel)",
   "language": "python",
   "name": "python3"
  },
  "language_info": {
   "codemirror_mode": {
    "name": "ipython",
    "version": 3
   },
   "file_extension": ".py",
   "mimetype": "text/x-python",
   "name": "python",
   "nbconvert_exporter": "python",
   "pygments_lexer": "ipython3",
   "version": "3.10.9"
  }
 },
 "nbformat": 4,
 "nbformat_minor": 5
}

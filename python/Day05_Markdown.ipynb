{
 "cells": [
  {
   "cell_type": "markdown",
   "id": "296f7813",
   "metadata": {},
   "source": [
    "# Heading1\n",
    "\n",
    "## heading2\n",
    "\n",
    "### heading3 \n",
    "\n",
    "heading\n",
    "======\n",
    "\n",
    "heading2\n",
    "-------------"
   ]
  },
  {
   "cell_type": "markdown",
   "id": "c0ee851d",
   "metadata": {},
   "source": [
    "문장1 문장2 문장3\n",
    "\n",
    "문장4\n",
    "\n",
    "문단x"
   ]
  },
  {
   "cell_type": "markdown",
   "id": "c016da23",
   "metadata": {},
   "source": [
    "$$\n",
    "   \\hat y = x +3\n",
    "$$\n"
   ]
  },
  {
   "cell_type": "code",
   "execution_count": 2,
   "id": "b74a3512",
   "metadata": {},
   "outputs": [
    {
     "name": "stdout",
     "output_type": "stream",
     "text": [
      "[1, 2, 3, 4, 10, 20, 30, 40]\n"
     ]
    }
   ],
   "source": [
    "lista = [[1,2,3,4],[10,20,30,40]]\n",
    "\n",
    "list_flat = []\n",
    "for i in lista:\n",
    "    list_flat = list_flat + i\n",
    "print(list_flat)"
   ]
  },
  {
   "cell_type": "code",
   "execution_count": null,
   "id": "57d76937",
   "metadata": {},
   "outputs": [],
   "source": []
  }
 ],
 "metadata": {
  "kernelspec": {
   "display_name": "Python 3 (ipykernel)",
   "language": "python",
   "name": "python3"
  },
  "language_info": {
   "codemirror_mode": {
    "name": "ipython",
    "version": 3
   },
   "file_extension": ".py",
   "mimetype": "text/x-python",
   "name": "python",
   "nbconvert_exporter": "python",
   "pygments_lexer": "ipython3",
   "version": "3.10.9"
  }
 },
 "nbformat": 4,
 "nbformat_minor": 5
}

{
 "cells": [
  {
   "cell_type": "code",
   "execution_count": 1,
   "id": "06c618c8",
   "metadata": {},
   "outputs": [
    {
     "name": "stdout",
     "output_type": "stream",
     "text": [
      "myfunction\n"
     ]
    }
   ],
   "source": [
    "#함수\n",
    "#define = def\n",
    "def function_name():\n",
    "    print('myfunction')\n",
    "    \n",
    "function_name()"
   ]
  },
  {
   "cell_type": "code",
   "execution_count": 30,
   "id": "01942f29",
   "metadata": {},
   "outputs": [
    {
     "name": "stdout",
     "output_type": "stream",
     "text": [
      "fn7 start\n",
      "cba cbm\n"
     ]
    }
   ],
   "source": [
    "#function arguement\n",
    "def myfn1():\n",
    "    print('myfn1')\n",
    "\n",
    "def myfn2(arg1):\n",
    "    print(arg1)\n",
    "\n",
    "def myfn3(arg1='a', arg2='b'):\n",
    "    print(arg1, arg2)\n",
    "\n",
    "def myfn4(*arg1):\n",
    "    for i in arg1: \n",
    "        print(i)\n",
    "\n",
    "def myfn5(arg1, *, arg2, arg3): # *앞쪽 position arguement 뒤쪽은 keyword arguement로 사용하겠다\n",
    "    print(arg1, arg2,arg3)\n",
    "    \n",
    "def myfn6(arg1, / , arg2, arg3): # /d앞쪽을 position arguement로 강제\n",
    "    print(arg1, arg2, arg3)\n",
    "\n",
    "def myfn7(arg1, arg2):\n",
    "    print(arg1)\n",
    "    arg2('cba','cbm')\n",
    "\n",
    "    \n",
    "#myfn2('abc')\n",
    "#myfn3(10,20)\n",
    "#myfn3(arg2=10, arg1 = 20)\n",
    "#myfn3()\n",
    "#yfn4(1,2,3,4)\n",
    "#myfn2([1,2,3,4])\n",
    "#myfn5('a', arg2='b', arg3='c')\n",
    "#myfn6(arg1='a', arg3='c',arg2='b')\n",
    "myfn7('fn7 start', myfn3)"
   ]
  },
  {
   "cell_type": "code",
   "execution_count": 34,
   "id": "53cef4ed",
   "metadata": {},
   "outputs": [
    {
     "name": "stdout",
     "output_type": "stream",
     "text": [
      "myfn8\n",
      "(10, 20)\n"
     ]
    }
   ],
   "source": [
    "#function return\n",
    "def myfn8():\n",
    "    print('myfn8')\n",
    "\n",
    "def myfn9():\n",
    "    return 10\n",
    "\n",
    "def myfn10():\n",
    "    return 10,20\n",
    "\n",
    "ret_value = myfn8()\n",
    "ret_value = myfn10()\n",
    "print(ret_value)\n"
   ]
  }
 ],
 "metadata": {
  "kernelspec": {
   "display_name": "Python 3 (ipykernel)",
   "language": "python",
   "name": "python3"
  },
  "language_info": {
   "codemirror_mode": {
    "name": "ipython",
    "version": 3
   },
   "file_extension": ".py",
   "mimetype": "text/x-python",
   "name": "python",
   "nbconvert_exporter": "python",
   "pygments_lexer": "ipython3",
   "version": "3.10.9"
  }
 },
 "nbformat": 4,
 "nbformat_minor": 5
}

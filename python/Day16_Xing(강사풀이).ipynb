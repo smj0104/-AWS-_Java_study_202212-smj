{
 "cells": [
  {
   "cell_type": "markdown",
   "id": "aab726b4",
   "metadata": {},
   "source": [
    "#### 전국횡단보도표준데이터 - *my_split 사용*\n",
    "1. 횡단보도 연장, 녹색신호시간 : 상관도.\n",
    "2. 자전거 횡단도 겸용 비율(전체 대비),\n",
    "3. 차로수별 자전거 횡단도 카운트/비율\n",
    "4. 차로수별 보행자 신호등 유무 카운트/비율\n",
    "5. 차로수별 음향신호기설치 유무 카운트/비율\n",
    "\n",
    "#### 화면 출력\n",
    "1. 상관도 수치\n",
    "2. 비율 수치\n",
    "3. 카운트, 비율\n",
    "4. 카운트, 비율\n",
    "5. 카운트, 비율\n",
    "\n"
   ]
  },
  {
   "cell_type": "code",
   "execution_count": 21,
   "id": "92d0b829",
   "metadata": {},
   "outputs": [],
   "source": [
    "import numpy as np\n",
    "import matplotlib.pyplot as plt\n",
    "\n",
    "np.set_printoptions(precision=5, suppress=True)\n",
    "\n",
    "def my_split(s):\n",
    "    block_start = False\n",
    "    start_index = 0\n",
    "    ret_list=[]\n",
    "    for i, c in enumerate(s):\n",
    "        if block_start==False:\n",
    "            if c==',':\n",
    "                ret_list.append(s[start_index:i])\n",
    "                start_index=i+1\n",
    "            elif c=='\"':\n",
    "                block_start=True\n",
    "                start_index = i\n",
    "        else:\n",
    "            if c=='\"':\n",
    "                block_start=False\n",
    "    if s[-1]!=',':\n",
    "        ret_list.append(s[start_index:])\n",
    "    return ret_list\n",
    "\n",
    "def check_split(list_data):\n",
    "    t = set()\n",
    "    for e in list_data:\n",
    "        t.add(len(e))\n",
    "    return len(t)"
   ]
  },
  {
   "cell_type": "code",
   "execution_count": 5,
   "id": "03ca3532",
   "metadata": {},
   "outputs": [],
   "source": [
    "def np_data_from_data_go_kr_csv(filename):\n",
    "    t = []\n",
    "    with open(filename, encoding='cp949') as f:\n",
    "        for line in f:\n",
    "            t.append(my_split(line[:-1]))\n",
    "    if check_split(t)!=1:\n",
    "        return None\n",
    "    else:\n",
    "        return np.array(t)\n",
    "    \n",
    "def print_index_title(data):\n",
    "    for e in enumerate(data[0]):\n",
    "        print(e)"
   ]
  },
  {
   "cell_type": "code",
   "execution_count": 46,
   "id": "2505e471",
   "metadata": {},
   "outputs": [],
   "source": [
    "def target1(data):\n",
    "    sub_data = np_data[1:, [13,17]]\n",
    "    sub_data[sub_data=='0']=''\n",
    "    #sub_data = np.where(sub_data=='0', '', sub_data)\n",
    "    filter1 = sub_data[:,1]!=''\n",
    "    sub_data_f = sub_data[filter1].astype(np.float64)\n",
    "    #print(np.unique(sub_data_f[:,0]))\n",
    "    #print(np.unique(sub_data_f[:,1]))\n",
    "    #print(sub_data_f[:10])\n",
    "    \n",
    "    #_, axe = plt.subplots()\n",
    "    #axe.scatter(sub_data_f[:,0], sub_data_f[:,1])\n",
    "    \n",
    "    filter2 = sub_data_f[:,0]<100\n",
    "    sub_data_f2 = sub_data_f[filter2]\n",
    "    \n",
    "    #_, axe = plt.subplots()\n",
    "    #axe.scatter(sub_data_f2[:,0], sub_data_f2[:,1])\n",
    "    \n",
    "    return np.corrcoef(sub_data_f2[:,0], sub_data_f2[:,1])[0,1]\n",
    "\n",
    "#target1(np_data)"
   ]
  },
  {
   "cell_type": "code",
   "execution_count": 9,
   "id": "643e48dc",
   "metadata": {},
   "outputs": [
    {
     "data": {
      "text/plain": [
       "13.534760926958052"
      ]
     },
     "execution_count": 9,
     "metadata": {},
     "output_type": "execute_result"
    }
   ],
   "source": [
    "def target2(data):\n",
    "    sub_data = np_data[1:, 7]\n",
    "    val, cnt = np.unique(sub_data, return_counts=True)\n",
    "    #print(val, cnt)\n",
    "    return cnt[2]*100/np.sum(cnt[1:])\n",
    "\n",
    "#target2(np_data)"
   ]
  },
  {
   "cell_type": "code",
   "execution_count": 24,
   "id": "9c7b75ea",
   "metadata": {},
   "outputs": [
    {
     "data": {
      "text/plain": [
       "array([[    0.     ,     0.     ,     2.     ,     0.     ],\n",
       "       [    1.     ,   423.     ,  6166.     ,     0.0642 ],\n",
       "       [    2.     ,   859.     , 12472.     ,     0.06444],\n",
       "       [    3.     ,   489.     ,  2055.     ,     0.19222],\n",
       "       [    4.     ,  1002.     ,  4662.     ,     0.17691],\n",
       "       [    5.     ,   525.     ,  1573.     ,     0.25024],\n",
       "       [    6.     ,   593.     ,  1460.     ,     0.28885],\n",
       "       [    7.     ,   371.     ,   584.     ,     0.38848],\n",
       "       [    8.     ,   166.     ,   334.     ,     0.332  ],\n",
       "       [    9.     ,   125.     ,   123.     ,     0.50403],\n",
       "       [   10.     ,    39.     ,    37.     ,     0.51316],\n",
       "       [   11.     ,    12.     ,     6.     ,     0.66667],\n",
       "       [   12.     ,     7.     ,     2.     ,     0.77778],\n",
       "       [   13.     ,     3.     ,     0.     ,     1.     ],\n",
       "       [   15.     ,     0.     ,     0.     ,     0.     ]])"
      ]
     },
     "execution_count": 24,
     "metadata": {},
     "output_type": "execute_result"
    }
   ],
   "source": [
    "def target3(data):\n",
    "    sub_data = np_data[1:, [11,7]]\n",
    "    #print(np.unique(sub_data[:,0]))\n",
    "    #print(np.unique(sub_data[:,1]))\n",
    "    t = []\n",
    "    for e in np.unique(sub_data[:,0]):\n",
    "        filter1 = sub_data[:,0]==e\n",
    "        sub_data_f = sub_data[filter1]\n",
    "        #print(sub_data_f)\n",
    "        sub_data_f_y = sub_data_f[sub_data_f[:,1]=='Y']\n",
    "        sub_data_f_n = sub_data_f[sub_data_f[:,1]=='N']\n",
    "        #print(e, len(sub_data_f_y), len(sub_data_f_n))\n",
    "        #print(np.unique(sub_data_f[:,1], return_counts=True))\n",
    "        #print(len(sub_data_f_y)/len(sub_data_f_n))\n",
    "        yes_count = len(sub_data_f_y)\n",
    "        no_count = len(sub_data_f_n)\n",
    "        yes_no_count = yes_count+no_count\n",
    "        if yes_no_count==0:\n",
    "            yes_no_count=1\n",
    "        t.append((e, yes_count, no_count, yes_count/yes_no_count))\n",
    "    t = np.array(t).astype(np.float64)\n",
    "    t = np.array(sorted(t, key=lambda x: x[0]))\n",
    "    return t\n",
    "\n",
    "#target3(np_data)"
   ]
  },
  {
   "cell_type": "code",
   "execution_count": 41,
   "id": "5eca1b17",
   "metadata": {},
   "outputs": [
    {
     "data": {
      "text/plain": [
       "array([[    0.     ,     2.     ,     0.     ,     1.     ],\n",
       "       [    1.     ,   432.     ,  8104.     ,     0.05061],\n",
       "       [    2.     ,  3782.     , 15640.     ,     0.19473],\n",
       "       [    3.     ,  1848.     ,  1747.     ,     0.51405],\n",
       "       [    4.     ,  6200.     ,  2800.     ,     0.68889],\n",
       "       [    5.     ,  3013.     ,   274.     ,     0.91664],\n",
       "       [    6.     ,  2719.     ,   299.     ,     0.90093],\n",
       "       [    7.     ,  1546.     ,    51.     ,     0.96807],\n",
       "       [    8.     ,   797.     ,    17.     ,     0.97912],\n",
       "       [    9.     ,   444.     ,    11.     ,     0.97582],\n",
       "       [   10.     ,   166.     ,    12.     ,     0.93258],\n",
       "       [   11.     ,    51.     ,     2.     ,     0.96226],\n",
       "       [   12.     ,    22.     ,     1.     ,     0.95652],\n",
       "       [   13.     ,    16.     ,     2.     ,     0.88889],\n",
       "       [   15.     ,     2.     ,     0.     ,     1.     ]])"
      ]
     },
     "execution_count": 41,
     "metadata": {},
     "output_type": "execute_result"
    }
   ],
   "source": [
    "def target4(data):  #11, 14\n",
    "    sub_data = np_data[1:, [11,14]]\n",
    "    sub_data[sub_data=='n']='N'\n",
    "    sub_data[sub_data=='y']='Y'\n",
    "    #print(np.unique(sub_data[:,0]))\n",
    "    #print(np.unique(sub_data[:,1]))\n",
    "\n",
    "    t = []\n",
    "    for e in np.unique(sub_data[:,0]):\n",
    "        filter1 = sub_data[:,0]==e\n",
    "        sub_data_f = sub_data[filter1]\n",
    "        #print(sub_data_f)\n",
    "        sub_data_f_y = sub_data_f[sub_data_f[:,1]=='Y']\n",
    "        sub_data_f_n = sub_data_f[sub_data_f[:,1]=='N']\n",
    "        #print(e, len(sub_data_f_y), len(sub_data_f_n))\n",
    "        #print(np.unique(sub_data_f[:,1], return_counts=True))\n",
    "        #print(len(sub_data_f_y)/len(sub_data_f_n))\n",
    "        yes_count = len(sub_data_f_y)\n",
    "        no_count = len(sub_data_f_n)\n",
    "        yes_no_count = yes_count+no_count\n",
    "        if yes_no_count==0:\n",
    "            yes_no_count=1\n",
    "        t.append((e, yes_count, no_count, yes_count/yes_no_count))\n",
    "    t = np.array(t).astype(np.float64)\n",
    "    t = np.array(sorted(t, key=lambda x: x[0]))\n",
    "    return t\n",
    "\n",
    "#target4(np_data)"
   ]
  },
  {
   "cell_type": "code",
   "execution_count": 44,
   "id": "9d776961",
   "metadata": {},
   "outputs": [
    {
     "data": {
      "text/plain": [
       "array([[   0.     ,    2.     ,    0.     ,    1.     ],\n",
       "       [   1.     ,   64.     , 3480.     ,    0.01806],\n",
       "       [   2.     ,  582.     , 6873.     ,    0.07807],\n",
       "       [   3.     ,  363.     , 1489.     ,    0.196  ],\n",
       "       [   4.     ,  890.     , 2590.     ,    0.25575],\n",
       "       [   5.     ,  571.     , 1006.     ,    0.36208],\n",
       "       [   6.     ,  471.     ,  692.     ,    0.40499],\n",
       "       [   7.     ,  300.     ,  384.     ,    0.4386 ],\n",
       "       [   8.     ,  183.     ,  171.     ,    0.51695],\n",
       "       [   9.     ,   81.     ,   95.     ,    0.46023],\n",
       "       [  10.     ,   10.     ,   10.     ,    0.5    ],\n",
       "       [  11.     ,    2.     ,    2.     ,    0.5    ],\n",
       "       [  12.     ,    0.     ,    0.     ,    0.     ],\n",
       "       [  13.     ,    0.     ,    0.     ,    0.     ],\n",
       "       [  15.     ,    0.     ,    0.     ,    0.     ]])"
      ]
     },
     "execution_count": 44,
     "metadata": {},
     "output_type": "execute_result"
    }
   ],
   "source": [
    "def target5(data):   #11, 16\n",
    "    sub_data = np_data[1:, [11,16]]\n",
    "    sub_data[sub_data=='n']='N'\n",
    "    sub_data[sub_data=='y']='Y'\n",
    "    #print(np.unique(sub_data[:,0]))\n",
    "    #print(np.unique(sub_data[:,1]))\n",
    "\n",
    "    t = []\n",
    "    for e in np.unique(sub_data[:,0]):\n",
    "        filter1 = sub_data[:,0]==e\n",
    "        sub_data_f = sub_data[filter1]\n",
    "        #print(sub_data_f)\n",
    "        sub_data_f_y = sub_data_f[sub_data_f[:,1]=='Y']\n",
    "        sub_data_f_n = sub_data_f[sub_data_f[:,1]=='N']\n",
    "        #print(e, len(sub_data_f_y), len(sub_data_f_n))\n",
    "        #print(np.unique(sub_data_f[:,1], return_counts=True))\n",
    "        #print(len(sub_data_f_y)/len(sub_data_f_n))\n",
    "        yes_count = len(sub_data_f_y)\n",
    "        no_count = len(sub_data_f_n)\n",
    "        yes_no_count = yes_count+no_count\n",
    "        if yes_no_count==0:\n",
    "            yes_no_count=1\n",
    "        t.append((e, yes_count, no_count, yes_count/yes_no_count))\n",
    "    t = np.array(t).astype(np.float64)\n",
    "    t = np.array(sorted(t, key=lambda x: x[0]))\n",
    "    return t\n",
    "\n",
    "#target5(np_data)"
   ]
  },
  {
   "cell_type": "code",
   "execution_count": 47,
   "id": "cd14a55c",
   "metadata": {},
   "outputs": [
    {
     "name": "stdout",
     "output_type": "stream",
     "text": [
      "0.5691244290555937\n",
      "13.534760926958052\n",
      "[[    0.          0.          2.          0.     ]\n",
      " [    1.        423.       6166.          0.0642 ]\n",
      " [    2.        859.      12472.          0.06444]\n",
      " [    3.        489.       2055.          0.19222]\n",
      " [    4.       1002.       4662.          0.17691]\n",
      " [    5.        525.       1573.          0.25024]\n",
      " [    6.        593.       1460.          0.28885]\n",
      " [    7.        371.        584.          0.38848]\n",
      " [    8.        166.        334.          0.332  ]\n",
      " [    9.        125.        123.          0.50403]\n",
      " [   10.         39.         37.          0.51316]\n",
      " [   11.         12.          6.          0.66667]\n",
      " [   12.          7.          2.          0.77778]\n",
      " [   13.          3.          0.          1.     ]\n",
      " [   15.          0.          0.          0.     ]]\n",
      "[[    0.          2.          0.          1.     ]\n",
      " [    1.        432.       8104.          0.05061]\n",
      " [    2.       3782.      15640.          0.19473]\n",
      " [    3.       1848.       1747.          0.51405]\n",
      " [    4.       6200.       2800.          0.68889]\n",
      " [    5.       3013.        274.          0.91664]\n",
      " [    6.       2719.        299.          0.90093]\n",
      " [    7.       1546.         51.          0.96807]\n",
      " [    8.        797.         17.          0.97912]\n",
      " [    9.        444.         11.          0.97582]\n",
      " [   10.        166.         12.          0.93258]\n",
      " [   11.         51.          2.          0.96226]\n",
      " [   12.         22.          1.          0.95652]\n",
      " [   13.         16.          2.          0.88889]\n",
      " [   15.          2.          0.          1.     ]]\n",
      "[[   0.         2.         0.         1.     ]\n",
      " [   1.        64.      3480.         0.01806]\n",
      " [   2.       582.      6873.         0.07807]\n",
      " [   3.       363.      1489.         0.196  ]\n",
      " [   4.       890.      2590.         0.25575]\n",
      " [   5.       571.      1006.         0.36208]\n",
      " [   6.       471.       692.         0.40499]\n",
      " [   7.       300.       384.         0.4386 ]\n",
      " [   8.       183.       171.         0.51695]\n",
      " [   9.        81.        95.         0.46023]\n",
      " [  10.        10.        10.         0.5    ]\n",
      " [  11.         2.         2.         0.5    ]\n",
      " [  12.         0.         0.         0.     ]\n",
      " [  13.         0.         0.         0.     ]\n",
      " [  15.         0.         0.         0.     ]]\n"
     ]
    }
   ],
   "source": [
    "if __name__ =='__main__':\n",
    "    np_data = np_data_from_data_go_kr_csv('전국횡단보도표준데이터.csv')\n",
    "    print(target1(np_data))\n",
    "    print(target2(np_data))\n",
    "    print(target3(np_data))\n",
    "    print(target4(np_data))\n",
    "    print(target5(np_data))\n",
    "    #print_index_title(np_data)\n",
    "    #print(np_data[:3])"
   ]
  }
 ],
 "metadata": {
  "kernelspec": {
   "display_name": "Python 3 (ipykernel)",
   "language": "python",
   "name": "python3"
  },
  "language_info": {
   "codemirror_mode": {
    "name": "ipython",
    "version": 3
   },
   "file_extension": ".py",
   "mimetype": "text/x-python",
   "name": "python",
   "nbconvert_exporter": "python",
   "pygments_lexer": "ipython3",
   "version": "3.10.5"
  }
 },
 "nbformat": 4,
 "nbformat_minor": 5
}

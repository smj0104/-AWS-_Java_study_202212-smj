{
 "cells": [
  {
   "cell_type": "code",
   "execution_count": null,
   "id": "b19fe8ba",
   "metadata": {},
   "outputs": [],
   "source": [
    "# 확률분포\n",
    "\n",
    "# 동전을 한번 던져 나올수 있는 경우의 확률분포\n",
    "# 앞 1/2,  뒤 1/2\n",
    "\n",
    "# 동전을 두번 던져 나올수 있는 경우의 확률 분포\n",
    "# (앞, 앞), (앞, 뒤), (뒤, 앞), (뒤, 뒤)\n",
    "#   1/4       1/4        1/4      1/4\n",
    "# 앞의 값 1, 뒤의 값 0 일때 값의 합 분포\n",
    "#   2,       1,       0\n",
    "#   1/4     2/4      1/4"
   ]
  },
  {
   "cell_type": "code",
   "execution_count": 1,
   "id": "e2bd0375",
   "metadata": {},
   "outputs": [],
   "source": [
    "import numpy as np\n",
    "import matplotlib.pyplot as plt\n",
    "import math\n",
    "\n",
    "def fact(n):\n",
    "    ret = 1\n",
    "    while n>1:\n",
    "        ret *= n\n",
    "        n -= 1\n",
    "    return ret\n",
    "\n",
    "def fact_r(n):\n",
    "    if n==2:\n",
    "        return n\n",
    "    return fact_r(n-1)*n\n",
    "\n",
    "def perm_f(n, r):\n",
    "    return fact(n)/fact(n-r)\n",
    "\n",
    "def combi_f(n, r):\n",
    "    return fact(n)/(fact(n-r)*fact(r))\n",
    "\n",
    "def count_with_replacement_order(pool, sel_count):  # all\n",
    "    if sel_count == 1:\n",
    "        return len(pool), [[x] for x in pool]\n",
    "    a, b = count_with_replacement_order(pool, sel_count-1)\n",
    "    r = []\n",
    "    for x in pool:\n",
    "        for b_i in b:\n",
    "            r.append(b_i+[x])\n",
    "    return len(r), r    \n",
    "\n",
    "def perm_pool(pool, r):\n",
    "    if r == 1:\n",
    "        return len(pool), [[x] for x in pool]\n",
    "    ret = []\n",
    "    for x in pool:\n",
    "        pool_copy = [y for y in pool]\n",
    "        pool_copy.remove(x)\n",
    "        a, b = perm_pool(pool_copy, r-1)\n",
    "        for b_i in b:\n",
    "            ret.append(b_i+[x])\n",
    "    return len(ret), ret\n",
    "\n",
    "def combi_pool(pool, r):\n",
    "    a , b = perm_pool(pool, r)\n",
    "    r = []\n",
    "    for b_i in b:\n",
    "        r.append(set(b_i))\n",
    "    f = []\n",
    "    for r_i in r:\n",
    "        if r_i not in f:\n",
    "            f.append(r_i)\n",
    "    return len(f), f"
   ]
  },
  {
   "cell_type": "code",
   "execution_count": 9,
   "id": "b44ca460",
   "metadata": {},
   "outputs": [
    {
     "name": "stdout",
     "output_type": "stream",
     "text": [
      "(4, [[1, 1], [0, 1], [1, 0], [0, 0]])\n",
      "[[1 1]\n",
      " [0 1]\n",
      " [1 0]\n",
      " [0 0]]\n",
      "[0 1 2]\n",
      "[0.25 0.5  0.25]\n"
     ]
    },
    {
     "data": {
      "text/plain": [
       "[<matplotlib.lines.Line2D at 0x1631095c310>]"
      ]
     },
     "execution_count": 9,
     "metadata": {},
     "output_type": "execute_result"
    },
    {
     "data": {
      "image/png": "[encoded data removed]",
      "text/plain": [
       "<Figure size 432x288 with 1 Axes>"
      ]
     },
     "metadata": {
      "needs_background": "light"
     },
     "output_type": "display_data"
    }
   ],
   "source": [
    "x = count_with_replacement_order([1,0], 2)\n",
    "print(x)\n",
    "x_array = np.array(x[1])\n",
    "print(x_array)\n",
    "x_array1 = np.sum(x_array, axis=1)\n",
    "x_array2 = np.unique(x_array1, return_counts=True)\n",
    "print(x_array2[0])                    # x\n",
    "print(x_array2[1]/len(x_array1))      # y\n",
    "\n",
    "_, axe = plt.subplots()\n",
    "axe.plot(x_array2[0], x_array2[1]/len(x_array1))"
   ]
  },
  {
   "cell_type": "code",
   "execution_count": 16,
   "id": "6e68aeec",
   "metadata": {},
   "outputs": [
    {
     "name": "stdout",
     "output_type": "stream",
     "text": [
      "(array([ 3,  4,  5,  6,  7,  8,  9, 10, 11, 12, 13, 14, 15, 16, 17, 18]), array([ 1,  3,  6, 10, 15, 21, 25, 27, 27, 25, 21, 15, 10,  6,  3,  1],\n",
      "      dtype=int64))\n"
     ]
    },
    {
     "data": {
      "text/plain": [
       "[<matplotlib.lines.Line2D at 0x163135d9780>]"
      ]
     },
     "execution_count": 16,
     "metadata": {},
     "output_type": "execute_result"
    },
    {
     "data": {
      "image/png": "[encoded data removed]",
      "text/plain": [
       "<Figure size 432x288 with 1 Axes>"
      ]
     },
     "metadata": {
      "needs_background": "light"
     },
     "output_type": "display_data"
    }
   ],
   "source": [
    "# 확률변수[주사위를 3번던져 나온 숫자의 합]의 확률분포\n",
    "tot, counts = count_with_replacement_order([x for x in range(1,7)], 3)\n",
    "#print(tot)\n",
    "#print(counts)\n",
    "counts_np = np.array(counts)\n",
    "pass1 = np.sum(counts_np, axis=1)\n",
    "pass2 = np.unique(pass1, return_counts=True)\n",
    "print(pass2)\n",
    "\n",
    "_, axe = plt.subplots()\n",
    "axe.plot(pass2[0], pass2[1]/tot)"
   ]
  },
  {
   "cell_type": "code",
   "execution_count": 20,
   "id": "e60714f3",
   "metadata": {},
   "outputs": [
    {
     "name": "stdout",
     "output_type": "stream",
     "text": [
      "(array([ 0,  1,  2,  3,  4,  5,  6,  7,  8,  9, 10]), array([  1,  10,  45, 120, 210, 252, 210, 120,  45,  10,   1], dtype=int64))\n"
     ]
    },
    {
     "data": {
      "text/plain": [
       "[<matplotlib.lines.Line2D at 0x1631366f6d0>]"
      ]
     },
     "execution_count": 20,
     "metadata": {},
     "output_type": "execute_result"
    },
    {
     "data": {
      "image/png": "[encoded data removed]",
      "text/plain": [
       "<Figure size 432x288 with 1 Axes>"
      ]
     },
     "metadata": {
      "needs_background": "light"
     },
     "output_type": "display_data"
    }
   ],
   "source": [
    "# 동전을 10번 던져(앞1, 뒤0) 나올수 있는 합의 확률분포\n",
    "tot, counts = count_with_replacement_order([0,1], 10)\n",
    "#print(tot)\n",
    "#print(counts)\n",
    "counts_np = np.array(counts)\n",
    "pass1 = np.sum(counts_np, axis=1)\n",
    "pass2 = np.unique(pass1, return_counts=True)\n",
    "print(pass2)\n",
    "\n",
    "_, axe = plt.subplots()\n",
    "axe.plot(pass2[0], pass2[1]/tot)"
   ]
  },
  {
   "cell_type": "code",
   "execution_count": 25,
   "id": "0e1c8924",
   "metadata": {},
   "outputs": [
    {
     "name": "stdout",
     "output_type": "stream",
     "text": [
      "[  1  10  45 120 210 252 210 120  45  10   1]\n",
      "0.0546875\n"
     ]
    }
   ],
   "source": [
    "# 동전을 던져, 앞면이 나오면 100원을 주고,\n",
    "# 뒷면이 나오면 100원을 받기로 함.\n",
    "\n",
    "# 앞면이 8번 나옴.\n",
    "# 친구: 동전이 조작되지 않음.   <-- 귀무가설\n",
    "# 나: 동전이 아무래도 조작인것 같다.  <-- 대립가설\n",
    "# 유의 수준 5%에서 결정하자.\n",
    "\n",
    "#print(pass2)\n",
    "count2 = pass2[1]\n",
    "print(count2)\n",
    "print(np.sum(count2[-3:])/tot) #<-- p-value\n",
    "\n",
    "# 만약 p-value가 합의한 유의수준 5%보다 클경우,\n",
    "# 발생가능한 일반적인 케이스이므로,\n",
    "# 귀무가설을 수용, \n",
    "# 만약 p-value가 합의한 유의수준 5%보다 작을경우,\n",
    "# 희귀한 케이스에 속하므로\n",
    "# 귀무가설을 기각, 대립가설을 채택."
   ]
  },
  {
   "cell_type": "code",
   "execution_count": null,
   "id": "e59bc7ff",
   "metadata": {},
   "outputs": [],
   "source": [
    "# 주사위를 5번 던졌을때,\n",
    "# - 합이 25가 될 확률\n",
    "# - 합이 25보다 크면, 100원을 받기로 하였다. 합이 25보다 클 확률은? (25 불포함.)"
   ]
  }
 ],
 "metadata": {
  "kernelspec": {
   "display_name": "Python 3 (ipykernel)",
   "language": "python",
   "name": "python3"
  },
  "language_info": {
   "codemirror_mode": {
    "name": "ipython",
    "version": 3
   },
   "file_extension": ".py",
   "mimetype": "text/x-python",
   "name": "python",
   "nbconvert_exporter": "python",
   "pygments_lexer": "ipython3",
   "version": "3.10.5"
  }
 },
 "nbformat": 4,
 "nbformat_minor": 5
}

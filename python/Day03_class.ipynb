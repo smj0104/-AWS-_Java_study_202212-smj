{
 "cells": [
  {
   "cell_type": "code",
   "execution_count": 27,
   "id": "a70ea024",
   "metadata": {},
   "outputs": [
    {
     "name": "stdout",
     "output_type": "stream",
     "text": [
      "<class '__main__.myclass'>\n",
      "0 aaa\n"
     ]
    }
   ],
   "source": [
    "class myclass:\n",
    "    myvar1 =  0\n",
    "    myvar2 = 'abc'\n",
    "    \n",
    "    def __init__(self, a=0, b='aaa'):\n",
    "        self.myvar1 = 0\n",
    "        self.myvar2 = 'aaa'\n",
    "        \n",
    "    def mymethod1(self,n):\n",
    "        print(self.myvar1, self.myvar2)\n",
    "        \n",
    "    def __str__(self):\n",
    "        return'{},{}'.format(self.myvar1, self.myvar2)\n",
    "    \n",
    "a = myclass()\n",
    "print(type(a))\n",
    "\n",
    "a.mymethod1(5)"
   ]
  },
  {
   "cell_type": "code",
   "execution_count": 29,
   "id": "f3518c78",
   "metadata": {},
   "outputs": [
    {
     "name": "stdout",
     "output_type": "stream",
     "text": [
      "0 aaa\n"
     ]
    }
   ],
   "source": [
    "class myclass2(myclass):\n",
    "    pass\n",
    "\n",
    "b= myclass2()\n",
    "b.mymethod1(10)\n",
    "    "
   ]
  }
 ],
 "metadata": {
  "kernelspec": {
   "display_name": "Python 3 (ipykernel)",
   "language": "python",
   "name": "python3"
  },
  "language_info": {
   "codemirror_mode": {
    "name": "ipython",
    "version": 3
   },
   "file_extension": ".py",
   "mimetype": "text/x-python",
   "name": "python",
   "nbconvert_exporter": "python",
   "pygments_lexer": "ipython3",
   "version": "3.10.9"
  }
 },
 "nbformat": 4,
 "nbformat_minor": 5
}

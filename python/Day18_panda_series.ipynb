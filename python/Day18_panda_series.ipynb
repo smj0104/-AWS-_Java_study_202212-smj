{
 "cells": [
  {
   "cell_type": "code",
   "execution_count": 7,
   "id": "657f928f",
   "metadata": {},
   "outputs": [
    {
     "name": "stdout",
     "output_type": "stream",
     "text": [
      "     5.1  3.5  1.4  0.2     Iris-setosa\n",
      "0    4.9  3.0  1.4  0.2     Iris-setosa\n",
      "1    4.7  3.2  1.3  0.2     Iris-setosa\n",
      "2    4.6  3.1  1.5  0.2     Iris-setosa\n",
      "3    5.0  3.6  1.4  0.2     Iris-setosa\n",
      "4    5.4  3.9  1.7  0.4     Iris-setosa\n",
      "..   ...  ...  ...  ...             ...\n",
      "144  6.7  3.0  5.2  2.3  Iris-virginica\n",
      "145  6.3  2.5  5.0  1.9  Iris-virginica\n",
      "146  6.5  3.0  5.2  2.0  Iris-virginica\n",
      "147  6.2  3.4  5.4  2.3  Iris-virginica\n",
      "148  5.9  3.0  5.1  1.8  Iris-virginica\n",
      "\n",
      "[149 rows x 5 columns]\n"
     ]
    }
   ],
   "source": [
    "import numpy as np\n",
    "import pandas as pd\n",
    "import requests\n",
    "\n",
    "iris_data_str = requests.get('https://archive.ics.uci.edu/ml/machine-learning-databases/iris/iris.data')\n",
    "iris_df = pd.read_csv('iris.data', header = None)\n",
    "print(iris_df)\n"
   ]
  },
  {
   "cell_type": "code",
   "execution_count": 9,
   "id": "0aa88fc4",
   "metadata": {},
   "outputs": [
    {
     "name": "stdout",
     "output_type": "stream",
     "text": [
      "0    a\n",
      "1    b\n",
      "2    c\n",
      "3    d\n",
      "4    e\n",
      "dtype: object\n",
      "<class 'pandas.core.frame.DataFrame'> <class 'pandas.core.series.Series'>\n"
     ]
    }
   ],
   "source": [
    "s1 = pd.Series(list('abcde'))\n",
    "print(s1)\n",
    "print(type(iris_df), type(s1))"
   ]
  },
  {
   "cell_type": "code",
   "execution_count": 22,
   "id": "a48eb605",
   "metadata": {},
   "outputs": [
    {
     "name": "stdout",
     "output_type": "stream",
     "text": [
      "3    13\n",
      "7    17\n",
      "9    19\n",
      "dtype: int64\n",
      "6    16\n",
      "7    17\n",
      "8    18\n",
      "9    19\n",
      "dtype: int64\n"
     ]
    }
   ],
   "source": [
    "s2 = pd.Series([1,1.0,'a'])\n",
    "s3 = pd.Series([x for x in range(10, 20)])\n",
    "#print(s2)  #panda의 object타입은 실직적으로 타입이 정해지지않았다는 뜻\n",
    "#print(s3[3])\n",
    "#print(s3[3:8:2])\n",
    "print(s3[[3,7,9]])\n",
    "print(s3[s3>15])"
   ]
  },
  {
   "cell_type": "code",
   "execution_count": 26,
   "id": "65435248",
   "metadata": {},
   "outputs": [
    {
     "name": "stdout",
     "output_type": "stream",
     "text": [
      "1\n",
      "int64\n",
      "(10,)\n",
      "0    10.0\n",
      "1    11.0\n",
      "2    12.0\n",
      "3    13.0\n",
      "4    14.0\n",
      "5    15.0\n",
      "6    16.0\n",
      "7    17.0\n",
      "8    18.0\n",
      "9    19.0\n",
      "dtype: float64\n"
     ]
    }
   ],
   "source": [
    "print(s3.ndim)\n",
    "print(s3.dtype)\n",
    "print(s3.shape)\n",
    "s3_f = s3.astype(np.float64)\n",
    "print(s3_f)"
   ]
  },
  {
   "cell_type": "code",
   "execution_count": 27,
   "id": "7f5113fc",
   "metadata": {},
   "outputs": [
    {
     "name": "stdout",
     "output_type": "stream",
     "text": [
      "[10 11 12 13 14 15 16 17 18 19] <class 'numpy.ndarray'>\n"
     ]
    }
   ],
   "source": [
    "s3_np = s3.to_numpy()\n",
    "print(s3_np, type(s3_np))"
   ]
  },
  {
   "cell_type": "code",
   "execution_count": 28,
   "id": "6077dcdf",
   "metadata": {},
   "outputs": [
    {
     "name": "stdout",
     "output_type": "stream",
     "text": [
      "0    30\n",
      "1    33\n",
      "2    36\n",
      "3    39\n",
      "4    42\n",
      "5    45\n",
      "6    48\n",
      "7    51\n",
      "8    54\n",
      "9    57\n",
      "dtype: int64\n"
     ]
    }
   ],
   "source": [
    "print(s3*3)"
   ]
  },
  {
   "cell_type": "code",
   "execution_count": 36,
   "id": "d594b4a4",
   "metadata": {},
   "outputs": [
    {
     "name": "stdout",
     "output_type": "stream",
     "text": [
      "      a    b  c\n",
      "2  12.0  102  c\n",
      "3  13.0  103  d\n",
      "4  14.0  104  e\n"
     ]
    }
   ],
   "source": [
    "### df\n",
    "\n",
    "s1 = pd.Series([x for x in range(10,20)])\n",
    "s2 = pd.Series([x for x in range(100,120)])\n",
    "s3 = pd.Series(list('abcdefgasdg'))\n",
    "df1 = pd.DataFrame({'a': s1, 'b' : s2, 'c':s3})\n",
    "#print(df1)  # Nan not a number\n",
    "#print(df1['a'])\n",
    "#print(df1[['a','b']])\n",
    "print(df1[2:5])\n"
   ]
  },
  {
   "cell_type": "code",
   "execution_count": 37,
   "id": "56b1349d",
   "metadata": {},
   "outputs": [
    {
     "data": {
      "text/html": [
       "<div>\n",
       "<style scoped>\n",
       "    .dataframe tbody tr th:only-of-type {\n",
       "        vertical-align: middle;\n",
       "    }\n",
       "\n",
       "    .dataframe tbody tr th {\n",
       "        vertical-align: top;\n",
       "    }\n",
       "\n",
       "    .dataframe thead th {\n",
       "        text-align: right;\n",
       "    }\n",
       "</style>\n",
       "<table border=\"1\" class=\"dataframe\">\n",
       "  <thead>\n",
       "    <tr style=\"text-align: right;\">\n",
       "      <th></th>\n",
       "      <th>a</th>\n",
       "      <th>b</th>\n",
       "      <th>c</th>\n",
       "    </tr>\n",
       "  </thead>\n",
       "  <tbody>\n",
       "    <tr>\n",
       "      <th>0</th>\n",
       "      <td>10.0</td>\n",
       "      <td>100</td>\n",
       "      <td>a</td>\n",
       "    </tr>\n",
       "    <tr>\n",
       "      <th>1</th>\n",
       "      <td>11.0</td>\n",
       "      <td>101</td>\n",
       "      <td>b</td>\n",
       "    </tr>\n",
       "    <tr>\n",
       "      <th>2</th>\n",
       "      <td>12.0</td>\n",
       "      <td>102</td>\n",
       "      <td>c</td>\n",
       "    </tr>\n",
       "    <tr>\n",
       "      <th>3</th>\n",
       "      <td>13.0</td>\n",
       "      <td>103</td>\n",
       "      <td>d</td>\n",
       "    </tr>\n",
       "    <tr>\n",
       "      <th>4</th>\n",
       "      <td>14.0</td>\n",
       "      <td>104</td>\n",
       "      <td>e</td>\n",
       "    </tr>\n",
       "  </tbody>\n",
       "</table>\n",
       "</div>"
      ],
      "text/plain": [
       "      a    b  c\n",
       "0  10.0  100  a\n",
       "1  11.0  101  b\n",
       "2  12.0  102  c\n",
       "3  13.0  103  d\n",
       "4  14.0  104  e"
      ]
     },
     "execution_count": 37,
     "metadata": {},
     "output_type": "execute_result"
    }
   ],
   "source": [
    "df1.head()"
   ]
  },
  {
   "cell_type": "code",
   "execution_count": 41,
   "id": "7c9edf2a",
   "metadata": {},
   "outputs": [
    {
     "name": "stdout",
     "output_type": "stream",
     "text": [
      "      a  c\n",
      "3  13.0  d\n",
      "4  14.0  e\n",
      "5  15.0  f\n",
      "6  16.0  g\n",
      "7  17.0  a\n",
      "8  18.0  s\n",
      "9  19.0  d\n"
     ]
    }
   ],
   "source": [
    "#print(df1)\n",
    "#print(df1.loc[3:10, ['a', 'c']])\n",
    "print(df1.iloc[3:10, [0,2]])"
   ]
  }
 ],
 "metadata": {
  "kernelspec": {
   "display_name": "Python 3 (ipykernel)",
   "language": "python",
   "name": "python3"
  },
  "language_info": {
   "codemirror_mode": {
    "name": "ipython",
    "version": 3
   },
   "file_extension": ".py",
   "mimetype": "text/x-python",
   "name": "python",
   "nbconvert_exporter": "python",
   "pygments_lexer": "ipython3",
   "version": "3.10.9"
  }
 },
 "nbformat": 4,
 "nbformat_minor": 5
}

{
 "cells": [
  {
   "cell_type": "code",
   "execution_count": 6,
   "id": "251a4105",
   "metadata": {},
   "outputs": [
    {
     "name": "stdout",
     "output_type": "stream",
     "text": [
      "10.5\n",
      "datatype:list\n"
     ]
    }
   ],
   "source": [
    "#int(), float(), bool(), str() 형변환 (typecasting)  \n",
    "\n",
    "try:\n",
    "    a = [20.5, '10.5']\n",
    "    for i in a:\n",
    "        int(i)\n",
    "except:\n",
    "    print(i)\n",
    "\n",
    "a = [20.5, '10.5']    # datatype 확인법\n",
    "if isinstance(a, type([])):\n",
    "    print('datatype:list')\n",
    "elif isinstance(a, type('')):\n",
    "    print('datatype:str')\n",
    "    \n",
    "#list, tuple, set, dictionary"
   ]
  },
  {
   "cell_type": "code",
   "execution_count": 9,
   "id": "23d6655f",
   "metadata": {},
   "outputs": [
    {
     "name": "stdout",
     "output_type": "stream",
     "text": [
      "{'x': 10, 'y': 20, 'z': 30}\n",
      "10\n",
      "10\n",
      "{'x': 10, 'y': 50, 'z': 30}\n",
      "{'x': 10, 'y': 50, 'z': 30, 'newkey': 1234}\n",
      "dict_keys(['x', 'y', 'z', 'newkey'])\n",
      "dict_values([10, 50, 30, 1234])\n",
      "<built-in method items of dict object at 0x0000019FDB0F7A40>\n",
      "x 10\n",
      "y 50\n",
      "z 30\n",
      "newkey 1234\n"
     ]
    }
   ],
   "source": [
    "#dictionary : key - value 의 페어로 이루어짐\n",
    "dict1 = {'a':1, 'b':2, 'c':3}\n",
    "\n",
    "key_list = list('xyz')\n",
    "value_list = [10,20,30]\n",
    "\n",
    "x = zip(key_list, value_list)  # [('x', 10),('y', 20),('z', 30)]\n",
    "dict2 = dict(x)\n",
    "print(dict2)\n",
    "\n",
    "print(dict2['x'])\n",
    "print(dict2.get('x'))\n",
    "\n",
    "dict2['y'] = 50\n",
    "print(dict2)\n",
    "\n",
    "dict2['newkey'] = 1234\n",
    "print(dict2)\n",
    "\n",
    "klist = dict2.keys()\n",
    "vlist = dict2.values()\n",
    "print(klist)\n",
    "print(vlist)\n",
    "print(dict2.items)\n",
    "      \n",
    "for e in dict2:\n",
    "      print(e, dict2[e])"
   ]
  },
  {
   "cell_type": "code",
   "execution_count": 9,
   "id": "330d2136",
   "metadata": {},
   "outputs": [
    {
     "name": "stdout",
     "output_type": "stream",
     "text": [
      "false\n"
     ]
    }
   ],
   "source": [
    "#if - else:\n",
    "#if - elif: else:\n",
    "\n",
    "if []:\n",
    "    print('True')\n",
    "else:\n",
    "    print('false') #0, 비어있는 문자열 / list"
   ]
  },
  {
   "cell_type": "code",
   "execution_count": 13,
   "id": "71c1252b",
   "metadata": {},
   "outputs": [
    {
     "name": "stdout",
     "output_type": "stream",
     "text": [
      "0 a\n",
      "1 b\n",
      "2 c\n",
      "3 d\n",
      "4 e\n",
      "['a']\n"
     ]
    }
   ],
   "source": [
    "#for - range() / list;  enumerate()\n",
    "lista = list('abcde')\n",
    "for i, c in enumerate(lista):\n",
    "    print(i,c)\n",
    "\n",
    "#while = 조건\n",
    "while len(lista)>1:\n",
    "    lista.remove(lista[-1])\n",
    "print(lista)\n"
   ]
  },
  {
   "cell_type": "code",
   "execution_count": 17,
   "id": "c8841482",
   "metadata": {},
   "outputs": [
    {
     "name": "stdout",
     "output_type": "stream",
     "text": [
      "const\n",
      "-=-=--=-=-=-=-=-=-=-=-\n",
      "myclass2\n",
      "======================\n",
      "dest\n"
     ]
    }
   ],
   "source": [
    "# 함수, 클래스\n",
    "def myfunction1(n):\n",
    "    print('myfunction1', n)\n",
    "    return n*5\n",
    "    \n",
    "class myclass:\n",
    "    def mymethod1(self):  #클래스 정의시에는 self 적어둠\n",
    "        print('mymethod1')\n",
    "        \n",
    "class myclass2(myclass):\n",
    "    def __init__(self):\n",
    "        print('const')\n",
    "        \n",
    "    def __del__(self):\n",
    "        print('dest')\n",
    "        \n",
    "    def __str__(self):\n",
    "        return 'myclass2'\n",
    "x = myclass2()  # __init__ const    __(언더바 두개)는 직접적으로 콜하지않는다\n",
    "print('-=-=--=-=-=-=-=-=-=-=-')\n",
    "print(x)  # __str__\n",
    "print('======================')\n",
    "del x    # __del__dest"
   ]
  },
  {
   "cell_type": "code",
   "execution_count": 30,
   "id": "52cb47d0",
   "metadata": {
    "scrolled": true
   },
   "outputs": [
    {
     "ename": "FileNotFoundError",
     "evalue": "[Errno 2] No such file or directory: 'lott.csv'",
     "output_type": "error",
     "traceback": [
      "\u001b[1;31m---------------------------------------------------------------------------\u001b[0m",
      "\u001b[1;31mFileNotFoundError\u001b[0m                         Traceback (most recent call last)",
      "Cell \u001b[1;32mIn[30], line 2\u001b[0m\n\u001b[0;32m      1\u001b[0m \u001b[38;5;66;03m# file read1\u001b[39;00m\n\u001b[1;32m----> 2\u001b[0m \u001b[38;5;28;01mwith\u001b[39;00m \u001b[38;5;28;43mopen\u001b[39;49m\u001b[43m(\u001b[49m\u001b[38;5;124;43m'\u001b[39;49m\u001b[38;5;124;43mlott.csv\u001b[39;49m\u001b[38;5;124;43m'\u001b[39;49m\u001b[43m)\u001b[49m \u001b[38;5;28;01mas\u001b[39;00m f:\n\u001b[0;32m      3\u001b[0m     \u001b[38;5;28;01mfor\u001b[39;00m line \u001b[38;5;129;01min\u001b[39;00m f:\n\u001b[0;32m      4\u001b[0m         \u001b[38;5;28;01mpass\u001b[39;00m\n",
      "File \u001b[1;32m~\\AppData\\Local\\Programs\\Python\\Python310\\lib\\site-packages\\IPython\\core\\interactiveshell.py:282\u001b[0m, in \u001b[0;36m_modified_open\u001b[1;34m(file, *args, **kwargs)\u001b[0m\n\u001b[0;32m    275\u001b[0m \u001b[38;5;28;01mif\u001b[39;00m file \u001b[38;5;129;01min\u001b[39;00m {\u001b[38;5;241m0\u001b[39m, \u001b[38;5;241m1\u001b[39m, \u001b[38;5;241m2\u001b[39m}:\n\u001b[0;32m    276\u001b[0m     \u001b[38;5;28;01mraise\u001b[39;00m \u001b[38;5;167;01mValueError\u001b[39;00m(\n\u001b[0;32m    277\u001b[0m         \u001b[38;5;124mf\u001b[39m\u001b[38;5;124m\"\u001b[39m\u001b[38;5;124mIPython won\u001b[39m\u001b[38;5;124m'\u001b[39m\u001b[38;5;124mt let you open fd=\u001b[39m\u001b[38;5;132;01m{\u001b[39;00mfile\u001b[38;5;132;01m}\u001b[39;00m\u001b[38;5;124m by default \u001b[39m\u001b[38;5;124m\"\u001b[39m\n\u001b[0;32m    278\u001b[0m         \u001b[38;5;124m\"\u001b[39m\u001b[38;5;124mas it is likely to crash IPython. If you know what you are doing, \u001b[39m\u001b[38;5;124m\"\u001b[39m\n\u001b[0;32m    279\u001b[0m         \u001b[38;5;124m\"\u001b[39m\u001b[38;5;124myou can use builtins\u001b[39m\u001b[38;5;124m'\u001b[39m\u001b[38;5;124m open.\u001b[39m\u001b[38;5;124m\"\u001b[39m\n\u001b[0;32m    280\u001b[0m     )\n\u001b[1;32m--> 282\u001b[0m \u001b[38;5;28;01mreturn\u001b[39;00m io_open(file, \u001b[38;5;241m*\u001b[39margs, \u001b[38;5;241m*\u001b[39m\u001b[38;5;241m*\u001b[39mkwargs)\n",
      "\u001b[1;31mFileNotFoundError\u001b[0m: [Errno 2] No such file or directory: 'lott.csv'"
     ]
    }
   ],
   "source": [
    "# file read1\n",
    "with open('lott.csv') as f:\n",
    "    for line in f:\n",
    "        pass\n",
    "        #print(line)\n",
    "        \n",
    "# file write\n",
    "with open('test.txt', 'w') as f:   # 'w'; mode : 'w'rite / 'r'ead\n",
    "    for i in range(3,10):          # 'wb' ; write binary\n",
    "        f.write('test string {}|n'.format(i))"
   ]
  },
  {
   "cell_type": "code",
   "execution_count": 34,
   "id": "e94a0e94",
   "metadata": {},
   "outputs": [
    {
     "name": "stdout",
     "output_type": "stream",
     "text": [
      "['a', 'b', 'c', 'd']\n"
     ]
    }
   ],
   "source": [
    "import pickle\n",
    "\n",
    "lista = list('abcd')\n",
    "\n",
    "#write\n",
    "with open('pickle_test.pickle' , 'wb') as f:\n",
    "    pickle.dump(lista, f)\n",
    "    \n",
    "#read\n",
    "with open('pickle_test.pickle', 'rb') as f:\n",
    "    listb = pickle.load(f)\n",
    "print(listb)"
   ]
  },
  {
   "cell_type": "code",
   "execution_count": null,
   "id": "1ff53a13",
   "metadata": {},
   "outputs": [],
   "source": []
  }
 ],
 "metadata": {
  "kernelspec": {
   "display_name": "Python 3 (ipykernel)",
   "language": "python",
   "name": "python3"
  },
  "language_info": {
   "codemirror_mode": {
    "name": "ipython",
    "version": 3
   },
   "file_extension": ".py",
   "mimetype": "text/x-python",
   "name": "python",
   "nbconvert_exporter": "python",
   "pygments_lexer": "ipython3",
   "version": "3.10.9"
  }
 },
 "nbformat": 4,
 "nbformat_minor": 5
}

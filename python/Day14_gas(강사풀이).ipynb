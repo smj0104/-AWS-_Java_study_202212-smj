{
 "cells": [
  {
   "cell_type": "markdown",
   "id": "9da33a8b",
   "metadata": {},
   "source": [
    "kosis 부산광역시 가스 사용량 2010-2020\n",
    "\n",
    "- 년도별 도시가스/프로판 판매량 비율\n",
    "    프로판 가스보다 도시가스 사용량이 점점 늘어나는가\n",
    "\n",
    "- 년도별 도시가스, 년도별 프로판 사용량 상관도\n",
    "    도시가스 사용량이 점점 많아지고 있는가\n",
    "    프로판 가스 사용량은 점점 줄어들고 있는가.\n",
    "\n",
    "- 도시가스\n",
    "\t년도별 겨울(10,11,12,1,2,3) 평균사용량 / \n",
    "\t\t비겨울(4,5,6,7,8,9) 평균사용량\n",
    "\t-->  ttest (평균 사용량에 차이가 있는가.)\n",
    "\n",
    "   같은 분석을, 프로판/부탄 가스를 대상으로도 실행.\n"
   ]
  },
  {
   "cell_type": "code",
   "execution_count": 6,
   "id": "9ea93ef4",
   "metadata": {},
   "outputs": [
    {
     "name": "stdout",
     "output_type": "stream",
     "text": [
      "{8}\n",
      "[[     1 179086    311   8775     64  26227]\n",
      " [     1 139496    311   8745     64  23518]\n",
      " [     1 143581    311   8092     64  23959]]\n"
     ]
    }
   ],
   "source": [
    "import numpy as np\n",
    "import matplotlib.pyplot as plt\n",
    "from scipy import stats\n",
    "\n",
    "np.set_printoptions(precision=5, suppress=True)\n",
    "\n",
    "raw_data=[]\n",
    "with open('가스공급량_20230217170918.csv') as f:\n",
    "    for line in f:\n",
    "        raw_data.append(line[:-1].split(','))\n",
    "\n",
    "t = set()\n",
    "for e in raw_data:\n",
    "    t.add(len(e))\n",
    "print(t)\n",
    "\n",
    "np_data = np.array(raw_data[2:])\n",
    "np_data = np_data[:, 2:].astype(np.int64)\n",
    "print(np_data[:3])"
   ]
  },
  {
   "cell_type": "code",
   "execution_count": 21,
   "id": "8408cc74",
   "metadata": {},
   "outputs": [
    {
     "name": "stdout",
     "output_type": "stream",
     "text": [
      "[[     12 1275714    3732   91657     768  289391]\n",
      " [     12 1297954    3492  107350     804  282017]\n",
      " [     12 1359726    3358  104294     852  268913]]\n"
     ]
    },
    {
     "data": {
      "text/plain": [
       "[<matplotlib.lines.Line2D at 0x2042d4a6050>]"
      ]
     },
     "execution_count": 21,
     "metadata": {},
     "output_type": "execute_result"
    },
    {
     "data": {
      "image/png": "[encoded data removed]",
      "text/plain": [
       "<Figure size 432x288 with 1 Axes>"
      ]
     },
     "metadata": {
      "needs_background": "light"
     },
     "output_type": "display_data"
    }
   ],
   "source": [
    "#print(np_data.shape)\n",
    "#print(np.arange(0,130,12))\n",
    "by_year = np.add.reduceat(np_data, np.arange(0,130,12))\n",
    "print(by_year[:3])\n",
    "\n",
    "total_gas = by_year[:,1] + by_year[:,3]\n",
    "ln_gas = by_year[:,1]/total_gas\n",
    "lp_gas = by_year[:,3]/total_gas\n",
    "\n",
    "_, axe = plt.subplots()\n",
    "axe.plot(np.arange(2010, 2021), by_year[:,1])   # 년도별 도시가스 총 사용량\n",
    "#axe.plot(np.arange(2010, 2021), by_year[:,3])   # 년도별 프로판가스 총 사용량\n",
    "#xe.plot(np.arange(2010, 2021), by_year[:,1]/12) # 년도별 도시가스 평균 사용량\n",
    "\n",
    "# 년도별 도시가스+프로판 사용량 대비, 도시가스 사용량 비율\n",
    "#axe.plot(np.arange(2010, 2021), ln_gas)         \n",
    "\n",
    "#axe.plot(np.arange(2010, 2021), lp_gas)"
   ]
  },
  {
   "cell_type": "code",
   "execution_count": 23,
   "id": "fb251ade",
   "metadata": {},
   "outputs": [
    {
     "name": "stdout",
     "output_type": "stream",
     "text": [
      "[[1.      0.53495]\n",
      " [0.53495 1.     ]]\n"
     ]
    },
    {
     "data": {
      "text/plain": [
       "<matplotlib.collections.PathCollection at 0x2042d187d90>"
      ]
     },
     "execution_count": 23,
     "metadata": {},
     "output_type": "execute_result"
    },
    {
     "data": {
      "image/png": "[encoded data removed]",
      "text/plain": [
       "<Figure size 432x288 with 1 Axes>"
      ]
     },
     "metadata": {
      "needs_background": "light"
     },
     "output_type": "display_data"
    }
   ],
   "source": [
    "print(np.corrcoef(by_year[:,1], by_year[:,3]))\n",
    "_, axe = plt.subplots()\n",
    "axe.scatter(by_year[:,1], by_year[:,3])"
   ]
  },
  {
   "cell_type": "code",
   "execution_count": 28,
   "id": "225a2e2c",
   "metadata": {},
   "outputs": [
    {
     "name": "stdout",
     "output_type": "stream",
     "text": [
      "[[     6 461211   1866  41722    384 142333]\n",
      " [     6 843029   1806  59549    393 146533]\n",
      " [     6 462670   1746  53486    402 140882]]\n",
      "*****\n",
      "[[     6 461211   1866  41722    384 142333]\n",
      " [     6 462670   1746  53486    402 140882]]\n",
      "*****\n",
      "[[     6 843029   1806  59549    393 146533]\n",
      " [     6 840697   1711  53252    414 140133]]\n"
     ]
    }
   ],
   "source": [
    "#print(np_data[:10])\n",
    "by_season = np.add.reduceat(np_data[3:], np.arange(0, 130, 6))\n",
    "print(by_season[:3])\n",
    "\n",
    "print('*****')\n",
    "summers_sum = by_season[::2]\n",
    "print(summers_sum[:2])\n",
    "\n",
    "\n",
    "print('*****')\n",
    "winters_sum = by_season[1::2]\n",
    "print(winters_sum[:2])"
   ]
  },
  {
   "cell_type": "code",
   "execution_count": 31,
   "id": "516df0a9",
   "metadata": {},
   "outputs": [
    {
     "name": "stdout",
     "output_type": "stream",
     "text": [
      "[     6 461211   1866  41722    384 142333]\n",
      "[[     1 114671    311   8105     64  22909]\n",
      " [     1  79649    311   7787     64  23615]\n",
      " [     1  70646    311   7137     64  22361]\n",
      " [     1  68554    311   5928     64  24491]\n",
      " [     1  65293    311   6023     64  25393]\n",
      " [     1  62398    311   6742     64  23564]]\n",
      "[     6 843029   1806  59549    393 146533]\n",
      "[[     1  77985    311   6366     64  23173]\n",
      " [     1 113800    311   8560     64  23772]\n",
      " [     1 160555    311   9397     64  26409]\n",
      " [     1 200683    291  12137     67  25458]\n",
      " [     1 144076    291  10072     67  22023]\n",
      " [     1 145930    291  13017     67  25698]]\n"
     ]
    }
   ],
   "source": [
    "#2010년 여름 평균 사용량\n",
    "print(summers_sum[0])\n",
    "print(np_data[3:9])\n",
    "\n",
    "#2010-2011년 겨울 평균 사용량\n",
    "print(winters_sum[0])\n",
    "print(np_data[9:15])"
   ]
  },
  {
   "cell_type": "code",
   "execution_count": null,
   "id": "57fb6fc2",
   "metadata": {},
   "outputs": [],
   "source": []
  }
 ],
 "metadata": {
  "kernelspec": {
   "display_name": "Python 3 (ipykernel)",
   "language": "python",
   "name": "python3"
  },
  "language_info": {
   "codemirror_mode": {
    "name": "ipython",
    "version": 3
   },
   "file_extension": ".py",
   "mimetype": "text/x-python",
   "name": "python",
   "nbconvert_exporter": "python",
   "pygments_lexer": "ipython3",
   "version": "3.10.5"
  }
 },
 "nbformat": 4,
 "nbformat_minor": 5
}

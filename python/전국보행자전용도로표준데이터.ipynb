{
 "cells": [
  {
   "cell_type": "code",
   "execution_count": null,
   "id": "d22d4975",
   "metadata": {},
   "outputs": [],
   "source": [
    "def split_len(data_list):\n",
    "    len_list=[]\n",
    "    for e in data_list:\n",
    "        len_list.append(len(e))\n",
    "    print(set(len_list))\n",
    "    if len(set(len_list))>1:\n",
    "        for i in set(len_list):\n",
    "            print(i, len_list.count(i))"
   ]
  },
  {
   "cell_type": "code",
   "execution_count": 20,
   "id": "475170ae",
   "metadata": {},
   "outputs": [
    {
     "name": "stdout",
     "output_type": "stream",
     "text": [
      "[['보행자전용도로명,시도명,시군구명,법정동명,지정일자,운영방식구분,평일운영시작시각,평일운영종료시각,주말운영시작시각,주말운영종료시각,보행자전용도로시작점위도,보행자전용도로시작점경도,보행자전용도로종료점위도,보행자전용도로종료점경도,자전거보행자겸용도로구분,보행자전용도로폭,보차분리여부,지정목적,관리점검일자,관리점검결과,유지보수내용,영상정보기처리기기설치개수,보안등설치개수,횡단보도설치개수,방호울타리설치개수,차량진입억제용말뚝설치개수,속도저감시설설치개수,교통표지판설치개수,이정표설치개수,점자블럭설치개수,관리기관명,관리기관전화번호,데이터기준일자,제공기관코드,제공기관명\\n'], ['소로3-안영13호선,대전광역시,중구,안영동,1998-09-08,전일제,00:00,23:59,00:00,23:59,36.2819047,127.378031,36.2819047,127.378031,전용,4,Y,보행환경개선,2022-04-01,합격,,,,,,,,,,,대전광역시', '중구청,042-606-6828,2022-08-01,3650000,대전광역시', '중구\\n'], ['소로3-안영14호선,대전광역시,중구,안영동,1998-02-28,전일제,00:00,23:59,00:00,23:59,36.2887373,127.380335,36.2890476,127.381961,전용,4,Y,보행환경개선,2022-04-01,합격,,,,,,,,,,,대전광역시', '중구청,042-606-6828,2022-08-01,3650000,대전광역시', '중구\\n']]\n"
     ]
    }
   ],
   "source": [
    "#보행자전용도로폭 : 평균\n",
    "csv_data = []\n",
    "with open('전국보행자전용도로표준데이터.csv') as a:\n",
    "    for line in a:\n",
    "        #csv_data.append(line.split(' '))\n",
    "        csv_data.append(my_split(line))\n",
    "print(csv_data[:3])\n",
    "split_ten(scv_data)\n",
    "        "
   ]
  },
  {
   "cell_type": "code",
   "execution_count": 21,
   "id": "b051155c",
   "metadata": {},
   "outputs": [
    {
     "ename": "SyntaxError",
     "evalue": "invalid syntax. Perhaps you forgot a comma? (2727320776.py, line 5)",
     "output_type": "error",
     "traceback": [
      "\u001b[1;36m  Cell \u001b[1;32mIn[21], line 5\u001b[1;36m\u001b[0m\n\u001b[1;33m    road_list.append(address_list[])\u001b[0m\n\u001b[1;37m                     ^\u001b[0m\n\u001b[1;31mSyntaxError\u001b[0m\u001b[1;31m:\u001b[0m invalid syntax. Perhaps you forgot a comma?\n"
     ]
    }
   ],
   "source": [
    "road_list = []\n",
    "for i in data_list:\n",
    "    address = i[2]\n",
    "    address_list = address.split()\n",
    "    road_list.append(address_list[])"
   ]
  },
  {
   "cell_type": "code",
   "execution_count": 24,
   "id": "df40fe47",
   "metadata": {},
   "outputs": [
    {
     "ename": "IndentationError",
     "evalue": "expected an indented block after function definition on line 11 (3822752113.py, line 13)",
     "output_type": "error",
     "traceback": [
      "\u001b[1;36m  Cell \u001b[1;32mIn[24], line 13\u001b[1;36m\u001b[0m\n\u001b[1;33m    split_len(csv_data)\u001b[0m\n\u001b[1;37m    ^\u001b[0m\n\u001b[1;31mIndentationError\u001b[0m\u001b[1;31m:\u001b[0m expected an indented block after function definition on line 11\n"
     ]
    }
   ],
   "source": [
    "#답안\n",
    "def split_len(data_list):\n",
    "    len_list=[]\n",
    "    for e in data_list:\n",
    "        len_list.append(len(e))\n",
    "    print(set(len_list))\n",
    "    if len(set(len_list))>1:\n",
    "        for i in set(len_list):\n",
    "            print(i, len_list.count(i))\n",
    "            \n",
    "def mean(number_list):\n",
    "    return sum(number_list)/len(number_list)\n",
    "    "
   ]
  },
  {
   "cell_type": "code",
   "execution_count": 28,
   "id": "a2febbed",
   "metadata": {},
   "outputs": [
    {
     "ename": "SyntaxError",
     "evalue": "'(' was never closed (255968314.py, line 6)",
     "output_type": "error",
     "traceback": [
      "\u001b[1;36m  Cell \u001b[1;32mIn[28], line 6\u001b[1;36m\u001b[0m\n\u001b[1;33m    width_list.append(float(e[i])\u001b[0m\n\u001b[1;37m                     ^\u001b[0m\n\u001b[1;31mSyntaxError\u001b[0m\u001b[1;31m:\u001b[0m '(' was never closed\n"
     ]
    }
   ],
   "source": [
    "csv_data[0].index('보행자전용도로폭')\n",
    "print(i)\n",
    "\n",
    "width_list=[]\n",
    "for e in csv_data[1:]:\n",
    "    width_list.append(float(e[i]))\n",
    "    \n",
    "print(width_list[:3])"
   ]
  },
  {
   "cell_type": "code",
   "execution_count": 25,
   "id": "990b1e93",
   "metadata": {},
   "outputs": [
    {
     "ename": "NameError",
     "evalue": "name 'width_list' is not defined",
     "output_type": "error",
     "traceback": [
      "\u001b[1;31m---------------------------------------------------------------------------\u001b[0m",
      "\u001b[1;31mNameError\u001b[0m                                 Traceback (most recent call last)",
      "Cell \u001b[1;32mIn[25], line 1\u001b[0m\n\u001b[1;32m----> 1\u001b[0m \u001b[38;5;28mprint\u001b[39m(\u001b[43mwidth_list\u001b[49m\u001b[38;5;241m.\u001b[39mcount(\u001b[38;5;241m0\u001b[39m))\n\u001b[0;32m      2\u001b[0m mean(width_list)\n",
      "\u001b[1;31mNameError\u001b[0m: name 'width_list' is not defined"
     ]
    }
   ],
   "source": [
    "print(width_list.count(0))\n",
    "mean(width_list)"
   ]
  }
 ],
 "metadata": {
  "kernelspec": {
   "display_name": "Python 3 (ipykernel)",
   "language": "python",
   "name": "python3"
  },
  "language_info": {
   "codemirror_mode": {
    "name": "ipython",
    "version": 3
   },
   "file_extension": ".py",
   "mimetype": "text/x-python",
   "name": "python",
   "nbconvert_exporter": "python",
   "pygments_lexer": "ipython3",
   "version": "3.10.9"
  }
 },
 "nbformat": 4,
 "nbformat_minor": 5
}

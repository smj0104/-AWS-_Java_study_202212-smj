{
 "cells": [
  {
   "cell_type": "code",
   "execution_count": 2,
   "id": "ed970784",
   "metadata": {},
   "outputs": [
    {
     "name": "stdout",
     "output_type": "stream",
     "text": [
      "[1, 6, 5, 2, 4, 3]\n"
     ]
    }
   ],
   "source": [
    "import random\n",
    "\n",
    "lista = [1,2,3,4,5,6]\n",
    "random.shuffle(lista)\n",
    "print(lista)"
   ]
  },
  {
   "cell_type": "code",
   "execution_count": 3,
   "id": "bf148638",
   "metadata": {},
   "outputs": [
    {
     "name": "stdout",
     "output_type": "stream",
     "text": [
      "['Ace', '2', '3', '4', '5', '6', '7', '8', '9', '10', 'Jack', 'Queen', 'King']\n"
     ]
    }
   ],
   "source": [
    "suits=['clover','diamond','heart','spade']\n",
    "#rank = ['ace', '2'...'10', 'jack','queen', 'king']\n",
    "\n",
    "rank =[str(i) for i in range(2,11)]\n",
    "rank = ['Ace'] + rank + ['Jack', 'Queen', 'King']\n",
    "print(rank)"
   ]
  },
  {
   "cell_type": "code",
   "execution_count": 9,
   "id": "966a6886",
   "metadata": {},
   "outputs": [
    {
     "name": "stdout",
     "output_type": "stream",
     "text": [
      "{'clover-Ace': 1, 'clover-2': 2, 'clover-3': 3, 'clover-4': 4, 'clover-5': 5, 'clover-6': 6, 'clover-7': 7, 'clover-8': 8, 'clover-9': 9, 'clover-10': 10, 'clover-Jack': 10, 'clover-Queen': 10, 'clover-King': 10, 'diamond-Ace': 1, 'diamond-2': 2, 'diamond-3': 3, 'diamond-4': 4, 'diamond-5': 5, 'diamond-6': 6, 'diamond-7': 7, 'diamond-8': 8, 'diamond-9': 9, 'diamond-10': 10, 'diamond-Jack': 10, 'diamond-Queen': 10, 'diamond-King': 10, 'heart-Ace': 1, 'heart-2': 2, 'heart-3': 3, 'heart-4': 4, 'heart-5': 5, 'heart-6': 6, 'heart-7': 7, 'heart-8': 8, 'heart-9': 9, 'heart-10': 10, 'heart-Jack': 10, 'heart-Queen': 10, 'heart-King': 10, 'spade-Ace': 1, 'spade-2': 2, 'spade-3': 3, 'spade-4': 4, 'spade-5': 5, 'spade-6': 6, 'spade-7': 7, 'spade-8': 8, 'spade-9': 9, 'spade-10': 10, 'spade-Jack': 10, 'spade-Queen': 10, 'spade-King': 10}\n",
      "[1, 2, 3, 4, 5, 6, 7, 8, 9, 10, 10, 10, 10, 1, 2, 3, 4, 5, 6, 7, 8, 9, 10, 10, 10, 10, 1, 2, 3, 4, 5, 6, 7, 8, 9, 10, 10, 10, 10, 1, 2, 3, 4, 5, 6, 7, 8, 9, 10, 10, 10, 10]\n"
     ]
    },
    {
     "data": {
      "text/plain": [
       "'diamond-Jack'"
      ]
     },
     "execution_count": 9,
     "metadata": {},
     "output_type": "execute_result"
    }
   ],
   "source": [
    "Deck = []   # 'Clover_Ace', \"Clover_2\"\n",
    "\n",
    "for i in suits:\n",
    "    for r in rank:\n",
    "        Deck.append(i+'-'+r)\n",
    "        \n",
    "score_list = [i + 1 for i in range(10)]\n",
    "score_list = score_list + [10]*3\n",
    "score_list = score_list*4\n",
    "score_dict = dict(zip(Deck, score_list))\n",
    "print(score_dict)\n",
    "#print(i+r)\n",
    "#print(Deck)\n",
    "print(score_list)\n",
    "\n",
    "def score_hand(hand):\n",
    "    score = 0\n",
    "    for h in hand:\n",
    "        score = score + score_dict[card]\n",
    "    return score\n",
    "\n",
    "random.shuffle(Deck) #섞기\n",
    "#print(Deck)\n",
    "Deck.pop()"
   ]
  },
  {
   "cell_type": "code",
   "execution_count": 5,
   "id": "4b7b9486",
   "metadata": {},
   "outputs": [
    {
     "name": "stdout",
     "output_type": "stream",
     "text": [
      "Game Start\n",
      "\n",
      "Dealer Hands\n",
      "heart-Queen\n",
      "diamond-3\n",
      "\n",
      "\n",
      "Player Hands\n",
      "heart-9\n",
      "clover-3\n"
     ]
    }
   ],
   "source": [
    "print('Game Start\\n')\n",
    "random.shuffle(Deck)\n",
    "print('Dealer Hands')\n",
    "for i in range(2):\n",
    "    print(Deck.pop())\n",
    "    \n",
    "print('\\n\\nPlayer Hands')\n",
    "for i in range(2):\n",
    "    print(Deck.pop())\n",
    "\n",
    "#def score_hand(hands):\n",
    "    #pass\n",
    "    "
   ]
  },
  {
   "cell_type": "code",
   "execution_count": 6,
   "id": "1c23db72",
   "metadata": {},
   "outputs": [
    {
     "name": "stdout",
     "output_type": "stream",
     "text": [
      "Game Start\n",
      "\n",
      "Dealer Hands\n"
     ]
    },
    {
     "ename": "NameError",
     "evalue": "name 'card' is not defined",
     "output_type": "error",
     "traceback": [
      "\u001b[1;31m---------------------------------------------------------------------------\u001b[0m",
      "\u001b[1;31mNameError\u001b[0m                                 Traceback (most recent call last)",
      "Cell \u001b[1;32mIn[6], line 5\u001b[0m\n\u001b[0;32m      3\u001b[0m \u001b[38;5;28mprint\u001b[39m(\u001b[38;5;124m'\u001b[39m\u001b[38;5;124mDealer Hands\u001b[39m\u001b[38;5;124m'\u001b[39m)\n\u001b[0;32m      4\u001b[0m dealer_hand \u001b[38;5;241m=\u001b[39m [Deck\u001b[38;5;241m.\u001b[39mpop() \u001b[38;5;28;01mfor\u001b[39;00m _ \u001b[38;5;129;01min\u001b[39;00m \u001b[38;5;28mrange\u001b[39m(\u001b[38;5;241m2\u001b[39m)]\n\u001b[1;32m----> 5\u001b[0m \u001b[38;5;28mprint\u001b[39m(dealer_hand, \u001b[43mscore_hand\u001b[49m\u001b[43m(\u001b[49m\u001b[43mdealer_hand\u001b[49m\u001b[43m)\u001b[49m)\n\u001b[0;32m      7\u001b[0m \u001b[38;5;28mprint\u001b[39m(\u001b[38;5;124m'\u001b[39m\u001b[38;5;130;01m\\n\u001b[39;00m\u001b[38;5;124mPlayer Hands\u001b[39m\u001b[38;5;124m'\u001b[39m)\n\u001b[0;32m      8\u001b[0m player_hand \u001b[38;5;241m=\u001b[39m [Deck\u001b[38;5;241m.\u001b[39mpop() \u001b[38;5;28;01mfor\u001b[39;00m _ \u001b[38;5;129;01min\u001b[39;00m \u001b[38;5;28mrange\u001b[39m(\u001b[38;5;241m2\u001b[39m)]\n",
      "Cell \u001b[1;32mIn[4], line 19\u001b[0m, in \u001b[0;36mscore_hand\u001b[1;34m(hand)\u001b[0m\n\u001b[0;32m     17\u001b[0m score \u001b[38;5;241m=\u001b[39m \u001b[38;5;241m0\u001b[39m\n\u001b[0;32m     18\u001b[0m \u001b[38;5;28;01mfor\u001b[39;00m h \u001b[38;5;129;01min\u001b[39;00m hand:\n\u001b[1;32m---> 19\u001b[0m     score \u001b[38;5;241m=\u001b[39m score \u001b[38;5;241m+\u001b[39m score_dict[\u001b[43mcard\u001b[49m]\n\u001b[0;32m     20\u001b[0m \u001b[38;5;28;01mreturn\u001b[39;00m score\n",
      "\u001b[1;31mNameError\u001b[0m: name 'card' is not defined"
     ]
    }
   ],
   "source": [
    "print('Game Start\\n')\n",
    "random.shuffle(Deck)\n",
    "print('Dealer Hands')\n",
    "dealer_hand = [Deck.pop() for _ in range(2)]\n",
    "print(dealer_hand, score_hand(dealer_hand))\n",
    "\n",
    "print('\\nPlayer Hands')\n",
    "player_hand = [Deck.pop() for _ in range(2)]\n",
    "print(player_hand, score_hand(player_hand))\n",
    "\n",
    "if score_hand(player_hand) < 21:\n",
    "    ans = int(input('Deal(1) or Stop(0):'))\n",
    "    if ans == 1:\n",
    "        player_hand.append(deck.pop())\n",
    "        print(score_hand(player_hand))\n",
    "        \n",
    "#승부 표시\n",
    "print(dealer_score, player_score)\n",
    "    if(dealer_score)\n"
   ]
  }
 ],
 "metadata": {
  "kernelspec": {
   "display_name": "Python 3 (ipykernel)",
   "language": "python",
   "name": "python3"
  },
  "language_info": {
   "codemirror_mode": {
    "name": "ipython",
    "version": 3
   },
   "file_extension": ".py",
   "mimetype": "text/x-python",
   "name": "python",
   "nbconvert_exporter": "python",
   "pygments_lexer": "ipython3",
   "version": "3.10.9"
  }
 },
 "nbformat": 4,
 "nbformat_minor": 5
}

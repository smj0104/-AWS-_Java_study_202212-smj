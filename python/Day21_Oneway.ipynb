{
 "cells": [
  {
   "cell_type": "code",
   "execution_count": 2,
   "id": "f5140908",
   "metadata": {},
   "outputs": [],
   "source": [
    "import numpy as np\n",
    "import pandas as pd\n",
    "import matplotlib.pyplot as plt\n",
    "\n",
    "pd_raw = pd.read_csv('전국일방통행도로표준데이터.csv', encoding = 'cp949')\n",
    "\n",
    "col_selection = ['시도명', '지정사유', '지정연도', '도로폭', '도로차로수', '보차분리여부']\n",
    "pd_data = pd_raw[col_selection]"
   ]
  },
  {
   "cell_type": "code",
   "execution_count": 3,
   "id": "e9876837",
   "metadata": {},
   "outputs": [
    {
     "name": "stdout",
     "output_type": "stream",
     "text": [
      "시도명 \t False\n",
      "지정사유 \t True\n",
      "지정연도 \t True\n",
      "도로폭 \t False\n",
      "도로차로수 \t True\n",
      "보차분리여부 \t False\n"
     ]
    }
   ],
   "source": [
    "for e in pd_data:\n",
    "    print(e, '\\t', pd_data[e].hasnans)"
   ]
  },
  {
   "cell_type": "code",
   "execution_count": 4,
   "id": "57292010",
   "metadata": {},
   "outputs": [
    {
     "name": "stdout",
     "output_type": "stream",
     "text": [
      "['경기도' '경상북도' '제주특별자치도' '인천광역시' '강원도' '경상남도' '서울특별시' '충청남도' '전라남도' '전라북도'\n",
      " '광주광역시' '충청북도' '10']\n"
     ]
    }
   ],
   "source": [
    "# 시도명\n",
    "print(pd_data['시도명'].unique())\n",
    "\n",
    "# 결측치 : 없음\n",
    "\n",
    "# 오류치 : 10\n",
    "#print(pd_raw[pd_raw['시도명']=='10'])\n",
    "filter1 = pd_raw['시도명']=='10'\n",
    "#pd_data[filter1]['시도명'] = '강원도'  # warning\n",
    "pd_data.loc[filter1, '시도명'] = '강원도' #되도록이면 이쪽을 사용할것\n",
    "\n",
    "# 이상치 : 없음\n"
   ]
  },
  {
   "cell_type": "code",
   "execution_count": 5,
   "id": "accd0d4b",
   "metadata": {
    "scrolled": true
   },
   "outputs": [
    {
     "name": "stdout",
     "output_type": "stream",
     "text": [
      "[nan '통행원활' '교통불편 해소' '원활한 차량통행을 위하여 지정' '보행안전' '통행안전' '원활한교통통행'\n",
      " '차량소통 촉진 및 보행자 안전' '보행자안전확보' '주민건의' '교행불가' '교통소통' '원활한 교통흐름 및 보행 안전'\n",
      " '주차혼잡구간' '본도로 진입불가' '시장혼잡구간' '주택밀집지역' '고가도로' '교통사고 다발' '원통전통시장주차장 출입구'\n",
      " '교통안전' '교통흐름을 원활히 하기 위함' '부채도로' '주민편의' '순환차로' '교통혼잡 및 소통 원활 필요' '도로협소'\n",
      " '혼잡지역' '혼자지역' '혼잡구역' '혼잡비역' '차량교행']\n",
      "True\n",
      "True     1567\n",
      "False     592\n",
      "Name: 지정사유, dtype: int64\n"
     ]
    },
    {
     "name": "stderr",
     "output_type": "stream",
     "text": [
      "C:\\Users\\ITPS\\AppData\\Local\\Temp\\ipykernel_6472\\2009659817.py:24: SettingWithCopyWarning: \n",
      "A value is trying to be set on a copy of a slice from a DataFrame.\n",
      "Try using .loc[row_indexer,col_indexer] = value instead\n",
      "\n",
      "See the caveats in the documentation: https://pandas.pydata.org/pandas-docs/stable/user_guide/indexing.html#returning-a-view-versus-a-copy\n",
      "  pd_data.loc[:, '지정사유'] = pd_data.loc[:, '지정사유'].apply(e1)\n"
     ]
    }
   ],
   "source": [
    "# 지정사유\n",
    "print(pd_data['지정사유'].unique())\n",
    "print(pd_data['지정사유'].hasnans)\n",
    "\n",
    "# 결측치\n",
    "na_filter = pd_data['지정사유'].isna()\n",
    "print(na_filter.value_counts())\n",
    "pd_data.loc[na_filter, '지정사유'] = '불분명' # pd_data['지정사유'].fillna('불분명')\n",
    "\n",
    "# 오류치: 같은내용 다른이름 정리\n",
    "def e1(x):\n",
    "    if'원활' in x:\n",
    "        return '원활'\n",
    "    elif '불편' in x:\n",
    "        return '불편'\n",
    "    elif '안전' in x:\n",
    "        return '안전'\n",
    "    elif '혼잡' in x:\n",
    "        return '혼잡'\n",
    "    else:\n",
    "        return x\n",
    "    \n",
    "    \n",
    "pd_data.loc[:, '지정사유'] = pd_data.loc[:, '지정사유'].apply(e1)\n",
    "\n",
    "# 이상치 : 없음         "
   ]
  },
  {
   "cell_type": "code",
   "execution_count": 6,
   "id": "690e0c77",
   "metadata": {},
   "outputs": [
    {
     "name": "stdout",
     "output_type": "stream",
     "text": [
      "[  nan 2017. 2018. 2014. 2005. 2019. 2022. 2016. 2012. 1999. 2021. 2015.\n",
      " 2013. 2004. 2002. 2008. 2009. 2010. 2011. 1998. 2001. 2003. 2006. 2000.\n",
      " 1995. 2020. 2007. 1990. 1997. 1996.]\n",
      "True\n",
      "True     1609\n",
      "False     550\n",
      "Name: 지정연도, dtype: int64\n"
     ]
    }
   ],
   "source": [
    "# 지정연도\n",
    "print(pd_data['지정연도'].unique())\n",
    "print(pd_data['지정연도'].hasnans)\n",
    "\n",
    "# 결측치\n",
    "na_filter = pd_data['지정연도'].isna()\n",
    "print(na_filter.value_counts())\n",
    "pd_data.loc[na_filter, '지정연도'] = 0"
   ]
  },
  {
   "cell_type": "code",
   "execution_count": 7,
   "id": "9818f84f",
   "metadata": {},
   "outputs": [
    {
     "name": "stdout",
     "output_type": "stream",
     "text": [
      "[ 5.   9.   4.   6.   7.5  8.   7.  12.  15.  16.   3.5  5.5  3.  10.\n",
      " 14.   4.5  6.5 15.5  2.5  7.1  9.8  9.7  6.3  3.7  8.5  8.2 14.6  2.\n",
      "  4.9  4.6  2.8  4.8  5.6  8.1  6.4  4.1  6.6  5.7  4.7  4.3  3.8  9.1\n",
      "  7.4  5.3  5.8  4.2 17.  13.5 24.  11.   9.5 22.  19.   3.2  4.4  5.1\n",
      "  5.9  3.9 32.   5.4  3.4 18.   7.3  3.3 13.   7.6  8.4  5.2  7.8  6.2\n",
      "  6.7  8.8  7.7  8.3  6.1  6.9  6.8]\n",
      "False\n",
      "count    2159.000000\n",
      "mean        5.917508\n",
      "std         2.297448\n",
      "min         2.000000\n",
      "25%         4.000000\n",
      "50%         6.000000\n",
      "75%         7.000000\n",
      "max        32.000000\n",
      "Name: 도로폭, dtype: float64\n",
      "-0.5 11.5\n",
      "False    2104\n",
      "True       55\n",
      "Name: 도로폭, dtype: int64\n"
     ]
    }
   ],
   "source": [
    "# 도로폭\n",
    "print(pd_data['도로폭'].unique())\n",
    "print(pd_data['도로폭'].hasnans)\n",
    "\n",
    "# 결측치 없음\n",
    "\n",
    "# 오류치 : 없음\n",
    "\n",
    "# 이상치: upper 보다 큰 값을 np.NaN으로 교체, 후에 dropna() 이용 샘플 삭제\n",
    "print(pd_data['도로폭'].describe())\n",
    "q1, q3 = pd_data['도로폭'].quantile([0.25, 0.75])\n",
    "iqr = q3 - q1\n",
    "upper = q3 + 1.5 * iqr\n",
    "lower = q1 - 1.5 * iqr\n",
    "print(lower, upper)\n",
    "filter1 = pd_data['도로폭']>upper\n",
    "print(filter1.value_counts())\n",
    "pd_data.loc[filter1, '도로폭'] = np.NaN"
   ]
  },
  {
   "cell_type": "code",
   "execution_count": 19,
   "id": "3bf34bd5",
   "metadata": {},
   "outputs": [
    {
     "name": "stdout",
     "output_type": "stream",
     "text": [
      "[ 1.  2.  4.  3.  5. nan 60.]\n",
      "True\n",
      "False    2158\n",
      "True        1\n",
      "Name: 도로차로수, dtype: int64\n",
      "False    2158\n",
      "True        1\n",
      "Name: 도로차로수, dtype: int64\n"
     ]
    }
   ],
   "source": [
    "# 도로 차로수\n",
    "print(pd_data['도로차로수'].unique())\n",
    "print(pd_data['도로차로수'].hasnans)\n",
    "\n",
    "# 결측치\n",
    "na_filter = pd_data['도로차로수'].isna()\n",
    "print(na_filter.value_counts())\n",
    "\n",
    "#오류치 : 60  // 후에 dropna 이용\n",
    "filter1 = pd_data['도로차로수']==60\n",
    "print(filter1.value_counts())\n",
    "pd_data.loc[filter1, '도로차로수'] = np.NaN\n"
   ]
  },
  {
   "cell_type": "code",
   "execution_count": 22,
   "id": "85c7096c",
   "metadata": {},
   "outputs": [
    {
     "name": "stdout",
     "output_type": "stream",
     "text": [
      "['Y' 'N' ' ']\n",
      "False\n",
      "False    2158\n",
      "True        1\n",
      "Name: 보차분리여부, dtype: int64\n"
     ]
    }
   ],
   "source": [
    "# 보차분리여부\n",
    "print(pd_data['보차분리여부'].unique())\n",
    "print(pd_data['보차분리여부'].hasnans)\n",
    "\n",
    "# 결측치: '  '  \n",
    "na_filter = pd_data['보차분리여부'] == ' '\n",
    "print(na_filter.value_counts())\n",
    "pd_data.loc[na_filter, '보차분리여부'] = np.NaN\n",
    "\n",
    "# 오류치, 이상치 : 없음\n"
   ]
  },
  {
   "cell_type": "code",
   "execution_count": 23,
   "id": "1eab1cf7",
   "metadata": {},
   "outputs": [
    {
     "name": "stdout",
     "output_type": "stream",
     "text": [
      "(2159, 6)\n",
      "(134, 6)\n"
     ]
    }
   ],
   "source": [
    "pd_data_f = pd_data.dropna()\n",
    "print(pd_data.shape)\n",
    "print(pd_data_f.shape)"
   ]
  }
 ],
 "metadata": {
  "kernelspec": {
   "display_name": "Python 3 (ipykernel)",
   "language": "python",
   "name": "python3"
  },
  "language_info": {
   "codemirror_mode": {
    "name": "ipython",
    "version": 3
   },
   "file_extension": ".py",
   "mimetype": "text/x-python",
   "name": "python",
   "nbconvert_exporter": "python",
   "pygments_lexer": "ipython3",
   "version": "3.10.9"
  }
 },
 "nbformat": 4,
 "nbformat_minor": 5
}

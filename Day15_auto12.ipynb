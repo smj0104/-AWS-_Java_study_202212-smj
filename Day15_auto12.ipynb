{
 "cells": [
  {
   "cell_type": "code",
   "execution_count": null,
   "id": "2f3f31b3",
   "metadata": {},
   "outputs": [],
   "source": [
    "import numpy as np\n",
    "import matplotlib.pyplot as plt\n",
    "from scipy import stats\n",
    "\n",
    "np.set_printoptions(precision = 5, suppress = True)"
   ]
  },
  {
   "cell_type": "code",
   "execution_count": 4,
   "id": "7d566e67",
   "metadata": {},
   "outputs": [],
   "source": [
    "def read_data():\n",
    "    raw_data=[]\n",
    "    with open('가스공급량_20230217170920.csv') as f:\n",
    "        for line in f:\n",
    "            raw_data.append(line[:-1].split(','))\n",
    "    np_data = np.array(raw_data[2:])\n",
    "    np_data = np_data[:,2].astype(np.int64)\n",
    "    return np_data\n",
    "\n",
    "def get_corr(np_data):\n",
    "    by_year = np.add.reduceat(np_data, np.arange(0,130,12))\n",
    "    return np.corrcoef(by_year[:,1], by_year[:,5])\n",
    "\n",
    "\n",
    "        "
   ]
  },
  {
   "cell_type": "code",
   "execution_count": null,
   "id": "dd08d6d1",
   "metadata": {},
   "outputs": [],
   "source": [
    "d = read_data()\n",
    "get_corr(d)\n",
    "print(out)"
   ]
  }
 ],
 "metadata": {
  "kernelspec": {
   "display_name": "Python 3 (ipykernel)",
   "language": "python",
   "name": "python3"
  },
  "language_info": {
   "codemirror_mode": {
    "name": "ipython",
    "version": 3
   },
   "file_extension": ".py",
   "mimetype": "text/x-python",
   "name": "python",
   "nbconvert_exporter": "python",
   "pygments_lexer": "ipython3",
   "version": "3.10.9"
  }
 },
 "nbformat": 4,
 "nbformat_minor": 5
}
